{
 "cells": [
  {
   "cell_type": "markdown",
   "id": "f1aa9ace-dd43-4b90-b57f-cb999f63dea6",
   "metadata": {},
   "source": [
    "# super market sales analysis \n"
   ]
  },
  {
   "cell_type": "markdown",
   "id": "4d813eff-b91f-4e09-b4b5-e7795cf942ea",
   "metadata": {},
   "source": [
    "### problem statement :\n",
    "\n",
    "The growth of supermarkets in most populated cities is increasing and market \r\n",
    "competition is also high. This dataset is one of the historical sales of supermarket \r\n",
    "company which has recorded in 3 different branches for 3 months data. Predictive \r\n",
    "data analytics methods are easy to apply to these datasets"
   ]
  },
  {
   "cell_type": "markdown",
   "id": "554acf1a-92fe-4087-9abf-0109c5c98658",
   "metadata": {},
   "source": [
    "### About The Data Set :\n",
    "\n",
    "1. Invoice ID:\n",
    "A unique identifier for each transaction. It helps in tracking and referencing specific sales.\n",
    "2. Branch:\n",
    "The specific location of the supermarket where the transaction occurred. This helps in analyzing performance across different branches.\n",
    "3. City:\n",
    "The city where the branch is located. Useful for geographic analysis and market segmentation.\n",
    "4. Customer Type:\n",
    "Indicates whether the customer is a \"Member\" or \"Normal.\" This can help in understanding purchasing behavior and loyalty.\n",
    "5. Gender:\n",
    "The gender of the customer. This demographic data can help in tailoring marketing strategies and product offerings.\n",
    "6. Product Line:\n",
    "The category or type of product sold (e.g., electronics, groceries). This helps in analyzing sales performance across different product categories.\n",
    "7. Unit Price:\n",
    "The price for a single unit of the product. This is crucial for calculating total sales and profit margins.\n",
    "8. Quantity:\n",
    "The number of units sold in the transaction. This, combined with unit price, helps calculate total sales revenue.\n",
    "9. Tax 5%:\n",
    "The tax applied to the total sale amount. Understanding tax impact is important for financial reporting and pricing strategies.\n",
    "10. Total:\n",
    "The total amount charged to the customer, including product costs and taxes. This is key for sales analysis.\n",
    "11. Date:\n",
    "The date on which the transaction occurred. Analyzing sales over time helps in identifying trends and seasonality.\n",
    "12. Time:\n",
    "The specific time of the transaction. This can help analyze peak shopping hours and customer flow.\n",
    "13. Payment:\n",
    "The method of payment used (e.g., credit card, cash). Understanding payment preferences can inform payment processing strategies.\n",
    "14. COGS (Cost of Goods Sold):\n",
    "The direct costs attributable to the production of the goods sold. This is critical for calculating gross profit.\n",
    "15. Gross Margin Percentage:\n",
    "The percentage of revenue that exceeds the COGS. This is a key indicator of financial health and pricing strategy.\n",
    "16. Gross Income:\n",
    "The total income from sales minus the cost of goods sold. It's an important measure of profitability.\n",
    "17. Rating:\n",
    "A customer satisfaction score or rating. This feedback can guide improvements in producets"
   ]
  },
  {
   "cell_type": "markdown",
   "id": "2a6d64f2-a564-4bc3-a070-71ded23d298d",
   "metadata": {},
   "source": [
    "### importing liberaries :\n"
   ]
  },
  {
   "cell_type": "code",
   "execution_count": 1,
   "id": "d4d903d4-ecc5-4d82-8e75-5a7494f4773c",
   "metadata": {},
   "outputs": [],
   "source": [
    "import pandas as pd # required liberaries \n",
    "import numpy as np\n",
    "import matplotlib.pyplot as plt #for visualization\n",
    "import seaborn as sns \n",
    "import warnings as wrn\n",
    "import plotly.express as px"
   ]
  },
  {
   "cell_type": "markdown",
   "id": "a007bf46-08d3-4d22-82f9-c3aed08e06d3",
   "metadata": {},
   "source": [
    "### importing data set "
   ]
  },
  {
   "cell_type": "code",
   "execution_count": 2,
   "id": "003ec8bb-41c2-44d5-8032-dda12732c832",
   "metadata": {},
   "outputs": [
    {
     "data": {
      "text/html": [
       "<div>\n",
       "<style scoped>\n",
       "    .dataframe tbody tr th:only-of-type {\n",
       "        vertical-align: middle;\n",
       "    }\n",
       "\n",
       "    .dataframe tbody tr th {\n",
       "        vertical-align: top;\n",
       "    }\n",
       "\n",
       "    .dataframe thead th {\n",
       "        text-align: right;\n",
       "    }\n",
       "</style>\n",
       "<table border=\"1\" class=\"dataframe\">\n",
       "  <thead>\n",
       "    <tr style=\"text-align: right;\">\n",
       "      <th></th>\n",
       "      <th>Invoice ID</th>\n",
       "      <th>Branch</th>\n",
       "      <th>City</th>\n",
       "      <th>Customer type</th>\n",
       "      <th>Gender</th>\n",
       "      <th>Product line</th>\n",
       "      <th>Unit price</th>\n",
       "      <th>Quantity</th>\n",
       "      <th>Tax 5%</th>\n",
       "      <th>Total</th>\n",
       "      <th>Date</th>\n",
       "      <th>Time</th>\n",
       "      <th>Payment</th>\n",
       "      <th>cogs</th>\n",
       "      <th>gross margin percentage</th>\n",
       "      <th>gross income</th>\n",
       "      <th>Rating</th>\n",
       "    </tr>\n",
       "  </thead>\n",
       "  <tbody>\n",
       "    <tr>\n",
       "      <th>0</th>\n",
       "      <td>750-67-8428</td>\n",
       "      <td>A</td>\n",
       "      <td>Yangon</td>\n",
       "      <td>Member</td>\n",
       "      <td>Female</td>\n",
       "      <td>Health and beauty</td>\n",
       "      <td>74.69</td>\n",
       "      <td>7</td>\n",
       "      <td>26.1415</td>\n",
       "      <td>548.9715</td>\n",
       "      <td>1/5/2019</td>\n",
       "      <td>13:08</td>\n",
       "      <td>Ewallet</td>\n",
       "      <td>522.83</td>\n",
       "      <td>4.761905</td>\n",
       "      <td>26.1415</td>\n",
       "      <td>9.1</td>\n",
       "    </tr>\n",
       "    <tr>\n",
       "      <th>1</th>\n",
       "      <td>226-31-3081</td>\n",
       "      <td>C</td>\n",
       "      <td>Naypyitaw</td>\n",
       "      <td>Normal</td>\n",
       "      <td>Female</td>\n",
       "      <td>Electronic accessories</td>\n",
       "      <td>15.28</td>\n",
       "      <td>5</td>\n",
       "      <td>3.8200</td>\n",
       "      <td>80.2200</td>\n",
       "      <td>3/8/2019</td>\n",
       "      <td>10:29</td>\n",
       "      <td>Cash</td>\n",
       "      <td>76.40</td>\n",
       "      <td>4.761905</td>\n",
       "      <td>3.8200</td>\n",
       "      <td>9.6</td>\n",
       "    </tr>\n",
       "    <tr>\n",
       "      <th>2</th>\n",
       "      <td>631-41-3108</td>\n",
       "      <td>A</td>\n",
       "      <td>Yangon</td>\n",
       "      <td>Normal</td>\n",
       "      <td>Male</td>\n",
       "      <td>Home and lifestyle</td>\n",
       "      <td>46.33</td>\n",
       "      <td>7</td>\n",
       "      <td>16.2155</td>\n",
       "      <td>340.5255</td>\n",
       "      <td>3/3/2019</td>\n",
       "      <td>13:23</td>\n",
       "      <td>Credit card</td>\n",
       "      <td>324.31</td>\n",
       "      <td>4.761905</td>\n",
       "      <td>16.2155</td>\n",
       "      <td>7.4</td>\n",
       "    </tr>\n",
       "    <tr>\n",
       "      <th>3</th>\n",
       "      <td>123-19-1176</td>\n",
       "      <td>A</td>\n",
       "      <td>Yangon</td>\n",
       "      <td>Member</td>\n",
       "      <td>Male</td>\n",
       "      <td>Health and beauty</td>\n",
       "      <td>58.22</td>\n",
       "      <td>8</td>\n",
       "      <td>23.2880</td>\n",
       "      <td>489.0480</td>\n",
       "      <td>1/27/2019</td>\n",
       "      <td>20:33</td>\n",
       "      <td>Ewallet</td>\n",
       "      <td>465.76</td>\n",
       "      <td>4.761905</td>\n",
       "      <td>23.2880</td>\n",
       "      <td>8.4</td>\n",
       "    </tr>\n",
       "    <tr>\n",
       "      <th>4</th>\n",
       "      <td>373-73-7910</td>\n",
       "      <td>A</td>\n",
       "      <td>Yangon</td>\n",
       "      <td>Normal</td>\n",
       "      <td>Male</td>\n",
       "      <td>Sports and travel</td>\n",
       "      <td>86.31</td>\n",
       "      <td>7</td>\n",
       "      <td>30.2085</td>\n",
       "      <td>634.3785</td>\n",
       "      <td>2/8/2019</td>\n",
       "      <td>10:37</td>\n",
       "      <td>Ewallet</td>\n",
       "      <td>604.17</td>\n",
       "      <td>4.761905</td>\n",
       "      <td>30.2085</td>\n",
       "      <td>5.3</td>\n",
       "    </tr>\n",
       "    <tr>\n",
       "      <th>...</th>\n",
       "      <td>...</td>\n",
       "      <td>...</td>\n",
       "      <td>...</td>\n",
       "      <td>...</td>\n",
       "      <td>...</td>\n",
       "      <td>...</td>\n",
       "      <td>...</td>\n",
       "      <td>...</td>\n",
       "      <td>...</td>\n",
       "      <td>...</td>\n",
       "      <td>...</td>\n",
       "      <td>...</td>\n",
       "      <td>...</td>\n",
       "      <td>...</td>\n",
       "      <td>...</td>\n",
       "      <td>...</td>\n",
       "      <td>...</td>\n",
       "    </tr>\n",
       "    <tr>\n",
       "      <th>995</th>\n",
       "      <td>233-67-5758</td>\n",
       "      <td>C</td>\n",
       "      <td>Naypyitaw</td>\n",
       "      <td>Normal</td>\n",
       "      <td>Male</td>\n",
       "      <td>Health and beauty</td>\n",
       "      <td>40.35</td>\n",
       "      <td>1</td>\n",
       "      <td>2.0175</td>\n",
       "      <td>42.3675</td>\n",
       "      <td>1/29/2019</td>\n",
       "      <td>13:46</td>\n",
       "      <td>Ewallet</td>\n",
       "      <td>40.35</td>\n",
       "      <td>4.761905</td>\n",
       "      <td>2.0175</td>\n",
       "      <td>6.2</td>\n",
       "    </tr>\n",
       "    <tr>\n",
       "      <th>996</th>\n",
       "      <td>303-96-2227</td>\n",
       "      <td>B</td>\n",
       "      <td>Mandalay</td>\n",
       "      <td>Normal</td>\n",
       "      <td>Female</td>\n",
       "      <td>Home and lifestyle</td>\n",
       "      <td>97.38</td>\n",
       "      <td>10</td>\n",
       "      <td>48.6900</td>\n",
       "      <td>1022.4900</td>\n",
       "      <td>3/2/2019</td>\n",
       "      <td>17:16</td>\n",
       "      <td>Ewallet</td>\n",
       "      <td>973.80</td>\n",
       "      <td>4.761905</td>\n",
       "      <td>48.6900</td>\n",
       "      <td>4.4</td>\n",
       "    </tr>\n",
       "    <tr>\n",
       "      <th>997</th>\n",
       "      <td>727-02-1313</td>\n",
       "      <td>A</td>\n",
       "      <td>Yangon</td>\n",
       "      <td>Member</td>\n",
       "      <td>Male</td>\n",
       "      <td>Food and beverages</td>\n",
       "      <td>31.84</td>\n",
       "      <td>1</td>\n",
       "      <td>1.5920</td>\n",
       "      <td>33.4320</td>\n",
       "      <td>2/9/2019</td>\n",
       "      <td>13:22</td>\n",
       "      <td>Cash</td>\n",
       "      <td>31.84</td>\n",
       "      <td>4.761905</td>\n",
       "      <td>1.5920</td>\n",
       "      <td>7.7</td>\n",
       "    </tr>\n",
       "    <tr>\n",
       "      <th>998</th>\n",
       "      <td>347-56-2442</td>\n",
       "      <td>A</td>\n",
       "      <td>Yangon</td>\n",
       "      <td>Normal</td>\n",
       "      <td>Male</td>\n",
       "      <td>Home and lifestyle</td>\n",
       "      <td>65.82</td>\n",
       "      <td>1</td>\n",
       "      <td>3.2910</td>\n",
       "      <td>69.1110</td>\n",
       "      <td>2/22/2019</td>\n",
       "      <td>15:33</td>\n",
       "      <td>Cash</td>\n",
       "      <td>65.82</td>\n",
       "      <td>4.761905</td>\n",
       "      <td>3.2910</td>\n",
       "      <td>4.1</td>\n",
       "    </tr>\n",
       "    <tr>\n",
       "      <th>999</th>\n",
       "      <td>849-09-3807</td>\n",
       "      <td>A</td>\n",
       "      <td>Yangon</td>\n",
       "      <td>Member</td>\n",
       "      <td>Female</td>\n",
       "      <td>Fashion accessories</td>\n",
       "      <td>88.34</td>\n",
       "      <td>7</td>\n",
       "      <td>30.9190</td>\n",
       "      <td>649.2990</td>\n",
       "      <td>2/18/2019</td>\n",
       "      <td>13:28</td>\n",
       "      <td>Cash</td>\n",
       "      <td>618.38</td>\n",
       "      <td>4.761905</td>\n",
       "      <td>30.9190</td>\n",
       "      <td>6.6</td>\n",
       "    </tr>\n",
       "  </tbody>\n",
       "</table>\n",
       "<p>1000 rows × 17 columns</p>\n",
       "</div>"
      ],
      "text/plain": [
       "      Invoice ID Branch       City Customer type  Gender  \\\n",
       "0    750-67-8428      A     Yangon        Member  Female   \n",
       "1    226-31-3081      C  Naypyitaw        Normal  Female   \n",
       "2    631-41-3108      A     Yangon        Normal    Male   \n",
       "3    123-19-1176      A     Yangon        Member    Male   \n",
       "4    373-73-7910      A     Yangon        Normal    Male   \n",
       "..           ...    ...        ...           ...     ...   \n",
       "995  233-67-5758      C  Naypyitaw        Normal    Male   \n",
       "996  303-96-2227      B   Mandalay        Normal  Female   \n",
       "997  727-02-1313      A     Yangon        Member    Male   \n",
       "998  347-56-2442      A     Yangon        Normal    Male   \n",
       "999  849-09-3807      A     Yangon        Member  Female   \n",
       "\n",
       "               Product line  Unit price  Quantity   Tax 5%      Total  \\\n",
       "0         Health and beauty       74.69         7  26.1415   548.9715   \n",
       "1    Electronic accessories       15.28         5   3.8200    80.2200   \n",
       "2        Home and lifestyle       46.33         7  16.2155   340.5255   \n",
       "3         Health and beauty       58.22         8  23.2880   489.0480   \n",
       "4         Sports and travel       86.31         7  30.2085   634.3785   \n",
       "..                      ...         ...       ...      ...        ...   \n",
       "995       Health and beauty       40.35         1   2.0175    42.3675   \n",
       "996      Home and lifestyle       97.38        10  48.6900  1022.4900   \n",
       "997      Food and beverages       31.84         1   1.5920    33.4320   \n",
       "998      Home and lifestyle       65.82         1   3.2910    69.1110   \n",
       "999     Fashion accessories       88.34         7  30.9190   649.2990   \n",
       "\n",
       "          Date   Time      Payment    cogs  gross margin percentage  \\\n",
       "0     1/5/2019  13:08      Ewallet  522.83                 4.761905   \n",
       "1     3/8/2019  10:29         Cash   76.40                 4.761905   \n",
       "2     3/3/2019  13:23  Credit card  324.31                 4.761905   \n",
       "3    1/27/2019  20:33      Ewallet  465.76                 4.761905   \n",
       "4     2/8/2019  10:37      Ewallet  604.17                 4.761905   \n",
       "..         ...    ...          ...     ...                      ...   \n",
       "995  1/29/2019  13:46      Ewallet   40.35                 4.761905   \n",
       "996   3/2/2019  17:16      Ewallet  973.80                 4.761905   \n",
       "997   2/9/2019  13:22         Cash   31.84                 4.761905   \n",
       "998  2/22/2019  15:33         Cash   65.82                 4.761905   \n",
       "999  2/18/2019  13:28         Cash  618.38                 4.761905   \n",
       "\n",
       "     gross income  Rating  \n",
       "0         26.1415     9.1  \n",
       "1          3.8200     9.6  \n",
       "2         16.2155     7.4  \n",
       "3         23.2880     8.4  \n",
       "4         30.2085     5.3  \n",
       "..            ...     ...  \n",
       "995        2.0175     6.2  \n",
       "996       48.6900     4.4  \n",
       "997        1.5920     7.7  \n",
       "998        3.2910     4.1  \n",
       "999       30.9190     6.6  \n",
       "\n",
       "[1000 rows x 17 columns]"
      ]
     },
     "execution_count": 2,
     "metadata": {},
     "output_type": "execute_result"
    }
   ],
   "source": [
    "df=pd.read_csv(r\"C:\\Users\\Karthik Krishna.K\\Desktop\\Zomato Delivery Analysis\\Supermarket Data-Analysis\\Supermarket Data-Analysis\\supermarket_sales - Sheet1.csv\")\n",
    "df"
   ]
  },
  {
   "cell_type": "markdown",
   "id": "7e5076f8-d9e5-40e3-ae7f-f8b3054fadfe",
   "metadata": {},
   "source": [
    "### overview of the data set "
   ]
  },
  {
   "cell_type": "code",
   "execution_count": 3,
   "id": "a2183428-19af-42c1-be0d-246338cd7c68",
   "metadata": {},
   "outputs": [
    {
     "data": {
      "text/html": [
       "<div>\n",
       "<style scoped>\n",
       "    .dataframe tbody tr th:only-of-type {\n",
       "        vertical-align: middle;\n",
       "    }\n",
       "\n",
       "    .dataframe tbody tr th {\n",
       "        vertical-align: top;\n",
       "    }\n",
       "\n",
       "    .dataframe thead th {\n",
       "        text-align: right;\n",
       "    }\n",
       "</style>\n",
       "<table border=\"1\" class=\"dataframe\">\n",
       "  <thead>\n",
       "    <tr style=\"text-align: right;\">\n",
       "      <th></th>\n",
       "      <th>Invoice ID</th>\n",
       "      <th>Branch</th>\n",
       "      <th>City</th>\n",
       "      <th>Customer type</th>\n",
       "      <th>Gender</th>\n",
       "      <th>Product line</th>\n",
       "      <th>Unit price</th>\n",
       "      <th>Quantity</th>\n",
       "      <th>Tax 5%</th>\n",
       "      <th>Total</th>\n",
       "      <th>Date</th>\n",
       "      <th>Time</th>\n",
       "      <th>Payment</th>\n",
       "      <th>cogs</th>\n",
       "      <th>gross margin percentage</th>\n",
       "      <th>gross income</th>\n",
       "      <th>Rating</th>\n",
       "    </tr>\n",
       "  </thead>\n",
       "  <tbody>\n",
       "    <tr>\n",
       "      <th>27</th>\n",
       "      <td>189-17-4241</td>\n",
       "      <td>A</td>\n",
       "      <td>Yangon</td>\n",
       "      <td>Normal</td>\n",
       "      <td>Female</td>\n",
       "      <td>Fashion accessories</td>\n",
       "      <td>87.67</td>\n",
       "      <td>2</td>\n",
       "      <td>8.7670</td>\n",
       "      <td>184.1070</td>\n",
       "      <td>3/10/2019</td>\n",
       "      <td>12:17</td>\n",
       "      <td>Credit card</td>\n",
       "      <td>175.34</td>\n",
       "      <td>4.761905</td>\n",
       "      <td>8.7670</td>\n",
       "      <td>7.7</td>\n",
       "    </tr>\n",
       "    <tr>\n",
       "      <th>406</th>\n",
       "      <td>732-67-5346</td>\n",
       "      <td>A</td>\n",
       "      <td>Yangon</td>\n",
       "      <td>Normal</td>\n",
       "      <td>Male</td>\n",
       "      <td>Food and beverages</td>\n",
       "      <td>13.79</td>\n",
       "      <td>5</td>\n",
       "      <td>3.4475</td>\n",
       "      <td>72.3975</td>\n",
       "      <td>1/11/2019</td>\n",
       "      <td>19:07</td>\n",
       "      <td>Credit card</td>\n",
       "      <td>68.95</td>\n",
       "      <td>4.761905</td>\n",
       "      <td>3.4475</td>\n",
       "      <td>7.8</td>\n",
       "    </tr>\n",
       "    <tr>\n",
       "      <th>454</th>\n",
       "      <td>187-83-5490</td>\n",
       "      <td>A</td>\n",
       "      <td>Yangon</td>\n",
       "      <td>Member</td>\n",
       "      <td>Male</td>\n",
       "      <td>Electronic accessories</td>\n",
       "      <td>20.77</td>\n",
       "      <td>4</td>\n",
       "      <td>4.1540</td>\n",
       "      <td>87.2340</td>\n",
       "      <td>1/31/2019</td>\n",
       "      <td>13:47</td>\n",
       "      <td>Cash</td>\n",
       "      <td>83.08</td>\n",
       "      <td>4.761905</td>\n",
       "      <td>4.1540</td>\n",
       "      <td>4.7</td>\n",
       "    </tr>\n",
       "    <tr>\n",
       "      <th>725</th>\n",
       "      <td>149-14-0304</td>\n",
       "      <td>C</td>\n",
       "      <td>Naypyitaw</td>\n",
       "      <td>Member</td>\n",
       "      <td>Female</td>\n",
       "      <td>Health and beauty</td>\n",
       "      <td>28.50</td>\n",
       "      <td>8</td>\n",
       "      <td>11.4000</td>\n",
       "      <td>239.4000</td>\n",
       "      <td>2/6/2019</td>\n",
       "      <td>14:24</td>\n",
       "      <td>Cash</td>\n",
       "      <td>228.00</td>\n",
       "      <td>4.761905</td>\n",
       "      <td>11.4000</td>\n",
       "      <td>6.6</td>\n",
       "    </tr>\n",
       "    <tr>\n",
       "      <th>493</th>\n",
       "      <td>148-82-2527</td>\n",
       "      <td>C</td>\n",
       "      <td>Naypyitaw</td>\n",
       "      <td>Member</td>\n",
       "      <td>Female</td>\n",
       "      <td>Home and lifestyle</td>\n",
       "      <td>12.12</td>\n",
       "      <td>10</td>\n",
       "      <td>6.0600</td>\n",
       "      <td>127.2600</td>\n",
       "      <td>3/5/2019</td>\n",
       "      <td>13:44</td>\n",
       "      <td>Credit card</td>\n",
       "      <td>121.20</td>\n",
       "      <td>4.761905</td>\n",
       "      <td>6.0600</td>\n",
       "      <td>8.4</td>\n",
       "    </tr>\n",
       "  </tbody>\n",
       "</table>\n",
       "</div>"
      ],
      "text/plain": [
       "      Invoice ID Branch       City Customer type  Gender  \\\n",
       "27   189-17-4241      A     Yangon        Normal  Female   \n",
       "406  732-67-5346      A     Yangon        Normal    Male   \n",
       "454  187-83-5490      A     Yangon        Member    Male   \n",
       "725  149-14-0304      C  Naypyitaw        Member  Female   \n",
       "493  148-82-2527      C  Naypyitaw        Member  Female   \n",
       "\n",
       "               Product line  Unit price  Quantity   Tax 5%     Total  \\\n",
       "27      Fashion accessories       87.67         2   8.7670  184.1070   \n",
       "406      Food and beverages       13.79         5   3.4475   72.3975   \n",
       "454  Electronic accessories       20.77         4   4.1540   87.2340   \n",
       "725       Health and beauty       28.50         8  11.4000  239.4000   \n",
       "493      Home and lifestyle       12.12        10   6.0600  127.2600   \n",
       "\n",
       "          Date   Time      Payment    cogs  gross margin percentage  \\\n",
       "27   3/10/2019  12:17  Credit card  175.34                 4.761905   \n",
       "406  1/11/2019  19:07  Credit card   68.95                 4.761905   \n",
       "454  1/31/2019  13:47         Cash   83.08                 4.761905   \n",
       "725   2/6/2019  14:24         Cash  228.00                 4.761905   \n",
       "493   3/5/2019  13:44  Credit card  121.20                 4.761905   \n",
       "\n",
       "     gross income  Rating  \n",
       "27         8.7670     7.7  \n",
       "406        3.4475     7.8  \n",
       "454        4.1540     4.7  \n",
       "725       11.4000     6.6  \n",
       "493        6.0600     8.4  "
      ]
     },
     "execution_count": 3,
     "metadata": {},
     "output_type": "execute_result"
    }
   ],
   "source": [
    "df.sample(n=5)# overview of sample data for understanding "
   ]
  },
  {
   "cell_type": "code",
   "execution_count": 4,
   "id": "9fc2c387-09a2-4aab-a316-4e8310353b2c",
   "metadata": {},
   "outputs": [
    {
     "data": {
      "text/plain": [
       "(1000, 17)"
      ]
     },
     "execution_count": 4,
     "metadata": {},
     "output_type": "execute_result"
    }
   ],
   "source": [
    "df.shape # number of rows and columns in the data set "
   ]
  },
  {
   "cell_type": "code",
   "execution_count": 5,
   "id": "482cbbf6-6220-4aea-93db-e2f5ce7f91e9",
   "metadata": {},
   "outputs": [
    {
     "data": {
      "text/plain": [
       "17000"
      ]
     },
     "execution_count": 5,
     "metadata": {},
     "output_type": "execute_result"
    }
   ],
   "source": [
    "df.size # size of the data set "
   ]
  },
  {
   "cell_type": "code",
   "execution_count": 6,
   "id": "9bebd5d9-29c7-4f30-8799-c98e076aae9c",
   "metadata": {},
   "outputs": [
    {
     "data": {
      "text/plain": [
       "Invoice ID                 1000\n",
       "Branch                        3\n",
       "City                          3\n",
       "Customer type                 2\n",
       "Gender                        2\n",
       "Product line                  6\n",
       "Unit price                  943\n",
       "Quantity                     10\n",
       "Tax 5%                      990\n",
       "Total                       990\n",
       "Date                         89\n",
       "Time                        506\n",
       "Payment                       3\n",
       "cogs                        990\n",
       "gross margin percentage       1\n",
       "gross income                990\n",
       "Rating                       61\n",
       "dtype: int64"
      ]
     },
     "execution_count": 6,
     "metadata": {},
     "output_type": "execute_result"
    }
   ],
   "source": [
    "df.nunique() #number of unique values columns wise in the data set "
   ]
  },
  {
   "cell_type": "markdown",
   "id": "589e8781-e850-46cd-bb38-d2ff10213875",
   "metadata": {},
   "source": [
    "### observations :\n",
    "* by using nuniques() method we can get number of unique values in individual columns\n"
   ]
  },
  {
   "cell_type": "markdown",
   "id": "2d824fd8-68bc-47ac-b7a1-208e8a34b122",
   "metadata": {},
   "source": [
    "### data cleaning "
   ]
  },
  {
   "cell_type": "code",
   "execution_count": 7,
   "id": "548fa5f4-0e9a-40da-a70f-630071f77cea",
   "metadata": {},
   "outputs": [
    {
     "data": {
      "text/html": [
       "<div>\n",
       "<style scoped>\n",
       "    .dataframe tbody tr th:only-of-type {\n",
       "        vertical-align: middle;\n",
       "    }\n",
       "\n",
       "    .dataframe tbody tr th {\n",
       "        vertical-align: top;\n",
       "    }\n",
       "\n",
       "    .dataframe thead th {\n",
       "        text-align: right;\n",
       "    }\n",
       "</style>\n",
       "<table border=\"1\" class=\"dataframe\">\n",
       "  <thead>\n",
       "    <tr style=\"text-align: right;\">\n",
       "      <th></th>\n",
       "      <th>Invoice ID</th>\n",
       "      <th>Branch</th>\n",
       "      <th>City</th>\n",
       "      <th>Customer type</th>\n",
       "      <th>Gender</th>\n",
       "      <th>Product line</th>\n",
       "      <th>Unit price</th>\n",
       "      <th>Quantity</th>\n",
       "      <th>Tax 5%</th>\n",
       "      <th>Total</th>\n",
       "      <th>Date</th>\n",
       "      <th>Time</th>\n",
       "      <th>Payment</th>\n",
       "      <th>cogs</th>\n",
       "      <th>gross margin percentage</th>\n",
       "      <th>gross income</th>\n",
       "      <th>Rating</th>\n",
       "    </tr>\n",
       "  </thead>\n",
       "  <tbody>\n",
       "  </tbody>\n",
       "</table>\n",
       "</div>"
      ],
      "text/plain": [
       "Empty DataFrame\n",
       "Columns: [Invoice ID, Branch, City, Customer type, Gender, Product line, Unit price, Quantity, Tax 5%, Total, Date, Time, Payment, cogs, gross margin percentage, gross income, Rating]\n",
       "Index: []"
      ]
     },
     "execution_count": 7,
     "metadata": {},
     "output_type": "execute_result"
    }
   ],
   "source": [
    "df[df.duplicated(keep=False)] # checking is there any duplicate values in the data set"
   ]
  },
  {
   "cell_type": "markdown",
   "id": "66132f15-eb19-4589-9784-9929630bc392",
   "metadata": {},
   "source": [
    "### observations :\n",
    "* there is no any duplicate values. so data set  have unique rows."
   ]
  },
  {
   "cell_type": "code",
   "execution_count": 8,
   "id": "7bfbe30d-92ff-4e03-aa98-2bb601b7aeaa",
   "metadata": {},
   "outputs": [
    {
     "data": {
      "text/plain": [
       "Invoice ID                 False\n",
       "Branch                     False\n",
       "City                       False\n",
       "Customer type              False\n",
       "Gender                     False\n",
       "Product line               False\n",
       "Unit price                 False\n",
       "Quantity                   False\n",
       "Tax 5%                     False\n",
       "Total                      False\n",
       "Date                       False\n",
       "Time                       False\n",
       "Payment                    False\n",
       "cogs                       False\n",
       "gross margin percentage    False\n",
       "gross income               False\n",
       "Rating                     False\n",
       "dtype: bool"
      ]
     },
     "execution_count": 8,
     "metadata": {},
     "output_type": "execute_result"
    }
   ],
   "source": [
    "df.isna().any() # checking is there is any null values in the data set "
   ]
  },
  {
   "cell_type": "code",
   "execution_count": 9,
   "id": "aaf85192-02e7-4afc-906c-00dbe1815e27",
   "metadata": {},
   "outputs": [
    {
     "data": {
      "text/plain": [
       "Invoice ID                 0\n",
       "Branch                     0\n",
       "City                       0\n",
       "Customer type              0\n",
       "Gender                     0\n",
       "Product line               0\n",
       "Unit price                 0\n",
       "Quantity                   0\n",
       "Tax 5%                     0\n",
       "Total                      0\n",
       "Date                       0\n",
       "Time                       0\n",
       "Payment                    0\n",
       "cogs                       0\n",
       "gross margin percentage    0\n",
       "gross income               0\n",
       "Rating                     0\n",
       "dtype: int64"
      ]
     },
     "execution_count": 9,
     "metadata": {},
     "output_type": "execute_result"
    }
   ],
   "source": [
    "df.isna().sum() # number of null values column wise in the data set "
   ]
  },
  {
   "cell_type": "markdown",
   "id": "9fc68957-3bf2-4ce4-b7a2-3765aee5326d",
   "metadata": {},
   "source": [
    "### observations :\n",
    "* there is no any null values in the data set "
   ]
  },
  {
   "cell_type": "code",
   "execution_count": 10,
   "id": "ae2ea462-512a-4671-8dfd-daed5ee7acaa",
   "metadata": {},
   "outputs": [
    {
     "data": {
      "text/plain": [
       "<Axes: >"
      ]
     },
     "execution_count": 10,
     "metadata": {},
     "output_type": "execute_result"
    },
    {
     "data": {
      "image/png": "[encoded data removed]",
      "text/plain": [
       "<Figure size 1200x600 with 1 Axes>"
      ]
     },
     "metadata": {},
     "output_type": "display_data"
    }
   ],
   "source": [
    "plt.figure(figsize=(12,6))\n",
    "sns.boxplot(df) # visualizing outliers by using boxplot "
   ]
  },
  {
   "cell_type": "markdown",
   "id": "7199110b-b127-4deb-a8f5-00d8a3e8a410",
   "metadata": {},
   "source": [
    "### observations :\n",
    "* we have seen some outliers in the data set\n",
    "* some columns have outliers existed.\n",
    "* Tax 5%,Total,cogs and gross income columns have outliers."
   ]
  },
  {
   "cell_type": "code",
   "execution_count": 11,
   "id": "33585a26-d4a3-4858-b5ee-020d5eb4fbc8",
   "metadata": {},
   "outputs": [
    {
     "data": {
      "text/plain": [
       "(991, 17)"
      ]
     },
     "execution_count": 11,
     "metadata": {},
     "output_type": "execute_result"
    }
   ],
   "source": [
    "def outliers(df, columns=None, mul=1.5): # handlling outliers \n",
    "    if columns is None:\n",
    "        columns = df.select_dtypes(\"number\").columns\n",
    "    filter_df = df.copy()\n",
    "    for column in columns:\n",
    "        Q1 = df[column].quantile(0.25)\n",
    "        Q3 = df[column].quantile(0.75)\n",
    "        IQR = Q3 - Q1  # Calculate IQR correctly\n",
    "        LB = Q1 - mul * IQR\n",
    "        UB = Q3 + mul * IQR\n",
    "        # Filter outliers\n",
    "        filter_df = filter_df[(filter_df[column] >= LB) & (filter_df[column] <= UB)]\n",
    "    return filter_df\n",
    "df_filter=outliers(df)\n",
    "df_filter.shape"
   ]
  },
  {
   "cell_type": "code",
   "execution_count": 12,
   "id": "37049720-e743-45d2-a687-d15d55e22d0c",
   "metadata": {},
   "outputs": [
    {
     "data": {
      "text/plain": [
       "<Axes: >"
      ]
     },
     "execution_count": 12,
     "metadata": {},
     "output_type": "execute_result"
    },
    {
     "data": {
      "image/png": "[encoded data removed]",
      "text/plain": [
       "<Figure size 1200x600 with 1 Axes>"
      ]
     },
     "metadata": {},
     "output_type": "display_data"
    }
   ],
   "source": [
    "plt.figure(figsize=(12,6))# boxplot of cleaned data set \n",
    "sns.boxplot(df_filter)"
   ]
  },
  {
   "cell_type": "markdown",
   "id": "a5486fae-9366-4784-97b8-ac4cf139ca1a",
   "metadata": {},
   "source": [
    "### observations :\n",
    "* There is no Outlayers on Boxplot after filtering Them "
   ]
  },
  {
   "cell_type": "markdown",
   "id": "5aa8fb1c-91c3-4486-a86d-bd91f3dff99e",
   "metadata": {},
   "source": [
    "### Descriptive statistics "
   ]
  },
  {
   "cell_type": "code",
   "execution_count": 13,
   "id": "875b7de5-c101-4ffe-8eab-c839c29b34e5",
   "metadata": {},
   "outputs": [
    {
     "data": {
      "text/html": [
       "<div>\n",
       "<style scoped>\n",
       "    .dataframe tbody tr th:only-of-type {\n",
       "        vertical-align: middle;\n",
       "    }\n",
       "\n",
       "    .dataframe tbody tr th {\n",
       "        vertical-align: top;\n",
       "    }\n",
       "\n",
       "    .dataframe thead th {\n",
       "        text-align: right;\n",
       "    }\n",
       "</style>\n",
       "<table border=\"1\" class=\"dataframe\">\n",
       "  <thead>\n",
       "    <tr style=\"text-align: right;\">\n",
       "      <th></th>\n",
       "      <th>Unit price</th>\n",
       "      <th>Quantity</th>\n",
       "      <th>Tax 5%</th>\n",
       "      <th>Total</th>\n",
       "      <th>cogs</th>\n",
       "      <th>gross margin percentage</th>\n",
       "      <th>gross income</th>\n",
       "      <th>Rating</th>\n",
       "    </tr>\n",
       "  </thead>\n",
       "  <tbody>\n",
       "    <tr>\n",
       "      <th>count</th>\n",
       "      <td>991.000000</td>\n",
       "      <td>991.000000</td>\n",
       "      <td>991.000000</td>\n",
       "      <td>991.000000</td>\n",
       "      <td>991.000000</td>\n",
       "      <td>9.910000e+02</td>\n",
       "      <td>991.000000</td>\n",
       "      <td>991.000000</td>\n",
       "    </tr>\n",
       "    <tr>\n",
       "      <th>mean</th>\n",
       "      <td>55.292482</td>\n",
       "      <td>5.469223</td>\n",
       "      <td>15.076417</td>\n",
       "      <td>316.604752</td>\n",
       "      <td>301.528335</td>\n",
       "      <td>4.761905e+00</td>\n",
       "      <td>15.076417</td>\n",
       "      <td>6.979717</td>\n",
       "    </tr>\n",
       "    <tr>\n",
       "      <th>std</th>\n",
       "      <td>26.311619</td>\n",
       "      <td>2.905031</td>\n",
       "      <td>11.319504</td>\n",
       "      <td>237.709589</td>\n",
       "      <td>226.390085</td>\n",
       "      <td>6.131525e-14</td>\n",
       "      <td>11.319504</td>\n",
       "      <td>1.716957</td>\n",
       "    </tr>\n",
       "    <tr>\n",
       "      <th>min</th>\n",
       "      <td>10.080000</td>\n",
       "      <td>1.000000</td>\n",
       "      <td>0.508500</td>\n",
       "      <td>10.678500</td>\n",
       "      <td>10.170000</td>\n",
       "      <td>4.761905e+00</td>\n",
       "      <td>0.508500</td>\n",
       "      <td>4.000000</td>\n",
       "    </tr>\n",
       "    <tr>\n",
       "      <th>25%</th>\n",
       "      <td>32.665000</td>\n",
       "      <td>3.000000</td>\n",
       "      <td>5.817500</td>\n",
       "      <td>122.167500</td>\n",
       "      <td>116.350000</td>\n",
       "      <td>4.761905e+00</td>\n",
       "      <td>5.817500</td>\n",
       "      <td>5.500000</td>\n",
       "    </tr>\n",
       "    <tr>\n",
       "      <th>50%</th>\n",
       "      <td>54.840000</td>\n",
       "      <td>5.000000</td>\n",
       "      <td>12.036000</td>\n",
       "      <td>252.756000</td>\n",
       "      <td>240.720000</td>\n",
       "      <td>4.761905e+00</td>\n",
       "      <td>12.036000</td>\n",
       "      <td>7.000000</td>\n",
       "    </tr>\n",
       "    <tr>\n",
       "      <th>75%</th>\n",
       "      <td>77.485000</td>\n",
       "      <td>8.000000</td>\n",
       "      <td>22.127000</td>\n",
       "      <td>464.667000</td>\n",
       "      <td>442.540000</td>\n",
       "      <td>4.761905e+00</td>\n",
       "      <td>22.127000</td>\n",
       "      <td>8.500000</td>\n",
       "    </tr>\n",
       "    <tr>\n",
       "      <th>max</th>\n",
       "      <td>99.960000</td>\n",
       "      <td>10.000000</td>\n",
       "      <td>45.325000</td>\n",
       "      <td>951.825000</td>\n",
       "      <td>906.500000</td>\n",
       "      <td>4.761905e+00</td>\n",
       "      <td>45.325000</td>\n",
       "      <td>10.000000</td>\n",
       "    </tr>\n",
       "  </tbody>\n",
       "</table>\n",
       "</div>"
      ],
      "text/plain": [
       "       Unit price    Quantity      Tax 5%       Total        cogs  \\\n",
       "count  991.000000  991.000000  991.000000  991.000000  991.000000   \n",
       "mean    55.292482    5.469223   15.076417  316.604752  301.528335   \n",
       "std     26.311619    2.905031   11.319504  237.709589  226.390085   \n",
       "min     10.080000    1.000000    0.508500   10.678500   10.170000   \n",
       "25%     32.665000    3.000000    5.817500  122.167500  116.350000   \n",
       "50%     54.840000    5.000000   12.036000  252.756000  240.720000   \n",
       "75%     77.485000    8.000000   22.127000  464.667000  442.540000   \n",
       "max     99.960000   10.000000   45.325000  951.825000  906.500000   \n",
       "\n",
       "       gross margin percentage  gross income      Rating  \n",
       "count             9.910000e+02    991.000000  991.000000  \n",
       "mean              4.761905e+00     15.076417    6.979717  \n",
       "std               6.131525e-14     11.319504    1.716957  \n",
       "min               4.761905e+00      0.508500    4.000000  \n",
       "25%               4.761905e+00      5.817500    5.500000  \n",
       "50%               4.761905e+00     12.036000    7.000000  \n",
       "75%               4.761905e+00     22.127000    8.500000  \n",
       "max               4.761905e+00     45.325000   10.000000  "
      ]
     },
     "execution_count": 13,
     "metadata": {},
     "output_type": "execute_result"
    }
   ],
   "source": [
    "df_filter.describe()"
   ]
  },
  {
   "cell_type": "markdown",
   "id": "183fc50e-250b-4d8a-935d-8d65802dd637",
   "metadata": {},
   "source": [
    "### observations :\n",
    "* descriptive statistics gives statistic analysis of filtered data set.\n",
    "* it gives values like mean,median,mode and standard deviation  for individual columns.\n",
    "* it also gives minimum,maximum values of individual columns.\n",
    "* it also gives 25th ,50th and 75th percentiles of data values for individual columns."
   ]
  },
  {
   "cell_type": "code",
   "execution_count": 14,
   "id": "3d13add3-203c-4ead-a81a-c823cc86de99",
   "metadata": {},
   "outputs": [
    {
     "data": {
      "text/html": [
       "<div>\n",
       "<style scoped>\n",
       "    .dataframe tbody tr th:only-of-type {\n",
       "        vertical-align: middle;\n",
       "    }\n",
       "\n",
       "    .dataframe tbody tr th {\n",
       "        vertical-align: top;\n",
       "    }\n",
       "\n",
       "    .dataframe thead th {\n",
       "        text-align: right;\n",
       "    }\n",
       "</style>\n",
       "<table border=\"1\" class=\"dataframe\">\n",
       "  <thead>\n",
       "    <tr style=\"text-align: right;\">\n",
       "      <th></th>\n",
       "      <th>Invoice ID</th>\n",
       "      <th>Branch</th>\n",
       "      <th>City</th>\n",
       "      <th>Customer type</th>\n",
       "      <th>Gender</th>\n",
       "      <th>Product line</th>\n",
       "      <th>Date</th>\n",
       "      <th>Time</th>\n",
       "      <th>Payment</th>\n",
       "    </tr>\n",
       "  </thead>\n",
       "  <tbody>\n",
       "    <tr>\n",
       "      <th>count</th>\n",
       "      <td>991</td>\n",
       "      <td>991</td>\n",
       "      <td>991</td>\n",
       "      <td>991</td>\n",
       "      <td>991</td>\n",
       "      <td>991</td>\n",
       "      <td>991</td>\n",
       "      <td>991</td>\n",
       "      <td>991</td>\n",
       "    </tr>\n",
       "    <tr>\n",
       "      <th>unique</th>\n",
       "      <td>991</td>\n",
       "      <td>3</td>\n",
       "      <td>3</td>\n",
       "      <td>2</td>\n",
       "      <td>2</td>\n",
       "      <td>6</td>\n",
       "      <td>89</td>\n",
       "      <td>504</td>\n",
       "      <td>3</td>\n",
       "    </tr>\n",
       "    <tr>\n",
       "      <th>top</th>\n",
       "      <td>750-67-8428</td>\n",
       "      <td>A</td>\n",
       "      <td>Yangon</td>\n",
       "      <td>Member</td>\n",
       "      <td>Male</td>\n",
       "      <td>Fashion accessories</td>\n",
       "      <td>2/7/2019</td>\n",
       "      <td>14:42</td>\n",
       "      <td>Ewallet</td>\n",
       "    </tr>\n",
       "    <tr>\n",
       "      <th>freq</th>\n",
       "      <td>1</td>\n",
       "      <td>339</td>\n",
       "      <td>339</td>\n",
       "      <td>498</td>\n",
       "      <td>496</td>\n",
       "      <td>175</td>\n",
       "      <td>20</td>\n",
       "      <td>7</td>\n",
       "      <td>342</td>\n",
       "    </tr>\n",
       "  </tbody>\n",
       "</table>\n",
       "</div>"
      ],
      "text/plain": [
       "         Invoice ID Branch    City Customer type Gender         Product line  \\\n",
       "count           991    991     991           991    991                  991   \n",
       "unique          991      3       3             2      2                    6   \n",
       "top     750-67-8428      A  Yangon        Member   Male  Fashion accessories   \n",
       "freq              1    339     339           498    496                  175   \n",
       "\n",
       "            Date   Time  Payment  \n",
       "count        991    991      991  \n",
       "unique        89    504        3  \n",
       "top     2/7/2019  14:42  Ewallet  \n",
       "freq          20      7      342  "
      ]
     },
     "execution_count": 14,
     "metadata": {},
     "output_type": "execute_result"
    }
   ],
   "source": [
    "df_filter.describe(include=\"O\")"
   ]
  },
  {
   "cell_type": "markdown",
   "id": "01a5131a-e91e-4390-9ce0-6bf7115147c2",
   "metadata": {},
   "source": [
    "### observations :\n",
    "   * by using describe() method we are finding descriptive analysis for cateogrical columns\n",
    "   * in this we get some values like count,number of unique vlues ,first row value and frequency of individual columns."
   ]
  },
  {
   "cell_type": "markdown",
   "id": "4265da4e-78d8-4873-8106-c561587b0491",
   "metadata": {},
   "source": [
    "### info :"
   ]
  },
  {
   "cell_type": "code",
   "execution_count": 15,
   "id": "55f7a38b-c2f0-4b3e-befc-756ae5e8b602",
   "metadata": {},
   "outputs": [
    {
     "name": "stdout",
     "output_type": "stream",
     "text": [
      "<class 'pandas.core.frame.DataFrame'>\n",
      "Index: 991 entries, 0 to 999\n",
      "Data columns (total 17 columns):\n",
      " #   Column                   Non-Null Count  Dtype  \n",
      "---  ------                   --------------  -----  \n",
      " 0   Invoice ID               991 non-null    object \n",
      " 1   Branch                   991 non-null    object \n",
      " 2   City                     991 non-null    object \n",
      " 3   Customer type            991 non-null    object \n",
      " 4   Gender                   991 non-null    object \n",
      " 5   Product line             991 non-null    object \n",
      " 6   Unit price               991 non-null    float64\n",
      " 7   Quantity                 991 non-null    int64  \n",
      " 8   Tax 5%                   991 non-null    float64\n",
      " 9   Total                    991 non-null    float64\n",
      " 10  Date                     991 non-null    object \n",
      " 11  Time                     991 non-null    object \n",
      " 12  Payment                  991 non-null    object \n",
      " 13  cogs                     991 non-null    float64\n",
      " 14  gross margin percentage  991 non-null    float64\n",
      " 15  gross income             991 non-null    float64\n",
      " 16  Rating                   991 non-null    float64\n",
      "dtypes: float64(7), int64(1), object(9)\n",
      "memory usage: 139.4+ KB\n"
     ]
    }
   ],
   "source": [
    "df_filter.info()"
   ]
  },
  {
   "cell_type": "markdown",
   "id": "456b5c2c-4554-49e9-b3d0-cac906d113d2",
   "metadata": {},
   "source": [
    "#### Bi varient analysis "
   ]
  },
  {
   "cell_type": "markdown",
   "id": "24d00b82-2be3-41a2-a40b-d414175e5eb9",
   "metadata": {},
   "source": [
    "#### Branch vs Total "
   ]
  },
  {
   "cell_type": "code",
   "execution_count": 67,
   "id": "b25a1df7-f47f-459d-b371-6c841fb712c2",
   "metadata": {},
   "outputs": [
    {
     "name": "stdout",
     "output_type": "stream",
     "text": [
      "  Branch        Total\n",
      "0      A  105161.0805\n",
      "1      B  104152.7970\n",
      "2      C  104441.4315\n"
     ]
    },
    {
     "data": {
      "application/vnd.plotly.v1+json": {
       "config": {
        "plotlyServerURL": "https://plot.ly"
       },
       "data": [
        {
         "hovertemplate": "Branch=%{x}<br>Total=%{y}<extra></extra>",
         "legendgroup": "",
         "line": {
          "color": "#636efa",
          "dash": "solid"
         },
         "marker": {
          "symbol": "circle"
         },
         "mode": "markers+lines",
         "name": "",
         "orientation": "v",
         "showlegend": false,
         "type": "scatter",
         "x": [
          "A",
          "B",
          "C"
         ],
         "xaxis": "x",
         "y": [
          105161.0805,
          104152.797,
          104441.4315
         ],
         "yaxis": "y"
        }
       ],
       "layout": {
        "autosize": true,
        "legend": {
         "tracegroupgap": 0
        },
        "template": {
         "data": {
          "bar": [
           {
            "error_x": {
             "color": "#2a3f5f"
            },
            "error_y": {
             "color": "#2a3f5f"
            },
            "marker": {
             "line": {
              "color": "#E5ECF6",
              "width": 0.5
             },
             "pattern": {
              "fillmode": "overlay",
              "size": 10,
              "solidity": 0.2
             }
            },
            "type": "bar"
           }
          ],
          "barpolar": [
           {
            "marker": {
             "line": {
              "color": "#E5ECF6",
              "width": 0.5
             },
             "pattern": {
              "fillmode": "overlay",
              "size": 10,
              "solidity": 0.2
             }
            },
            "type": "barpolar"
           }
          ],
          "carpet": [
           {
            "aaxis": {
             "endlinecolor": "#2a3f5f",
             "gridcolor": "white",
             "linecolor": "white",
             "minorgridcolor": "white",
             "startlinecolor": "#2a3f5f"
            },
            "baxis": {
             "endlinecolor": "#2a3f5f",
             "gridcolor": "white",
             "linecolor": "white",
             "minorgridcolor": "white",
             "startlinecolor": "#2a3f5f"
            },
            "type": "carpet"
           }
          ],
          "choropleth": [
           {
            "colorbar": {
             "outlinewidth": 0,
             "ticks": ""
            },
            "type": "choropleth"
           }
          ],
          "contour": [
           {
            "colorbar": {
             "outlinewidth": 0,
             "ticks": ""
            },
            "colorscale": [
             [
              0,
              "#0d0887"
             ],
             [
              0.1111111111111111,
              "#46039f"
             ],
             [
              0.2222222222222222,
              "#7201a8"
             ],
             [
              0.3333333333333333,
              "#9c179e"
             ],
             [
              0.4444444444444444,
              "#bd3786"
             ],
             [
              0.5555555555555556,
              "#d8576b"
             ],
             [
              0.6666666666666666,
              "#ed7953"
             ],
             [
              0.7777777777777778,
              "#fb9f3a"
             ],
             [
              0.8888888888888888,
              "#fdca26"
             ],
             [
              1,
              "#f0f921"
             ]
            ],
            "type": "contour"
           }
          ],
          "contourcarpet": [
           {
            "colorbar": {
             "outlinewidth": 0,
             "ticks": ""
            },
            "type": "contourcarpet"
           }
          ],
          "heatmap": [
           {
            "colorbar": {
             "outlinewidth": 0,
             "ticks": ""
            },
            "colorscale": [
             [
              0,
              "#0d0887"
             ],
             [
              0.1111111111111111,
              "#46039f"
             ],
             [
              0.2222222222222222,
              "#7201a8"
             ],
             [
              0.3333333333333333,
              "#9c179e"
             ],
             [
              0.4444444444444444,
              "#bd3786"
             ],
             [
              0.5555555555555556,
              "#d8576b"
             ],
             [
              0.6666666666666666,
              "#ed7953"
             ],
             [
              0.7777777777777778,
              "#fb9f3a"
             ],
             [
              0.8888888888888888,
              "#fdca26"
             ],
             [
              1,
              "#f0f921"
             ]
            ],
            "type": "heatmap"
           }
          ],
          "heatmapgl": [
           {
            "colorbar": {
             "outlinewidth": 0,
             "ticks": ""
            },
            "colorscale": [
             [
              0,
              "#0d0887"
             ],
             [
              0.1111111111111111,
              "#46039f"
             ],
             [
              0.2222222222222222,
              "#7201a8"
             ],
             [
              0.3333333333333333,
              "#9c179e"
             ],
             [
              0.4444444444444444,
              "#bd3786"
             ],
             [
              0.5555555555555556,
              "#d8576b"
             ],
             [
              0.6666666666666666,
              "#ed7953"
             ],
             [
              0.7777777777777778,
              "#fb9f3a"
             ],
             [
              0.8888888888888888,
              "#fdca26"
             ],
             [
              1,
              "#f0f921"
             ]
            ],
            "type": "heatmapgl"
           }
          ],
          "histogram": [
           {
            "marker": {
             "pattern": {
              "fillmode": "overlay",
              "size": 10,
              "solidity": 0.2
             }
            },
            "type": "histogram"
           }
          ],
          "histogram2d": [
           {
            "colorbar": {
             "outlinewidth": 0,
             "ticks": ""
            },
            "colorscale": [
             [
              0,
              "#0d0887"
             ],
             [
              0.1111111111111111,
              "#46039f"
             ],
             [
              0.2222222222222222,
              "#7201a8"
             ],
             [
              0.3333333333333333,
              "#9c179e"
             ],
             [
              0.4444444444444444,
              "#bd3786"
             ],
             [
              0.5555555555555556,
              "#d8576b"
             ],
             [
              0.6666666666666666,
              "#ed7953"
             ],
             [
              0.7777777777777778,
              "#fb9f3a"
             ],
             [
              0.8888888888888888,
              "#fdca26"
             ],
             [
              1,
              "#f0f921"
             ]
            ],
            "type": "histogram2d"
           }
          ],
          "histogram2dcontour": [
           {
            "colorbar": {
             "outlinewidth": 0,
             "ticks": ""
            },
            "colorscale": [
             [
              0,
              "#0d0887"
             ],
             [
              0.1111111111111111,
              "#46039f"
             ],
             [
              0.2222222222222222,
              "#7201a8"
             ],
             [
              0.3333333333333333,
              "#9c179e"
             ],
             [
              0.4444444444444444,
              "#bd3786"
             ],
             [
              0.5555555555555556,
              "#d8576b"
             ],
             [
              0.6666666666666666,
              "#ed7953"
             ],
             [
              0.7777777777777778,
              "#fb9f3a"
             ],
             [
              0.8888888888888888,
              "#fdca26"
             ],
             [
              1,
              "#f0f921"
             ]
            ],
            "type": "histogram2dcontour"
           }
          ],
          "mesh3d": [
           {
            "colorbar": {
             "outlinewidth": 0,
             "ticks": ""
            },
            "type": "mesh3d"
           }
          ],
          "parcoords": [
           {
            "line": {
             "colorbar": {
              "outlinewidth": 0,
              "ticks": ""
             }
            },
            "type": "parcoords"
           }
          ],
          "pie": [
           {
            "automargin": true,
            "type": "pie"
           }
          ],
          "scatter": [
           {
            "fillpattern": {
             "fillmode": "overlay",
             "size": 10,
             "solidity": 0.2
            },
            "type": "scatter"
           }
          ],
          "scatter3d": [
           {
            "line": {
             "colorbar": {
              "outlinewidth": 0,
              "ticks": ""
             }
            },
            "marker": {
             "colorbar": {
              "outlinewidth": 0,
              "ticks": ""
             }
            },
            "type": "scatter3d"
           }
          ],
          "scattercarpet": [
           {
            "marker": {
             "colorbar": {
              "outlinewidth": 0,
              "ticks": ""
             }
            },
            "type": "scattercarpet"
           }
          ],
          "scattergeo": [
           {
            "marker": {
             "colorbar": {
              "outlinewidth": 0,
              "ticks": ""
             }
            },
            "type": "scattergeo"
           }
          ],
          "scattergl": [
           {
            "marker": {
             "colorbar": {
              "outlinewidth": 0,
              "ticks": ""
             }
            },
            "type": "scattergl"
           }
          ],
          "scattermapbox": [
           {
            "marker": {
             "colorbar": {
              "outlinewidth": 0,
              "ticks": ""
             }
            },
            "type": "scattermapbox"
           }
          ],
          "scatterpolar": [
           {
            "marker": {
             "colorbar": {
              "outlinewidth": 0,
              "ticks": ""
             }
            },
            "type": "scatterpolar"
           }
          ],
          "scatterpolargl": [
           {
            "marker": {
             "colorbar": {
              "outlinewidth": 0,
              "ticks": ""
             }
            },
            "type": "scatterpolargl"
           }
          ],
          "scatterternary": [
           {
            "marker": {
             "colorbar": {
              "outlinewidth": 0,
              "ticks": ""
             }
            },
            "type": "scatterternary"
           }
          ],
          "surface": [
           {
            "colorbar": {
             "outlinewidth": 0,
             "ticks": ""
            },
            "colorscale": [
             [
              0,
              "#0d0887"
             ],
             [
              0.1111111111111111,
              "#46039f"
             ],
             [
              0.2222222222222222,
              "#7201a8"
             ],
             [
              0.3333333333333333,
              "#9c179e"
             ],
             [
              0.4444444444444444,
              "#bd3786"
             ],
             [
              0.5555555555555556,
              "#d8576b"
             ],
             [
              0.6666666666666666,
              "#ed7953"
             ],
             [
              0.7777777777777778,
              "#fb9f3a"
             ],
             [
              0.8888888888888888,
              "#fdca26"
             ],
             [
              1,
              "#f0f921"
             ]
            ],
            "type": "surface"
           }
          ],
          "table": [
           {
            "cells": {
             "fill": {
              "color": "#EBF0F8"
             },
             "line": {
              "color": "white"
             }
            },
            "header": {
             "fill": {
              "color": "#C8D4E3"
             },
             "line": {
              "color": "white"
             }
            },
            "type": "table"
           }
          ]
         },
         "layout": {
          "annotationdefaults": {
           "arrowcolor": "#2a3f5f",
           "arrowhead": 0,
           "arrowwidth": 1
          },
          "autotypenumbers": "strict",
          "coloraxis": {
           "colorbar": {
            "outlinewidth": 0,
            "ticks": ""
           }
          },
          "colorscale": {
           "diverging": [
            [
             0,
             "#8e0152"
            ],
            [
             0.1,
             "#c51b7d"
            ],
            [
             0.2,
             "#de77ae"
            ],
            [
             0.3,
             "#f1b6da"
            ],
            [
             0.4,
             "#fde0ef"
            ],
            [
             0.5,
             "#f7f7f7"
            ],
            [
             0.6,
             "#e6f5d0"
            ],
            [
             0.7,
             "#b8e186"
            ],
            [
             0.8,
             "#7fbc41"
            ],
            [
             0.9,
             "#4d9221"
            ],
            [
             1,
             "#276419"
            ]
           ],
           "sequential": [
            [
             0,
             "#0d0887"
            ],
            [
             0.1111111111111111,
             "#46039f"
            ],
            [
             0.2222222222222222,
             "#7201a8"
            ],
            [
             0.3333333333333333,
             "#9c179e"
            ],
            [
             0.4444444444444444,
             "#bd3786"
            ],
            [
             0.5555555555555556,
             "#d8576b"
            ],
            [
             0.6666666666666666,
             "#ed7953"
            ],
            [
             0.7777777777777778,
             "#fb9f3a"
            ],
            [
             0.8888888888888888,
             "#fdca26"
            ],
            [
             1,
             "#f0f921"
            ]
           ],
           "sequentialminus": [
            [
             0,
             "#0d0887"
            ],
            [
             0.1111111111111111,
             "#46039f"
            ],
            [
             0.2222222222222222,
             "#7201a8"
            ],
            [
             0.3333333333333333,
             "#9c179e"
            ],
            [
             0.4444444444444444,
             "#bd3786"
            ],
            [
             0.5555555555555556,
             "#d8576b"
            ],
            [
             0.6666666666666666,
             "#ed7953"
            ],
            [
             0.7777777777777778,
             "#fb9f3a"
            ],
            [
             0.8888888888888888,
             "#fdca26"
            ],
            [
             1,
             "#f0f921"
            ]
           ]
          },
          "colorway": [
           "#636efa",
           "#EF553B",
           "#00cc96",
           "#ab63fa",
           "#FFA15A",
           "#19d3f3",
           "#FF6692",
           "#B6E880",
           "#FF97FF",
           "#FECB52"
          ],
          "font": {
           "color": "#2a3f5f"
          },
          "geo": {
           "bgcolor": "white",
           "lakecolor": "white",
           "landcolor": "#E5ECF6",
           "showlakes": true,
           "showland": true,
           "subunitcolor": "white"
          },
          "hoverlabel": {
           "align": "left"
          },
          "hovermode": "closest",
          "mapbox": {
           "style": "light"
          },
          "paper_bgcolor": "white",
          "plot_bgcolor": "#E5ECF6",
          "polar": {
           "angularaxis": {
            "gridcolor": "white",
            "linecolor": "white",
            "ticks": ""
           },
           "bgcolor": "#E5ECF6",
           "radialaxis": {
            "gridcolor": "white",
            "linecolor": "white",
            "ticks": ""
           }
          },
          "scene": {
           "xaxis": {
            "backgroundcolor": "#E5ECF6",
            "gridcolor": "white",
            "gridwidth": 2,
            "linecolor": "white",
            "showbackground": true,
            "ticks": "",
            "zerolinecolor": "white"
           },
           "yaxis": {
            "backgroundcolor": "#E5ECF6",
            "gridcolor": "white",
            "gridwidth": 2,
            "linecolor": "white",
            "showbackground": true,
            "ticks": "",
            "zerolinecolor": "white"
           },
           "zaxis": {
            "backgroundcolor": "#E5ECF6",
            "gridcolor": "white",
            "gridwidth": 2,
            "linecolor": "white",
            "showbackground": true,
            "ticks": "",
            "zerolinecolor": "white"
           }
          },
          "shapedefaults": {
           "line": {
            "color": "#2a3f5f"
           }
          },
          "ternary": {
           "aaxis": {
            "gridcolor": "white",
            "linecolor": "white",
            "ticks": ""
           },
           "baxis": {
            "gridcolor": "white",
            "linecolor": "white",
            "ticks": ""
           },
           "bgcolor": "#E5ECF6",
           "caxis": {
            "gridcolor": "white",
            "linecolor": "white",
            "ticks": ""
           }
          },
          "title": {
           "x": 0.05
          },
          "xaxis": {
           "automargin": true,
           "gridcolor": "white",
           "linecolor": "white",
           "ticks": "",
           "title": {
            "standoff": 15
           },
           "zerolinecolor": "white",
           "zerolinewidth": 2
          },
          "yaxis": {
           "automargin": true,
           "gridcolor": "white",
           "linecolor": "white",
           "ticks": "",
           "title": {
            "standoff": 15
           },
           "zerolinecolor": "white",
           "zerolinewidth": 2
          }
         }
        },
        "title": {
         "text": "Total Sales by Branch"
        },
        "xaxis": {
         "anchor": "y",
         "autorange": true,
         "domain": [
          0,
          1
         ],
         "range": [
          -0.12101759391345698,
          2.121017593913457
         ],
         "title": {
          "text": "Branch"
         },
         "type": "category"
        },
        "yaxis": {
         "anchor": "x",
         "autorange": true,
         "domain": [
          0,
          1
         ],
         "range": [
          104069.58913834952,
          105244.28836165048
         ],
         "title": {
          "text": "Total"
         },
         "type": "linear"
        }
       }
      },
      "image/png": "[encoded data removed]",
      "text/html": [
       "<div>                            <div id=\"c4c7e999-3d66-4e74-b187-92a311e2b88f\" class=\"plotly-graph-div\" style=\"height:525px; width:100%;\"></div>            <script type=\"text/javascript\">                require([\"plotly\"], function(Plotly) {                    window.PLOTLYENV=window.PLOTLYENV || {};                                    if (document.getElementById(\"c4c7e999-3d66-4e74-b187-92a311e2b88f\")) {                    Plotly.newPlot(                        \"c4c7e999-3d66-4e74-b187-92a311e2b88f\",                        [{\"hovertemplate\":\"Branch=%{x}<br>Total=%{y}<extra></extra>\",\"legendgroup\":\"\",\"line\":{\"color\":\"#636efa\",\"dash\":\"solid\"},\"marker\":{\"symbol\":\"circle\"},\"mode\":\"markers+lines\",\"name\":\"\",\"orientation\":\"v\",\"showlegend\":false,\"x\":[\"A\",\"B\",\"C\"],\"xaxis\":\"x\",\"y\":[105161.0805,104152.797,104441.4315],\"yaxis\":\"y\",\"type\":\"scatter\"}],                        {\"template\":{\"data\":{\"histogram2dcontour\":[{\"type\":\"histogram2dcontour\",\"colorbar\":{\"outlinewidth\":0,\"ticks\":\"\"},\"colorscale\":[[0.0,\"#0d0887\"],[0.1111111111111111,\"#46039f\"],[0.2222222222222222,\"#7201a8\"],[0.3333333333333333,\"#9c179e\"],[0.4444444444444444,\"#bd3786\"],[0.5555555555555556,\"#d8576b\"],[0.6666666666666666,\"#ed7953\"],[0.7777777777777778,\"#fb9f3a\"],[0.8888888888888888,\"#fdca26\"],[1.0,\"#f0f921\"]]}],\"choropleth\":[{\"type\":\"choropleth\",\"colorbar\":{\"outlinewidth\":0,\"ticks\":\"\"}}],\"histogram2d\":[{\"type\":\"histogram2d\",\"colorbar\":{\"outlinewidth\":0,\"ticks\":\"\"},\"colorscale\":[[0.0,\"#0d0887\"],[0.1111111111111111,\"#46039f\"],[0.2222222222222222,\"#7201a8\"],[0.3333333333333333,\"#9c179e\"],[0.4444444444444444,\"#bd3786\"],[0.5555555555555556,\"#d8576b\"],[0.6666666666666666,\"#ed7953\"],[0.7777777777777778,\"#fb9f3a\"],[0.8888888888888888,\"#fdca26\"],[1.0,\"#f0f921\"]]}],\"heatmap\":[{\"type\":\"heatmap\",\"colorbar\":{\"outlinewidth\":0,\"ticks\":\"\"},\"colorscale\":[[0.0,\"#0d0887\"],[0.1111111111111111,\"#46039f\"],[0.2222222222222222,\"#7201a8\"],[0.3333333333333333,\"#9c179e\"],[0.4444444444444444,\"#bd3786\"],[0.5555555555555556,\"#d8576b\"],[0.6666666666666666,\"#ed7953\"],[0.7777777777777778,\"#fb9f3a\"],[0.8888888888888888,\"#fdca26\"],[1.0,\"#f0f921\"]]}],\"heatmapgl\":[{\"type\":\"heatmapgl\",\"colorbar\":{\"outlinewidth\":0,\"ticks\":\"\"},\"colorscale\":[[0.0,\"#0d0887\"],[0.1111111111111111,\"#46039f\"],[0.2222222222222222,\"#7201a8\"],[0.3333333333333333,\"#9c179e\"],[0.4444444444444444,\"#bd3786\"],[0.5555555555555556,\"#d8576b\"],[0.6666666666666666,\"#ed7953\"],[0.7777777777777778,\"#fb9f3a\"],[0.8888888888888888,\"#fdca26\"],[1.0,\"#f0f921\"]]}],\"contourcarpet\":[{\"type\":\"contourcarpet\",\"colorbar\":{\"outlinewidth\":0,\"ticks\":\"\"}}],\"contour\":[{\"type\":\"contour\",\"colorbar\":{\"outlinewidth\":0,\"ticks\":\"\"},\"colorscale\":[[0.0,\"#0d0887\"],[0.1111111111111111,\"#46039f\"],[0.2222222222222222,\"#7201a8\"],[0.3333333333333333,\"#9c179e\"],[0.4444444444444444,\"#bd3786\"],[0.5555555555555556,\"#d8576b\"],[0.6666666666666666,\"#ed7953\"],[0.7777777777777778,\"#fb9f3a\"],[0.8888888888888888,\"#fdca26\"],[1.0,\"#f0f921\"]]}],\"surface\":[{\"type\":\"surface\",\"colorbar\":{\"outlinewidth\":0,\"ticks\":\"\"},\"colorscale\":[[0.0,\"#0d0887\"],[0.1111111111111111,\"#46039f\"],[0.2222222222222222,\"#7201a8\"],[0.3333333333333333,\"#9c179e\"],[0.4444444444444444,\"#bd3786\"],[0.5555555555555556,\"#d8576b\"],[0.6666666666666666,\"#ed7953\"],[0.7777777777777778,\"#fb9f3a\"],[0.8888888888888888,\"#fdca26\"],[1.0,\"#f0f921\"]]}],\"mesh3d\":[{\"type\":\"mesh3d\",\"colorbar\":{\"outlinewidth\":0,\"ticks\":\"\"}}],\"scatter\":[{\"fillpattern\":{\"fillmode\":\"overlay\",\"size\":10,\"solidity\":0.2},\"type\":\"scatter\"}],\"parcoords\":[{\"type\":\"parcoords\",\"line\":{\"colorbar\":{\"outlinewidth\":0,\"ticks\":\"\"}}}],\"scatterpolargl\":[{\"type\":\"scatterpolargl\",\"marker\":{\"colorbar\":{\"outlinewidth\":0,\"ticks\":\"\"}}}],\"bar\":[{\"error_x\":{\"color\":\"#2a3f5f\"},\"error_y\":{\"color\":\"#2a3f5f\"},\"marker\":{\"line\":{\"color\":\"#E5ECF6\",\"width\":0.5},\"pattern\":{\"fillmode\":\"overlay\",\"size\":10,\"solidity\":0.2}},\"type\":\"bar\"}],\"scattergeo\":[{\"type\":\"scattergeo\",\"marker\":{\"colorbar\":{\"outlinewidth\":0,\"ticks\":\"\"}}}],\"scatterpolar\":[{\"type\":\"scatterpolar\",\"marker\":{\"colorbar\":{\"outlinewidth\":0,\"ticks\":\"\"}}}],\"histogram\":[{\"marker\":{\"pattern\":{\"fillmode\":\"overlay\",\"size\":10,\"solidity\":0.2}},\"type\":\"histogram\"}],\"scattergl\":[{\"type\":\"scattergl\",\"marker\":{\"colorbar\":{\"outlinewidth\":0,\"ticks\":\"\"}}}],\"scatter3d\":[{\"type\":\"scatter3d\",\"line\":{\"colorbar\":{\"outlinewidth\":0,\"ticks\":\"\"}},\"marker\":{\"colorbar\":{\"outlinewidth\":0,\"ticks\":\"\"}}}],\"scattermapbox\":[{\"type\":\"scattermapbox\",\"marker\":{\"colorbar\":{\"outlinewidth\":0,\"ticks\":\"\"}}}],\"scatterternary\":[{\"type\":\"scatterternary\",\"marker\":{\"colorbar\":{\"outlinewidth\":0,\"ticks\":\"\"}}}],\"scattercarpet\":[{\"type\":\"scattercarpet\",\"marker\":{\"colorbar\":{\"outlinewidth\":0,\"ticks\":\"\"}}}],\"carpet\":[{\"aaxis\":{\"endlinecolor\":\"#2a3f5f\",\"gridcolor\":\"white\",\"linecolor\":\"white\",\"minorgridcolor\":\"white\",\"startlinecolor\":\"#2a3f5f\"},\"baxis\":{\"endlinecolor\":\"#2a3f5f\",\"gridcolor\":\"white\",\"linecolor\":\"white\",\"minorgridcolor\":\"white\",\"startlinecolor\":\"#2a3f5f\"},\"type\":\"carpet\"}],\"table\":[{\"cells\":{\"fill\":{\"color\":\"#EBF0F8\"},\"line\":{\"color\":\"white\"}},\"header\":{\"fill\":{\"color\":\"#C8D4E3\"},\"line\":{\"color\":\"white\"}},\"type\":\"table\"}],\"barpolar\":[{\"marker\":{\"line\":{\"color\":\"#E5ECF6\",\"width\":0.5},\"pattern\":{\"fillmode\":\"overlay\",\"size\":10,\"solidity\":0.2}},\"type\":\"barpolar\"}],\"pie\":[{\"automargin\":true,\"type\":\"pie\"}]},\"layout\":{\"autotypenumbers\":\"strict\",\"colorway\":[\"#636efa\",\"#EF553B\",\"#00cc96\",\"#ab63fa\",\"#FFA15A\",\"#19d3f3\",\"#FF6692\",\"#B6E880\",\"#FF97FF\",\"#FECB52\"],\"font\":{\"color\":\"#2a3f5f\"},\"hovermode\":\"closest\",\"hoverlabel\":{\"align\":\"left\"},\"paper_bgcolor\":\"white\",\"plot_bgcolor\":\"#E5ECF6\",\"polar\":{\"bgcolor\":\"#E5ECF6\",\"angularaxis\":{\"gridcolor\":\"white\",\"linecolor\":\"white\",\"ticks\":\"\"},\"radialaxis\":{\"gridcolor\":\"white\",\"linecolor\":\"white\",\"ticks\":\"\"}},\"ternary\":{\"bgcolor\":\"#E5ECF6\",\"aaxis\":{\"gridcolor\":\"white\",\"linecolor\":\"white\",\"ticks\":\"\"},\"baxis\":{\"gridcolor\":\"white\",\"linecolor\":\"white\",\"ticks\":\"\"},\"caxis\":{\"gridcolor\":\"white\",\"linecolor\":\"white\",\"ticks\":\"\"}},\"coloraxis\":{\"colorbar\":{\"outlinewidth\":0,\"ticks\":\"\"}},\"colorscale\":{\"sequential\":[[0.0,\"#0d0887\"],[0.1111111111111111,\"#46039f\"],[0.2222222222222222,\"#7201a8\"],[0.3333333333333333,\"#9c179e\"],[0.4444444444444444,\"#bd3786\"],[0.5555555555555556,\"#d8576b\"],[0.6666666666666666,\"#ed7953\"],[0.7777777777777778,\"#fb9f3a\"],[0.8888888888888888,\"#fdca26\"],[1.0,\"#f0f921\"]],\"sequentialminus\":[[0.0,\"#0d0887\"],[0.1111111111111111,\"#46039f\"],[0.2222222222222222,\"#7201a8\"],[0.3333333333333333,\"#9c179e\"],[0.4444444444444444,\"#bd3786\"],[0.5555555555555556,\"#d8576b\"],[0.6666666666666666,\"#ed7953\"],[0.7777777777777778,\"#fb9f3a\"],[0.8888888888888888,\"#fdca26\"],[1.0,\"#f0f921\"]],\"diverging\":[[0,\"#8e0152\"],[0.1,\"#c51b7d\"],[0.2,\"#de77ae\"],[0.3,\"#f1b6da\"],[0.4,\"#fde0ef\"],[0.5,\"#f7f7f7\"],[0.6,\"#e6f5d0\"],[0.7,\"#b8e186\"],[0.8,\"#7fbc41\"],[0.9,\"#4d9221\"],[1,\"#276419\"]]},\"xaxis\":{\"gridcolor\":\"white\",\"linecolor\":\"white\",\"ticks\":\"\",\"title\":{\"standoff\":15},\"zerolinecolor\":\"white\",\"automargin\":true,\"zerolinewidth\":2},\"yaxis\":{\"gridcolor\":\"white\",\"linecolor\":\"white\",\"ticks\":\"\",\"title\":{\"standoff\":15},\"zerolinecolor\":\"white\",\"automargin\":true,\"zerolinewidth\":2},\"scene\":{\"xaxis\":{\"backgroundcolor\":\"#E5ECF6\",\"gridcolor\":\"white\",\"linecolor\":\"white\",\"showbackground\":true,\"ticks\":\"\",\"zerolinecolor\":\"white\",\"gridwidth\":2},\"yaxis\":{\"backgroundcolor\":\"#E5ECF6\",\"gridcolor\":\"white\",\"linecolor\":\"white\",\"showbackground\":true,\"ticks\":\"\",\"zerolinecolor\":\"white\",\"gridwidth\":2},\"zaxis\":{\"backgroundcolor\":\"#E5ECF6\",\"gridcolor\":\"white\",\"linecolor\":\"white\",\"showbackground\":true,\"ticks\":\"\",\"zerolinecolor\":\"white\",\"gridwidth\":2}},\"shapedefaults\":{\"line\":{\"color\":\"#2a3f5f\"}},\"annotationdefaults\":{\"arrowcolor\":\"#2a3f5f\",\"arrowhead\":0,\"arrowwidth\":1},\"geo\":{\"bgcolor\":\"white\",\"landcolor\":\"#E5ECF6\",\"subunitcolor\":\"white\",\"showland\":true,\"showlakes\":true,\"lakecolor\":\"white\"},\"title\":{\"x\":0.05},\"mapbox\":{\"style\":\"light\"}}},\"xaxis\":{\"anchor\":\"y\",\"domain\":[0.0,1.0],\"title\":{\"text\":\"Branch\"}},\"yaxis\":{\"anchor\":\"x\",\"domain\":[0.0,1.0],\"title\":{\"text\":\"Total\"}},\"legend\":{\"tracegroupgap\":0},\"title\":{\"text\":\"Total Sales by Branch\"}},                        {\"responsive\": true}                    ).then(function(){\n",
       "                            \n",
       "var gd = document.getElementById('c4c7e999-3d66-4e74-b187-92a311e2b88f');\n",
       "var x = new MutationObserver(function (mutations, observer) {{\n",
       "        var display = window.getComputedStyle(gd).display;\n",
       "        if (!display || display === 'none') {{\n",
       "            console.log([gd, 'removed!']);\n",
       "            Plotly.purge(gd);\n",
       "            observer.disconnect();\n",
       "        }}\n",
       "}});\n",
       "\n",
       "// Listen for the removal of the full notebook cells\n",
       "var notebookContainer = gd.closest('#notebook-container');\n",
       "if (notebookContainer) {{\n",
       "    x.observe(notebookContainer, {childList: true});\n",
       "}}\n",
       "\n",
       "// Listen for the clearing of the current output cell\n",
       "var outputEl = gd.closest('.output');\n",
       "if (outputEl) {{\n",
       "    x.observe(outputEl, {childList: true});\n",
       "}}\n",
       "\n",
       "                        })                };                });            </script>        </div>"
      ]
     },
     "metadata": {},
     "output_type": "display_data"
    }
   ],
   "source": [
    "branch_total=df_filter.groupby(\"Branch\")[\"Total\"].sum().reset_index()\n",
    "print(branch_total)\n",
    "fig = px.line(branch_total, x=\"Branch\", y=\"Total\",markers = True, title=\"Total Sales by Branch\")\n",
    "\n",
    "# Show the plot\n",
    "fig.show()"
   ]
  },
  {
   "cell_type": "markdown",
   "id": "27b9763f-28c3-4487-93b7-31635160feee",
   "metadata": {},
   "source": [
    "### observations :\n",
    "* from the above line plot we observed that total revenue of branch A is greater as compared with branch B and branch C.\n",
    "* total sales of branch B is lesser as compared with other two branches."
   ]
  },
  {
   "cell_type": "markdown",
   "id": "bfe5dfab-d171-45ee-a308-641743fa95dc",
   "metadata": {},
   "source": [
    "### insights :\n",
    " * sales of two branches B and C is less as compared with branch A ,so we have to concentrate on these branches.\n",
    " * we can improve the sales of these branches by providing discounts and conducting marketing campiagns to attract customers ."
   ]
  },
  {
   "cell_type": "markdown",
   "id": "1848cbc8-5d39-4436-a48c-76f73c278d8b",
   "metadata": {},
   "source": [
    "### city vs gender\n"
   ]
  },
  {
   "cell_type": "code",
   "execution_count": 17,
   "id": "0f39c2fe-645e-4192-bf99-c233638f6fd1",
   "metadata": {},
   "outputs": [
    {
     "data": {
      "image/png": "[encoded data removed]",
      "text/plain": [
       "<Figure size 800x600 with 1 Axes>"
      ]
     },
     "metadata": {},
     "output_type": "display_data"
    }
   ],
   "source": [
    "\n",
    "plt.figure(figsize=(8,6))\n",
    "sns.countplot(x=df_filter[\"Gender\"],hue=df_filter[\"City\"],palette=[\"b\",\"c\",\"y\"],width=0.5,edgecolor=\"k\")\n",
    "plt.legend()\n",
    "plt.title(\"gender analysis \")\n",
    "plt.show()"
   ]
  },
  {
   "cell_type": "markdown",
   "id": "9d31cedd-82e1-478c-a205-ca7e1cc22b77",
   "metadata": {},
   "source": [
    "### observations and insights :\n",
    "* In yagon and mandalay cities have more male  customers so in this citie's branches we want to promote health ,beauty, food and fashion products to       attract female customers and increasing the sales.\n",
    "* In naypyitaw city have more female customers so we concentrate on male customers for this we want to promote and give coupons on electronic             accessories,health products etc-\n"
   ]
  },
  {
   "cell_type": "markdown",
   "id": "aaa9ce05-9b09-4c9f-914a-96a554ff1375",
   "metadata": {},
   "source": [
    "### branch vs customer type "
   ]
  },
  {
   "cell_type": "code",
   "execution_count": 72,
   "id": "79856033-af48-4f0b-9b39-721d421bdc9a",
   "metadata": {},
   "outputs": [
    {
     "name": "stdout",
     "output_type": "stream",
     "text": [
      "Branch  Customer type\n",
      "A       Normal           172\n",
      "        Member           167\n",
      "B       Member           165\n",
      "        Normal           165\n",
      "C       Member           166\n",
      "        Normal           156\n",
      "Name: count, dtype: int64\n"
     ]
    },
    {
     "data": {
      "image/png": "[encoded data removed]",
      "text/plain": [
       "<Figure size 640x480 with 1 Axes>"
      ]
     },
     "metadata": {},
     "output_type": "display_data"
    }
   ],
   "source": [
    "customer_ana=df_filter.groupby(\"Branch\")[\"Customer type\"].value_counts()\n",
    "\n",
    "print(customer_ana)\n",
    "sns.countplot(x=df_filter[\"Customer type\"],hue=df_filter[\"Branch\"],width=0.5,edgecolor=\"k\")\n",
    "plt.title(\"Customer analysis \")\n",
    "plt.show()"
   ]
  },
  {
   "cell_type": "markdown",
   "id": "0cda17ca-859b-4c51-99a1-dcd722de04d9",
   "metadata": {},
   "source": [
    "### observations and Insights :\n",
    "* The total count of customers who have membership  is same in all branches.\n",
    "* But there is a difference in total of normal customers in three branches, so there is a chance to convert them into membership customers by marketing some key advantges of membership card."
   ]
  },
  {
   "cell_type": "markdown",
   "id": "5d8649f4-e284-4fbf-977e-7f388d979166",
   "metadata": {},
   "source": [
    "### Gender vs product"
   ]
  },
  {
   "cell_type": "code",
   "execution_count": 19,
   "id": "d5ac23ec-853a-4cba-9e3c-ee50ab14ed22",
   "metadata": {},
   "outputs": [
    {
     "name": "stdout",
     "output_type": "stream",
     "text": [
      "Gender  Product line          \n",
      "Female  Fashion accessories       94\n",
      "        Food and beverages        89\n",
      "        Sports and travel         87\n",
      "        Electronic accessories    84\n",
      "        Home and lifestyle        77\n",
      "        Health and beauty         64\n",
      "Male    Health and beauty         88\n",
      "        Electronic accessories    86\n",
      "        Food and beverages        84\n",
      "        Fashion accessories       81\n",
      "        Home and lifestyle        79\n",
      "        Sports and travel         78\n",
      "Name: count, dtype: int64\n"
     ]
    },
    {
     "data": {
      "image/png": "[encoded data removed]",
      "text/plain": [
       "<Figure size 800x700 with 1 Axes>"
      ]
     },
     "metadata": {},
     "output_type": "display_data"
    }
   ],
   "source": [
    "print(df_filter.groupby(\"Gender\")[\"Product line\"].value_counts())\n",
    "plt.figure(figsize=(8,7))\n",
    "sns.countplot(x=df_filter[\"Product line\"],hue=df_filter[\"Gender\"],width=0.5,edgecolor=\"k\")\n",
    "plt.title(\"products sales based on gender\")\n",
    "plt.xticks(rotation=-30)\n",
    "plt.show()"
   ]
  },
  {
   "cell_type": "markdown",
   "id": "7ea26498-9577-453c-999b-0a04d3b6ee15",
   "metadata": {},
   "source": [
    "### observations and Insights ::\n",
    "* In case of health and beauty ,Electronic accessories male customers are high,But remaining product lines are quitely opposite i.e female customers      are high.\n",
    "* Conversely, for other product lines within the supermarket, such as Groceries, Clothing, and Home Goods, female customers dominate the sales figures.   This could indicate that these categories are traditionally aligned with female purchasing behavior, reflecting societal norms or marketing focuses.\n"
   ]
  },
  {
   "cell_type": "markdown",
   "id": "b0843b80-4ead-4d59-9f71-7cae8325d4f8",
   "metadata": {},
   "source": [
    "### Invoice ID vs payment "
   ]
  },
  {
   "cell_type": "code",
   "execution_count": 20,
   "id": "dc8298a3-79da-4621-aec9-e9975b3d9b7b",
   "metadata": {},
   "outputs": [
    {
     "name": "stdout",
     "output_type": "stream",
     "text": [
      "Payment\n",
      "Cash           342\n",
      "Credit card    307\n",
      "Ewallet        342\n",
      "Name: count, dtype: int64\n"
     ]
    },
    {
     "data": {
      "image/png": "[encoded data removed]",
      "text/plain": [
       "<Figure size 640x480 with 1 Axes>"
      ]
     },
     "metadata": {},
     "output_type": "display_data"
    }
   ],
   "source": [
    "payment_type=df_filter.groupby(\"Payment\")[\"Payment\"].value_counts()\n",
    "print(payment_type)\n",
    "plt.pie(x=payment_type,autopct=\"%1.2f%%\",labels=payment_type.index,shadow=True,explode=[0,0.1,0],pctdistance= 0.4)\n",
    "plt.title(\"percentage of payment types \")\n",
    "plt.show()"
   ]
  },
  {
   "cell_type": "markdown",
   "id": "a834d31b-9217-481e-8a50-9e2b28b846e6",
   "metadata": {},
   "source": [
    "### Observations and Insights:\n",
    "* The majority of customers prefer cash and e-wallet payments, indicating a strong inclination towards immediate and convenient transaction methods.\n",
    "* The popularity of e-wallets highlights a growing trend towards digital payments, reflecting consumer comfort with technology and a desire for faster    checkout experiences\n",
    "* The limited use of credit cards among customers indicates an opportunity to explore customer motivations for this preference, such as rewards or        convenience.\n",
    "* Emphasizing the security of payment methods, especially for e-wallets, is crucial to maintaining customer trust"
   ]
  },
  {
   "cell_type": "markdown",
   "id": "6231887b-e3b1-4f09-b2e0-55d4d68b5f72",
   "metadata": {},
   "source": [
    "##### Unit Price VS tax 5%"
   ]
  },
  {
   "cell_type": "code",
   "execution_count": 92,
   "id": "69c0b688-6ee4-4c30-b0f1-376b33e1b0d0",
   "metadata": {},
   "outputs": [
    {
     "data": {
      "image/png": "[encoded data removed]",
      "text/plain": [
       "<Figure size 640x480 with 1 Axes>"
      ]
     },
     "metadata": {},
     "output_type": "display_data"
    }
   ],
   "source": [
    "df_filter['Unit price'].corr(df_filter[\"Tax 5%\"])\n",
    "sns.scatterplot(x=df_filter['Unit price'],y= df_filter[\"Tax 5%\"],data=df_filter)\n",
    "plt.title(\"Unit price vs Tax\")\n",
    "plt.show()"
   ]
  },
  {
   "cell_type": "markdown",
   "id": "69ca4293-6ae1-47f0-a44a-5873bc8ed9c9",
   "metadata": {},
   "source": [
    "### observations  and Insights :\n",
    "* The correlation coefficient of approximately 0.62 indicates a moderate to strong positive correlation between unit price and tax, suggesting that as the unit price increases, the tax amount also tends to increase.\n",
    "* This relationship implies that higher-priced items will generate more tax revenue, which can positively impact the supermarket's overall financial performance.\n",
    "* Understanding this correlation can help the supermarket forecast tax obligations more accurately based on expected changes in pricing.\n",
    "* The supermarket should monitor this relationship to assess the impact of pricing decisions on both consumer behavior and tax liabilities\n",
    "\n"
   ]
  },
  {
   "cell_type": "code",
   "execution_count": 22,
   "id": "6eccaa47-f2ea-48b9-84ec-8d7a36c22d18",
   "metadata": {},
   "outputs": [],
   "source": [
    "df_filter[\"Date\"]=pd.to_datetime(df_filter[\"Date\"])# converting data type \n",
    "df_filter[\"Day\"]=df_filter[\"Date\"].dt.day #extracting day from date column \n",
    "df_filter[\"Month\"]=df_filter[\"Date\"].dt.month#extracting month from date column\n",
    "df_filter[\"Year\"]=df_filter[\"Date\"].dt.year #extracting year from date column\n"
   ]
  },
  {
   "cell_type": "markdown",
   "id": "0c63b8f6-3bff-4e9b-b263-7f8a868a9bf7",
   "metadata": {},
   "source": [
    "### gross income vs Day"
   ]
  },
  {
   "cell_type": "code",
   "execution_count": 74,
   "id": "4b20efb2-34d3-4d03-853e-fcdf5298dc02",
   "metadata": {},
   "outputs": [
    {
     "data": {
      "application/vnd.plotly.v1+json": {
       "config": {
        "plotlyServerURL": "https://plot.ly"
       },
       "data": [
        {
         "hovertemplate": "Day=%{x}<br>gross income=%{y}<extra></extra>",
         "legendgroup": "",
         "line": {
          "color": "#636efa",
          "dash": "solid"
         },
         "marker": {
          "symbol": "circle"
         },
         "mode": "markers+lines",
         "name": "",
         "orientation": "v",
         "showlegend": false,
         "type": "scatter",
         "x": [
          1,
          2,
          3,
          4,
          5,
          6,
          7,
          8,
          9,
          10,
          11,
          12,
          13,
          14,
          15,
          16,
          17,
          18,
          19,
          20,
          21,
          22,
          23,
          24,
          25,
          26,
          27,
          28,
          29,
          30,
          31
         ],
         "xaxis": "x",
         "y": [
          467.8135,
          553.5365,
          590.4395,
          378.9345,
          609.4615,
          457.725,
          547.653,
          544.942,
          607.865,
          469.7715,
          458.0175,
          516.074,
          259.4785,
          649.302,
          650.1155,
          425.892,
          496.1245,
          265.2065,
          708.7255,
          562.8605,
          269.6835,
          348.868,
          591.8485000000001,
          552.475,
          560.9795,
          420.39,
          638.008,
          444.1015,
          359.0385,
          286.2315,
          249.16649999999998
         ],
         "yaxis": "y"
        }
       ],
       "layout": {
        "autosize": true,
        "legend": {
         "tracegroupgap": 0
        },
        "template": {
         "data": {
          "bar": [
           {
            "error_x": {
             "color": "#2a3f5f"
            },
            "error_y": {
             "color": "#2a3f5f"
            },
            "marker": {
             "line": {
              "color": "#E5ECF6",
              "width": 0.5
             },
             "pattern": {
              "fillmode": "overlay",
              "size": 10,
              "solidity": 0.2
             }
            },
            "type": "bar"
           }
          ],
          "barpolar": [
           {
            "marker": {
             "line": {
              "color": "#E5ECF6",
              "width": 0.5
             },
             "pattern": {
              "fillmode": "overlay",
              "size": 10,
              "solidity": 0.2
             }
            },
            "type": "barpolar"
           }
          ],
          "carpet": [
           {
            "aaxis": {
             "endlinecolor": "#2a3f5f",
             "gridcolor": "white",
             "linecolor": "white",
             "minorgridcolor": "white",
             "startlinecolor": "#2a3f5f"
            },
            "baxis": {
             "endlinecolor": "#2a3f5f",
             "gridcolor": "white",
             "linecolor": "white",
             "minorgridcolor": "white",
             "startlinecolor": "#2a3f5f"
            },
            "type": "carpet"
           }
          ],
          "choropleth": [
           {
            "colorbar": {
             "outlinewidth": 0,
             "ticks": ""
            },
            "type": "choropleth"
           }
          ],
          "contour": [
           {
            "colorbar": {
             "outlinewidth": 0,
             "ticks": ""
            },
            "colorscale": [
             [
              0,
              "#0d0887"
             ],
             [
              0.1111111111111111,
              "#46039f"
             ],
             [
              0.2222222222222222,
              "#7201a8"
             ],
             [
              0.3333333333333333,
              "#9c179e"
             ],
             [
              0.4444444444444444,
              "#bd3786"
             ],
             [
              0.5555555555555556,
              "#d8576b"
             ],
             [
              0.6666666666666666,
              "#ed7953"
             ],
             [
              0.7777777777777778,
              "#fb9f3a"
             ],
             [
              0.8888888888888888,
              "#fdca26"
             ],
             [
              1,
              "#f0f921"
             ]
            ],
            "type": "contour"
           }
          ],
          "contourcarpet": [
           {
            "colorbar": {
             "outlinewidth": 0,
             "ticks": ""
            },
            "type": "contourcarpet"
           }
          ],
          "heatmap": [
           {
            "colorbar": {
             "outlinewidth": 0,
             "ticks": ""
            },
            "colorscale": [
             [
              0,
              "#0d0887"
             ],
             [
              0.1111111111111111,
              "#46039f"
             ],
             [
              0.2222222222222222,
              "#7201a8"
             ],
             [
              0.3333333333333333,
              "#9c179e"
             ],
             [
              0.4444444444444444,
              "#bd3786"
             ],
             [
              0.5555555555555556,
              "#d8576b"
             ],
             [
              0.6666666666666666,
              "#ed7953"
             ],
             [
              0.7777777777777778,
              "#fb9f3a"
             ],
             [
              0.8888888888888888,
              "#fdca26"
             ],
             [
              1,
              "#f0f921"
             ]
            ],
            "type": "heatmap"
           }
          ],
          "heatmapgl": [
           {
            "colorbar": {
             "outlinewidth": 0,
             "ticks": ""
            },
            "colorscale": [
             [
              0,
              "#0d0887"
             ],
             [
              0.1111111111111111,
              "#46039f"
             ],
             [
              0.2222222222222222,
              "#7201a8"
             ],
             [
              0.3333333333333333,
              "#9c179e"
             ],
             [
              0.4444444444444444,
              "#bd3786"
             ],
             [
              0.5555555555555556,
              "#d8576b"
             ],
             [
              0.6666666666666666,
              "#ed7953"
             ],
             [
              0.7777777777777778,
              "#fb9f3a"
             ],
             [
              0.8888888888888888,
              "#fdca26"
             ],
             [
              1,
              "#f0f921"
             ]
            ],
            "type": "heatmapgl"
           }
          ],
          "histogram": [
           {
            "marker": {
             "pattern": {
              "fillmode": "overlay",
              "size": 10,
              "solidity": 0.2
             }
            },
            "type": "histogram"
           }
          ],
          "histogram2d": [
           {
            "colorbar": {
             "outlinewidth": 0,
             "ticks": ""
            },
            "colorscale": [
             [
              0,
              "#0d0887"
             ],
             [
              0.1111111111111111,
              "#46039f"
             ],
             [
              0.2222222222222222,
              "#7201a8"
             ],
             [
              0.3333333333333333,
              "#9c179e"
             ],
             [
              0.4444444444444444,
              "#bd3786"
             ],
             [
              0.5555555555555556,
              "#d8576b"
             ],
             [
              0.6666666666666666,
              "#ed7953"
             ],
             [
              0.7777777777777778,
              "#fb9f3a"
             ],
             [
              0.8888888888888888,
              "#fdca26"
             ],
             [
              1,
              "#f0f921"
             ]
            ],
            "type": "histogram2d"
           }
          ],
          "histogram2dcontour": [
           {
            "colorbar": {
             "outlinewidth": 0,
             "ticks": ""
            },
            "colorscale": [
             [
              0,
              "#0d0887"
             ],
             [
              0.1111111111111111,
              "#46039f"
             ],
             [
              0.2222222222222222,
              "#7201a8"
             ],
             [
              0.3333333333333333,
              "#9c179e"
             ],
             [
              0.4444444444444444,
              "#bd3786"
             ],
             [
              0.5555555555555556,
              "#d8576b"
             ],
             [
              0.6666666666666666,
              "#ed7953"
             ],
             [
              0.7777777777777778,
              "#fb9f3a"
             ],
             [
              0.8888888888888888,
              "#fdca26"
             ],
             [
              1,
              "#f0f921"
             ]
            ],
            "type": "histogram2dcontour"
           }
          ],
          "mesh3d": [
           {
            "colorbar": {
             "outlinewidth": 0,
             "ticks": ""
            },
            "type": "mesh3d"
           }
          ],
          "parcoords": [
           {
            "line": {
             "colorbar": {
              "outlinewidth": 0,
              "ticks": ""
             }
            },
            "type": "parcoords"
           }
          ],
          "pie": [
           {
            "automargin": true,
            "type": "pie"
           }
          ],
          "scatter": [
           {
            "fillpattern": {
             "fillmode": "overlay",
             "size": 10,
             "solidity": 0.2
            },
            "type": "scatter"
           }
          ],
          "scatter3d": [
           {
            "line": {
             "colorbar": {
              "outlinewidth": 0,
              "ticks": ""
             }
            },
            "marker": {
             "colorbar": {
              "outlinewidth": 0,
              "ticks": ""
             }
            },
            "type": "scatter3d"
           }
          ],
          "scattercarpet": [
           {
            "marker": {
             "colorbar": {
              "outlinewidth": 0,
              "ticks": ""
             }
            },
            "type": "scattercarpet"
           }
          ],
          "scattergeo": [
           {
            "marker": {
             "colorbar": {
              "outlinewidth": 0,
              "ticks": ""
             }
            },
            "type": "scattergeo"
           }
          ],
          "scattergl": [
           {
            "marker": {
             "colorbar": {
              "outlinewidth": 0,
              "ticks": ""
             }
            },
            "type": "scattergl"
           }
          ],
          "scattermapbox": [
           {
            "marker": {
             "colorbar": {
              "outlinewidth": 0,
              "ticks": ""
             }
            },
            "type": "scattermapbox"
           }
          ],
          "scatterpolar": [
           {
            "marker": {
             "colorbar": {
              "outlinewidth": 0,
              "ticks": ""
             }
            },
            "type": "scatterpolar"
           }
          ],
          "scatterpolargl": [
           {
            "marker": {
             "colorbar": {
              "outlinewidth": 0,
              "ticks": ""
             }
            },
            "type": "scatterpolargl"
           }
          ],
          "scatterternary": [
           {
            "marker": {
             "colorbar": {
              "outlinewidth": 0,
              "ticks": ""
             }
            },
            "type": "scatterternary"
           }
          ],
          "surface": [
           {
            "colorbar": {
             "outlinewidth": 0,
             "ticks": ""
            },
            "colorscale": [
             [
              0,
              "#0d0887"
             ],
             [
              0.1111111111111111,
              "#46039f"
             ],
             [
              0.2222222222222222,
              "#7201a8"
             ],
             [
              0.3333333333333333,
              "#9c179e"
             ],
             [
              0.4444444444444444,
              "#bd3786"
             ],
             [
              0.5555555555555556,
              "#d8576b"
             ],
             [
              0.6666666666666666,
              "#ed7953"
             ],
             [
              0.7777777777777778,
              "#fb9f3a"
             ],
             [
              0.8888888888888888,
              "#fdca26"
             ],
             [
              1,
              "#f0f921"
             ]
            ],
            "type": "surface"
           }
          ],
          "table": [
           {
            "cells": {
             "fill": {
              "color": "#EBF0F8"
             },
             "line": {
              "color": "white"
             }
            },
            "header": {
             "fill": {
              "color": "#C8D4E3"
             },
             "line": {
              "color": "white"
             }
            },
            "type": "table"
           }
          ]
         },
         "layout": {
          "annotationdefaults": {
           "arrowcolor": "#2a3f5f",
           "arrowhead": 0,
           "arrowwidth": 1
          },
          "autotypenumbers": "strict",
          "coloraxis": {
           "colorbar": {
            "outlinewidth": 0,
            "ticks": ""
           }
          },
          "colorscale": {
           "diverging": [
            [
             0,
             "#8e0152"
            ],
            [
             0.1,
             "#c51b7d"
            ],
            [
             0.2,
             "#de77ae"
            ],
            [
             0.3,
             "#f1b6da"
            ],
            [
             0.4,
             "#fde0ef"
            ],
            [
             0.5,
             "#f7f7f7"
            ],
            [
             0.6,
             "#e6f5d0"
            ],
            [
             0.7,
             "#b8e186"
            ],
            [
             0.8,
             "#7fbc41"
            ],
            [
             0.9,
             "#4d9221"
            ],
            [
             1,
             "#276419"
            ]
           ],
           "sequential": [
            [
             0,
             "#0d0887"
            ],
            [
             0.1111111111111111,
             "#46039f"
            ],
            [
             0.2222222222222222,
             "#7201a8"
            ],
            [
             0.3333333333333333,
             "#9c179e"
            ],
            [
             0.4444444444444444,
             "#bd3786"
            ],
            [
             0.5555555555555556,
             "#d8576b"
            ],
            [
             0.6666666666666666,
             "#ed7953"
            ],
            [
             0.7777777777777778,
             "#fb9f3a"
            ],
            [
             0.8888888888888888,
             "#fdca26"
            ],
            [
             1,
             "#f0f921"
            ]
           ],
           "sequentialminus": [
            [
             0,
             "#0d0887"
            ],
            [
             0.1111111111111111,
             "#46039f"
            ],
            [
             0.2222222222222222,
             "#7201a8"
            ],
            [
             0.3333333333333333,
             "#9c179e"
            ],
            [
             0.4444444444444444,
             "#bd3786"
            ],
            [
             0.5555555555555556,
             "#d8576b"
            ],
            [
             0.6666666666666666,
             "#ed7953"
            ],
            [
             0.7777777777777778,
             "#fb9f3a"
            ],
            [
             0.8888888888888888,
             "#fdca26"
            ],
            [
             1,
             "#f0f921"
            ]
           ]
          },
          "colorway": [
           "#636efa",
           "#EF553B",
           "#00cc96",
           "#ab63fa",
           "#FFA15A",
           "#19d3f3",
           "#FF6692",
           "#B6E880",
           "#FF97FF",
           "#FECB52"
          ],
          "font": {
           "color": "#2a3f5f"
          },
          "geo": {
           "bgcolor": "white",
           "lakecolor": "white",
           "landcolor": "#E5ECF6",
           "showlakes": true,
           "showland": true,
           "subunitcolor": "white"
          },
          "hoverlabel": {
           "align": "left"
          },
          "hovermode": "closest",
          "mapbox": {
           "style": "light"
          },
          "paper_bgcolor": "white",
          "plot_bgcolor": "#E5ECF6",
          "polar": {
           "angularaxis": {
            "gridcolor": "white",
            "linecolor": "white",
            "ticks": ""
           },
           "bgcolor": "#E5ECF6",
           "radialaxis": {
            "gridcolor": "white",
            "linecolor": "white",
            "ticks": ""
           }
          },
          "scene": {
           "xaxis": {
            "backgroundcolor": "#E5ECF6",
            "gridcolor": "white",
            "gridwidth": 2,
            "linecolor": "white",
            "showbackground": true,
            "ticks": "",
            "zerolinecolor": "white"
           },
           "yaxis": {
            "backgroundcolor": "#E5ECF6",
            "gridcolor": "white",
            "gridwidth": 2,
            "linecolor": "white",
            "showbackground": true,
            "ticks": "",
            "zerolinecolor": "white"
           },
           "zaxis": {
            "backgroundcolor": "#E5ECF6",
            "gridcolor": "white",
            "gridwidth": 2,
            "linecolor": "white",
            "showbackground": true,
            "ticks": "",
            "zerolinecolor": "white"
           }
          },
          "shapedefaults": {
           "line": {
            "color": "#2a3f5f"
           }
          },
          "ternary": {
           "aaxis": {
            "gridcolor": "white",
            "linecolor": "white",
            "ticks": ""
           },
           "baxis": {
            "gridcolor": "white",
            "linecolor": "white",
            "ticks": ""
           },
           "bgcolor": "#E5ECF6",
           "caxis": {
            "gridcolor": "white",
            "linecolor": "white",
            "ticks": ""
           }
          },
          "title": {
           "x": 0.05
          },
          "xaxis": {
           "automargin": true,
           "gridcolor": "white",
           "linecolor": "white",
           "ticks": "",
           "title": {
            "standoff": 15
           },
           "zerolinecolor": "white",
           "zerolinewidth": 2
          },
          "yaxis": {
           "automargin": true,
           "gridcolor": "white",
           "linecolor": "white",
           "ticks": "",
           "title": {
            "standoff": 15
           },
           "zerolinecolor": "white",
           "zerolinewidth": 2
          }
         }
        },
        "title": {
         "text": "Daily Gross Income"
        },
        "xaxis": {
         "anchor": "y",
         "autorange": true,
         "domain": [
          0,
          1
         ],
         "range": [
          -0.8152639087018545,
          32.81526390870185
         ],
         "title": {
          "text": "Day"
         },
         "type": "linear"
        },
        "yaxis": {
         "anchor": "x",
         "autorange": true,
         "domain": [
          0,
          1
         ],
         "range": [
          211.24172815533979,
          746.6502718446602
         ],
         "title": {
          "text": "gross income"
         },
         "type": "linear"
        }
       }
      },
      "image/png": "[encoded data removed]",
      "text/html": [
       "<div>                            <div id=\"1bb2e036-c484-4f84-a9fb-c3bf129f570e\" class=\"plotly-graph-div\" style=\"height:525px; width:100%;\"></div>            <script type=\"text/javascript\">                require([\"plotly\"], function(Plotly) {                    window.PLOTLYENV=window.PLOTLYENV || {};                                    if (document.getElementById(\"1bb2e036-c484-4f84-a9fb-c3bf129f570e\")) {                    Plotly.newPlot(                        \"1bb2e036-c484-4f84-a9fb-c3bf129f570e\",                        [{\"hovertemplate\":\"Day=%{x}<br>gross income=%{y}<extra></extra>\",\"legendgroup\":\"\",\"line\":{\"color\":\"#636efa\",\"dash\":\"solid\"},\"marker\":{\"symbol\":\"circle\"},\"mode\":\"markers+lines\",\"name\":\"\",\"orientation\":\"v\",\"showlegend\":false,\"x\":[1,2,3,4,5,6,7,8,9,10,11,12,13,14,15,16,17,18,19,20,21,22,23,24,25,26,27,28,29,30,31],\"xaxis\":\"x\",\"y\":[467.8135,553.5365,590.4395,378.9345,609.4615,457.725,547.653,544.942,607.865,469.7715,458.0175,516.074,259.4785,649.302,650.1155,425.892,496.1245,265.2065,708.7255,562.8605,269.6835,348.868,591.8485000000001,552.475,560.9795,420.39,638.008,444.1015,359.0385,286.2315,249.16649999999998],\"yaxis\":\"y\",\"type\":\"scatter\"}],                        {\"template\":{\"data\":{\"histogram2dcontour\":[{\"type\":\"histogram2dcontour\",\"colorbar\":{\"outlinewidth\":0,\"ticks\":\"\"},\"colorscale\":[[0.0,\"#0d0887\"],[0.1111111111111111,\"#46039f\"],[0.2222222222222222,\"#7201a8\"],[0.3333333333333333,\"#9c179e\"],[0.4444444444444444,\"#bd3786\"],[0.5555555555555556,\"#d8576b\"],[0.6666666666666666,\"#ed7953\"],[0.7777777777777778,\"#fb9f3a\"],[0.8888888888888888,\"#fdca26\"],[1.0,\"#f0f921\"]]}],\"choropleth\":[{\"type\":\"choropleth\",\"colorbar\":{\"outlinewidth\":0,\"ticks\":\"\"}}],\"histogram2d\":[{\"type\":\"histogram2d\",\"colorbar\":{\"outlinewidth\":0,\"ticks\":\"\"},\"colorscale\":[[0.0,\"#0d0887\"],[0.1111111111111111,\"#46039f\"],[0.2222222222222222,\"#7201a8\"],[0.3333333333333333,\"#9c179e\"],[0.4444444444444444,\"#bd3786\"],[0.5555555555555556,\"#d8576b\"],[0.6666666666666666,\"#ed7953\"],[0.7777777777777778,\"#fb9f3a\"],[0.8888888888888888,\"#fdca26\"],[1.0,\"#f0f921\"]]}],\"heatmap\":[{\"type\":\"heatmap\",\"colorbar\":{\"outlinewidth\":0,\"ticks\":\"\"},\"colorscale\":[[0.0,\"#0d0887\"],[0.1111111111111111,\"#46039f\"],[0.2222222222222222,\"#7201a8\"],[0.3333333333333333,\"#9c179e\"],[0.4444444444444444,\"#bd3786\"],[0.5555555555555556,\"#d8576b\"],[0.6666666666666666,\"#ed7953\"],[0.7777777777777778,\"#fb9f3a\"],[0.8888888888888888,\"#fdca26\"],[1.0,\"#f0f921\"]]}],\"heatmapgl\":[{\"type\":\"heatmapgl\",\"colorbar\":{\"outlinewidth\":0,\"ticks\":\"\"},\"colorscale\":[[0.0,\"#0d0887\"],[0.1111111111111111,\"#46039f\"],[0.2222222222222222,\"#7201a8\"],[0.3333333333333333,\"#9c179e\"],[0.4444444444444444,\"#bd3786\"],[0.5555555555555556,\"#d8576b\"],[0.6666666666666666,\"#ed7953\"],[0.7777777777777778,\"#fb9f3a\"],[0.8888888888888888,\"#fdca26\"],[1.0,\"#f0f921\"]]}],\"contourcarpet\":[{\"type\":\"contourcarpet\",\"colorbar\":{\"outlinewidth\":0,\"ticks\":\"\"}}],\"contour\":[{\"type\":\"contour\",\"colorbar\":{\"outlinewidth\":0,\"ticks\":\"\"},\"colorscale\":[[0.0,\"#0d0887\"],[0.1111111111111111,\"#46039f\"],[0.2222222222222222,\"#7201a8\"],[0.3333333333333333,\"#9c179e\"],[0.4444444444444444,\"#bd3786\"],[0.5555555555555556,\"#d8576b\"],[0.6666666666666666,\"#ed7953\"],[0.7777777777777778,\"#fb9f3a\"],[0.8888888888888888,\"#fdca26\"],[1.0,\"#f0f921\"]]}],\"surface\":[{\"type\":\"surface\",\"colorbar\":{\"outlinewidth\":0,\"ticks\":\"\"},\"colorscale\":[[0.0,\"#0d0887\"],[0.1111111111111111,\"#46039f\"],[0.2222222222222222,\"#7201a8\"],[0.3333333333333333,\"#9c179e\"],[0.4444444444444444,\"#bd3786\"],[0.5555555555555556,\"#d8576b\"],[0.6666666666666666,\"#ed7953\"],[0.7777777777777778,\"#fb9f3a\"],[0.8888888888888888,\"#fdca26\"],[1.0,\"#f0f921\"]]}],\"mesh3d\":[{\"type\":\"mesh3d\",\"colorbar\":{\"outlinewidth\":0,\"ticks\":\"\"}}],\"scatter\":[{\"fillpattern\":{\"fillmode\":\"overlay\",\"size\":10,\"solidity\":0.2},\"type\":\"scatter\"}],\"parcoords\":[{\"type\":\"parcoords\",\"line\":{\"colorbar\":{\"outlinewidth\":0,\"ticks\":\"\"}}}],\"scatterpolargl\":[{\"type\":\"scatterpolargl\",\"marker\":{\"colorbar\":{\"outlinewidth\":0,\"ticks\":\"\"}}}],\"bar\":[{\"error_x\":{\"color\":\"#2a3f5f\"},\"error_y\":{\"color\":\"#2a3f5f\"},\"marker\":{\"line\":{\"color\":\"#E5ECF6\",\"width\":0.5},\"pattern\":{\"fillmode\":\"overlay\",\"size\":10,\"solidity\":0.2}},\"type\":\"bar\"}],\"scattergeo\":[{\"type\":\"scattergeo\",\"marker\":{\"colorbar\":{\"outlinewidth\":0,\"ticks\":\"\"}}}],\"scatterpolar\":[{\"type\":\"scatterpolar\",\"marker\":{\"colorbar\":{\"outlinewidth\":0,\"ticks\":\"\"}}}],\"histogram\":[{\"marker\":{\"pattern\":{\"fillmode\":\"overlay\",\"size\":10,\"solidity\":0.2}},\"type\":\"histogram\"}],\"scattergl\":[{\"type\":\"scattergl\",\"marker\":{\"colorbar\":{\"outlinewidth\":0,\"ticks\":\"\"}}}],\"scatter3d\":[{\"type\":\"scatter3d\",\"line\":{\"colorbar\":{\"outlinewidth\":0,\"ticks\":\"\"}},\"marker\":{\"colorbar\":{\"outlinewidth\":0,\"ticks\":\"\"}}}],\"scattermapbox\":[{\"type\":\"scattermapbox\",\"marker\":{\"colorbar\":{\"outlinewidth\":0,\"ticks\":\"\"}}}],\"scatterternary\":[{\"type\":\"scatterternary\",\"marker\":{\"colorbar\":{\"outlinewidth\":0,\"ticks\":\"\"}}}],\"scattercarpet\":[{\"type\":\"scattercarpet\",\"marker\":{\"colorbar\":{\"outlinewidth\":0,\"ticks\":\"\"}}}],\"carpet\":[{\"aaxis\":{\"endlinecolor\":\"#2a3f5f\",\"gridcolor\":\"white\",\"linecolor\":\"white\",\"minorgridcolor\":\"white\",\"startlinecolor\":\"#2a3f5f\"},\"baxis\":{\"endlinecolor\":\"#2a3f5f\",\"gridcolor\":\"white\",\"linecolor\":\"white\",\"minorgridcolor\":\"white\",\"startlinecolor\":\"#2a3f5f\"},\"type\":\"carpet\"}],\"table\":[{\"cells\":{\"fill\":{\"color\":\"#EBF0F8\"},\"line\":{\"color\":\"white\"}},\"header\":{\"fill\":{\"color\":\"#C8D4E3\"},\"line\":{\"color\":\"white\"}},\"type\":\"table\"}],\"barpolar\":[{\"marker\":{\"line\":{\"color\":\"#E5ECF6\",\"width\":0.5},\"pattern\":{\"fillmode\":\"overlay\",\"size\":10,\"solidity\":0.2}},\"type\":\"barpolar\"}],\"pie\":[{\"automargin\":true,\"type\":\"pie\"}]},\"layout\":{\"autotypenumbers\":\"strict\",\"colorway\":[\"#636efa\",\"#EF553B\",\"#00cc96\",\"#ab63fa\",\"#FFA15A\",\"#19d3f3\",\"#FF6692\",\"#B6E880\",\"#FF97FF\",\"#FECB52\"],\"font\":{\"color\":\"#2a3f5f\"},\"hovermode\":\"closest\",\"hoverlabel\":{\"align\":\"left\"},\"paper_bgcolor\":\"white\",\"plot_bgcolor\":\"#E5ECF6\",\"polar\":{\"bgcolor\":\"#E5ECF6\",\"angularaxis\":{\"gridcolor\":\"white\",\"linecolor\":\"white\",\"ticks\":\"\"},\"radialaxis\":{\"gridcolor\":\"white\",\"linecolor\":\"white\",\"ticks\":\"\"}},\"ternary\":{\"bgcolor\":\"#E5ECF6\",\"aaxis\":{\"gridcolor\":\"white\",\"linecolor\":\"white\",\"ticks\":\"\"},\"baxis\":{\"gridcolor\":\"white\",\"linecolor\":\"white\",\"ticks\":\"\"},\"caxis\":{\"gridcolor\":\"white\",\"linecolor\":\"white\",\"ticks\":\"\"}},\"coloraxis\":{\"colorbar\":{\"outlinewidth\":0,\"ticks\":\"\"}},\"colorscale\":{\"sequential\":[[0.0,\"#0d0887\"],[0.1111111111111111,\"#46039f\"],[0.2222222222222222,\"#7201a8\"],[0.3333333333333333,\"#9c179e\"],[0.4444444444444444,\"#bd3786\"],[0.5555555555555556,\"#d8576b\"],[0.6666666666666666,\"#ed7953\"],[0.7777777777777778,\"#fb9f3a\"],[0.8888888888888888,\"#fdca26\"],[1.0,\"#f0f921\"]],\"sequentialminus\":[[0.0,\"#0d0887\"],[0.1111111111111111,\"#46039f\"],[0.2222222222222222,\"#7201a8\"],[0.3333333333333333,\"#9c179e\"],[0.4444444444444444,\"#bd3786\"],[0.5555555555555556,\"#d8576b\"],[0.6666666666666666,\"#ed7953\"],[0.7777777777777778,\"#fb9f3a\"],[0.8888888888888888,\"#fdca26\"],[1.0,\"#f0f921\"]],\"diverging\":[[0,\"#8e0152\"],[0.1,\"#c51b7d\"],[0.2,\"#de77ae\"],[0.3,\"#f1b6da\"],[0.4,\"#fde0ef\"],[0.5,\"#f7f7f7\"],[0.6,\"#e6f5d0\"],[0.7,\"#b8e186\"],[0.8,\"#7fbc41\"],[0.9,\"#4d9221\"],[1,\"#276419\"]]},\"xaxis\":{\"gridcolor\":\"white\",\"linecolor\":\"white\",\"ticks\":\"\",\"title\":{\"standoff\":15},\"zerolinecolor\":\"white\",\"automargin\":true,\"zerolinewidth\":2},\"yaxis\":{\"gridcolor\":\"white\",\"linecolor\":\"white\",\"ticks\":\"\",\"title\":{\"standoff\":15},\"zerolinecolor\":\"white\",\"automargin\":true,\"zerolinewidth\":2},\"scene\":{\"xaxis\":{\"backgroundcolor\":\"#E5ECF6\",\"gridcolor\":\"white\",\"linecolor\":\"white\",\"showbackground\":true,\"ticks\":\"\",\"zerolinecolor\":\"white\",\"gridwidth\":2},\"yaxis\":{\"backgroundcolor\":\"#E5ECF6\",\"gridcolor\":\"white\",\"linecolor\":\"white\",\"showbackground\":true,\"ticks\":\"\",\"zerolinecolor\":\"white\",\"gridwidth\":2},\"zaxis\":{\"backgroundcolor\":\"#E5ECF6\",\"gridcolor\":\"white\",\"linecolor\":\"white\",\"showbackground\":true,\"ticks\":\"\",\"zerolinecolor\":\"white\",\"gridwidth\":2}},\"shapedefaults\":{\"line\":{\"color\":\"#2a3f5f\"}},\"annotationdefaults\":{\"arrowcolor\":\"#2a3f5f\",\"arrowhead\":0,\"arrowwidth\":1},\"geo\":{\"bgcolor\":\"white\",\"landcolor\":\"#E5ECF6\",\"subunitcolor\":\"white\",\"showland\":true,\"showlakes\":true,\"lakecolor\":\"white\"},\"title\":{\"x\":0.05},\"mapbox\":{\"style\":\"light\"}}},\"xaxis\":{\"anchor\":\"y\",\"domain\":[0.0,1.0],\"title\":{\"text\":\"Day\"}},\"yaxis\":{\"anchor\":\"x\",\"domain\":[0.0,1.0],\"title\":{\"text\":\"gross income\"}},\"legend\":{\"tracegroupgap\":0},\"title\":{\"text\":\"Daily Gross Income\"}},                        {\"responsive\": true}                    ).then(function(){\n",
       "                            \n",
       "var gd = document.getElementById('1bb2e036-c484-4f84-a9fb-c3bf129f570e');\n",
       "var x = new MutationObserver(function (mutations, observer) {{\n",
       "        var display = window.getComputedStyle(gd).display;\n",
       "        if (!display || display === 'none') {{\n",
       "            console.log([gd, 'removed!']);\n",
       "            Plotly.purge(gd);\n",
       "            observer.disconnect();\n",
       "        }}\n",
       "}});\n",
       "\n",
       "// Listen for the removal of the full notebook cells\n",
       "var notebookContainer = gd.closest('#notebook-container');\n",
       "if (notebookContainer) {{\n",
       "    x.observe(notebookContainer, {childList: true});\n",
       "}}\n",
       "\n",
       "// Listen for the clearing of the current output cell\n",
       "var outputEl = gd.closest('.output');\n",
       "if (outputEl) {{\n",
       "    x.observe(outputEl, {childList: true});\n",
       "}}\n",
       "\n",
       "                        })                };                });            </script>        </div>"
      ]
     },
     "metadata": {},
     "output_type": "display_data"
    }
   ],
   "source": [
    "daily_gross = df_filter.groupby(\"Day\")['gross income'].sum().reset_index()\n",
    "\n",
    "# Create the line plot\n",
    "fig = px.line(daily_gross, x='Day', y='gross income', title='Daily Gross Income',markers = True)\n",
    "fig.show()"
   ]
  },
  {
   "cell_type": "markdown",
   "id": "4a76d8dd-331b-4a29-a015-4ecf8e32fe41",
   "metadata": {},
   "source": [
    "### observations and Insights:\n",
    " * From the above line plot we observed that there is no any stable in gross throughout days in months.\n",
    " * In 15th,20th and 28th days have maximum gross.but in 13th and 18 th day have minimum gross\n",
    " * month's begining days have medium gross but in month's ending have very low gross."
   ]
  },
  {
   "cell_type": "markdown",
   "id": "4c1cbc32-66e6-4b08-890a-514ea210f959",
   "metadata": {},
   "source": [
    "### payment vs Tax 5%"
   ]
  },
  {
   "cell_type": "code",
   "execution_count": 37,
   "id": "aa3caede-b1ae-4eee-bb7b-5822568f6940",
   "metadata": {},
   "outputs": [
    {
     "data": {
      "application/vnd.plotly.v1+json": {
       "config": {
        "plotlyServerURL": "https://plot.ly"
       },
       "data": [
        {
         "domain": {
          "x": [
           0,
           1
          ],
          "y": [
           0,
           1
          ]
         },
         "hole": 0.4,
         "hovertemplate": "Payment=%{label}<br>Tax 5%=%{value}<extra></extra>",
         "labels": [
          "Ewallet",
          "Cash",
          "Credit card",
          "Ewallet",
          "Ewallet",
          "Ewallet",
          "Ewallet",
          "Ewallet",
          "Credit card",
          "Credit card",
          "Ewallet",
          "Cash",
          "Ewallet",
          "Ewallet",
          "Cash",
          "Cash",
          "Credit card",
          "Credit card",
          "Credit card",
          "Ewallet",
          "Ewallet",
          "Ewallet",
          "Credit card",
          "Ewallet",
          "Ewallet",
          "Credit card",
          "Cash",
          "Credit card",
          "Cash",
          "Cash",
          "Credit card",
          "Cash",
          "Cash",
          "Credit card",
          "Ewallet",
          "Ewallet",
          "Ewallet",
          "Ewallet",
          "Ewallet",
          "Cash",
          "Ewallet",
          "Cash",
          "Cash",
          "Cash",
          "Cash",
          "Cash",
          "Credit card",
          "Ewallet",
          "Credit card",
          "Ewallet",
          "Cash",
          "Cash",
          "Ewallet",
          "Credit card",
          "Ewallet",
          "Cash",
          "Cash",
          "Ewallet",
          "Cash",
          "Cash",
          "Credit card",
          "Ewallet",
          "Ewallet",
          "Credit card",
          "Cash",
          "Cash",
          "Ewallet",
          "Ewallet",
          "Cash",
          "Cash",
          "Credit card",
          "Cash",
          "Ewallet",
          "Cash",
          "Ewallet",
          "Credit card",
          "Credit card",
          "Credit card",
          "Ewallet",
          "Cash",
          "Credit card",
          "Ewallet",
          "Ewallet",
          "Credit card",
          "Cash",
          "Ewallet",
          "Cash",
          "Credit card",
          "Cash",
          "Cash",
          "Cash",
          "Ewallet",
          "Ewallet",
          "Credit card",
          "Credit card",
          "Ewallet",
          "Ewallet",
          "Cash",
          "Ewallet",
          "Cash",
          "Cash",
          "Cash",
          "Cash",
          "Cash",
          "Cash",
          "Ewallet",
          "Credit card",
          "Cash",
          "Cash",
          "Cash",
          "Ewallet",
          "Credit card",
          "Cash",
          "Ewallet",
          "Credit card",
          "Credit card",
          "Ewallet",
          "Ewallet",
          "Ewallet",
          "Ewallet",
          "Credit card",
          "Credit card",
          "Credit card",
          "Credit card",
          "Ewallet",
          "Credit card",
          "Cash",
          "Credit card",
          "Ewallet",
          "Ewallet",
          "Cash",
          "Cash",
          "Cash",
          "Credit card",
          "Ewallet",
          "Cash",
          "Credit card",
          "Cash",
          "Cash",
          "Ewallet",
          "Credit card",
          "Cash",
          "Cash",
          "Credit card",
          "Ewallet",
          "Credit card",
          "Ewallet",
          "Credit card",
          "Credit card",
          "Credit card",
          "Credit card",
          "Credit card",
          "Credit card",
          "Ewallet",
          "Cash",
          "Credit card",
          "Cash",
          "Ewallet",
          "Ewallet",
          "Ewallet",
          "Credit card",
          "Cash",
          "Credit card",
          "Ewallet",
          "Credit card",
          "Ewallet",
          "Cash",
          "Credit card",
          "Ewallet",
          "Credit card",
          "Cash",
          "Credit card",
          "Ewallet",
          "Ewallet",
          "Credit card",
          "Credit card",
          "Ewallet",
          "Ewallet",
          "Cash",
          "Cash",
          "Ewallet",
          "Ewallet",
          "Credit card",
          "Ewallet",
          "Ewallet",
          "Cash",
          "Ewallet",
          "Credit card",
          "Credit card",
          "Ewallet",
          "Cash",
          "Ewallet",
          "Credit card",
          "Cash",
          "Cash",
          "Ewallet",
          "Credit card",
          "Credit card",
          "Credit card",
          "Cash",
          "Cash",
          "Ewallet",
          "Credit card",
          "Ewallet",
          "Credit card",
          "Ewallet",
          "Ewallet",
          "Credit card",
          "Ewallet",
          "Cash",
          "Ewallet",
          "Credit card",
          "Cash",
          "Credit card",
          "Cash",
          "Cash",
          "Ewallet",
          "Credit card",
          "Ewallet",
          "Ewallet",
          "Cash",
          "Cash",
          "Cash",
          "Credit card",
          "Ewallet",
          "Ewallet",
          "Cash",
          "Ewallet",
          "Cash",
          "Credit card",
          "Cash",
          "Cash",
          "Ewallet",
          "Ewallet",
          "Credit card",
          "Credit card",
          "Cash",
          "Ewallet",
          "Credit card",
          "Credit card",
          "Credit card",
          "Cash",
          "Credit card",
          "Cash",
          "Cash",
          "Ewallet",
          "Credit card",
          "Credit card",
          "Ewallet",
          "Credit card",
          "Credit card",
          "Cash",
          "Cash",
          "Cash",
          "Credit card",
          "Ewallet",
          "Ewallet",
          "Credit card",
          "Ewallet",
          "Ewallet",
          "Cash",
          "Cash",
          "Ewallet",
          "Credit card",
          "Credit card",
          "Cash",
          "Credit card",
          "Ewallet",
          "Ewallet",
          "Cash",
          "Credit card",
          "Cash",
          "Ewallet",
          "Cash",
          "Cash",
          "Ewallet",
          "Cash",
          "Credit card",
          "Credit card",
          "Credit card",
          "Cash",
          "Ewallet",
          "Cash",
          "Cash",
          "Cash",
          "Cash",
          "Credit card",
          "Cash",
          "Credit card",
          "Ewallet",
          "Cash",
          "Cash",
          "Ewallet",
          "Cash",
          "Cash",
          "Ewallet",
          "Cash",
          "Cash",
          "Credit card",
          "Credit card",
          "Cash",
          "Credit card",
          "Cash",
          "Ewallet",
          "Cash",
          "Cash",
          "Ewallet",
          "Cash",
          "Cash",
          "Ewallet",
          "Credit card",
          "Cash",
          "Cash",
          "Cash",
          "Cash",
          "Cash",
          "Credit card",
          "Ewallet",
          "Cash",
          "Cash",
          "Ewallet",
          "Cash",
          "Credit card",
          "Ewallet",
          "Cash",
          "Cash",
          "Credit card",
          "Cash",
          "Cash",
          "Credit card",
          "Cash",
          "Credit card",
          "Ewallet",
          "Credit card",
          "Ewallet",
          "Cash",
          "Credit card",
          "Credit card",
          "Credit card",
          "Ewallet",
          "Cash",
          "Ewallet",
          "Cash",
          "Ewallet",
          "Cash",
          "Cash",
          "Cash",
          "Credit card",
          "Cash",
          "Credit card",
          "Cash",
          "Cash",
          "Credit card",
          "Credit card",
          "Ewallet",
          "Cash",
          "Credit card",
          "Cash",
          "Ewallet",
          "Cash",
          "Cash",
          "Cash",
          "Cash",
          "Cash",
          "Cash",
          "Credit card",
          "Cash",
          "Credit card",
          "Ewallet",
          "Cash",
          "Credit card",
          "Ewallet",
          "Credit card",
          "Ewallet",
          "Ewallet",
          "Credit card",
          "Credit card",
          "Cash",
          "Cash",
          "Ewallet",
          "Ewallet",
          "Cash",
          "Cash",
          "Credit card",
          "Ewallet",
          "Credit card",
          "Cash",
          "Cash",
          "Ewallet",
          "Credit card",
          "Ewallet",
          "Ewallet",
          "Ewallet",
          "Cash",
          "Credit card",
          "Cash",
          "Credit card",
          "Credit card",
          "Ewallet",
          "Ewallet",
          "Ewallet",
          "Credit card",
          "Credit card",
          "Cash",
          "Ewallet",
          "Ewallet",
          "Cash",
          "Ewallet",
          "Cash",
          "Ewallet",
          "Ewallet",
          "Ewallet",
          "Credit card",
          "Ewallet",
          "Ewallet",
          "Cash",
          "Ewallet",
          "Cash",
          "Credit card",
          "Cash",
          "Cash",
          "Cash",
          "Credit card",
          "Cash",
          "Ewallet",
          "Credit card",
          "Ewallet",
          "Ewallet",
          "Credit card",
          "Credit card",
          "Ewallet",
          "Ewallet",
          "Credit card",
          "Ewallet",
          "Credit card",
          "Cash",
          "Credit card",
          "Credit card",
          "Ewallet",
          "Cash",
          "Credit card",
          "Credit card",
          "Credit card",
          "Credit card",
          "Credit card",
          "Cash",
          "Cash",
          "Ewallet",
          "Ewallet",
          "Cash",
          "Cash",
          "Credit card",
          "Cash",
          "Cash",
          "Credit card",
          "Cash",
          "Credit card",
          "Cash",
          "Cash",
          "Credit card",
          "Credit card",
          "Credit card",
          "Cash",
          "Ewallet",
          "Cash",
          "Ewallet",
          "Cash",
          "Credit card",
          "Cash",
          "Cash",
          "Credit card",
          "Credit card",
          "Ewallet",
          "Ewallet",
          "Ewallet",
          "Cash",
          "Cash",
          "Ewallet",
          "Cash",
          "Credit card",
          "Ewallet",
          "Cash",
          "Ewallet",
          "Cash",
          "Ewallet",
          "Ewallet",
          "Credit card",
          "Ewallet",
          "Credit card",
          "Ewallet",
          "Cash",
          "Cash",
          "Cash",
          "Cash",
          "Cash",
          "Credit card",
          "Ewallet",
          "Ewallet",
          "Cash",
          "Credit card",
          "Ewallet",
          "Cash",
          "Credit card",
          "Cash",
          "Credit card",
          "Credit card",
          "Ewallet",
          "Ewallet",
          "Cash",
          "Credit card",
          "Ewallet",
          "Ewallet",
          "Credit card",
          "Ewallet",
          "Credit card",
          "Credit card",
          "Cash",
          "Credit card",
          "Cash",
          "Credit card",
          "Ewallet",
          "Credit card",
          "Ewallet",
          "Credit card",
          "Cash",
          "Ewallet",
          "Credit card",
          "Ewallet",
          "Ewallet",
          "Ewallet",
          "Ewallet",
          "Credit card",
          "Ewallet",
          "Credit card",
          "Ewallet",
          "Ewallet",
          "Credit card",
          "Credit card",
          "Credit card",
          "Credit card",
          "Ewallet",
          "Ewallet",
          "Credit card",
          "Cash",
          "Cash",
          "Ewallet",
          "Cash",
          "Cash",
          "Credit card",
          "Cash",
          "Credit card",
          "Cash",
          "Ewallet",
          "Ewallet",
          "Cash",
          "Credit card",
          "Ewallet",
          "Ewallet",
          "Cash",
          "Credit card",
          "Credit card",
          "Cash",
          "Credit card",
          "Ewallet",
          "Credit card",
          "Cash",
          "Ewallet",
          "Credit card",
          "Credit card",
          "Ewallet",
          "Cash",
          "Ewallet",
          "Cash",
          "Ewallet",
          "Cash",
          "Cash",
          "Credit card",
          "Credit card",
          "Ewallet",
          "Credit card",
          "Cash",
          "Ewallet",
          "Cash",
          "Cash",
          "Credit card",
          "Ewallet",
          "Cash",
          "Ewallet",
          "Cash",
          "Credit card",
          "Credit card",
          "Ewallet",
          "Cash",
          "Ewallet",
          "Ewallet",
          "Credit card",
          "Ewallet",
          "Ewallet",
          "Cash",
          "Cash",
          "Ewallet",
          "Credit card",
          "Ewallet",
          "Ewallet",
          "Credit card",
          "Cash",
          "Cash",
          "Credit card",
          "Ewallet",
          "Ewallet",
          "Cash",
          "Ewallet",
          "Credit card",
          "Ewallet",
          "Credit card",
          "Cash",
          "Credit card",
          "Credit card",
          "Cash",
          "Cash",
          "Ewallet",
          "Cash",
          "Ewallet",
          "Credit card",
          "Credit card",
          "Ewallet",
          "Credit card",
          "Ewallet",
          "Credit card",
          "Credit card",
          "Credit card",
          "Cash",
          "Cash",
          "Ewallet",
          "Ewallet",
          "Ewallet",
          "Ewallet",
          "Credit card",
          "Ewallet",
          "Ewallet",
          "Cash",
          "Cash",
          "Cash",
          "Cash",
          "Ewallet",
          "Cash",
          "Cash",
          "Ewallet",
          "Credit card",
          "Credit card",
          "Credit card",
          "Ewallet",
          "Cash",
          "Credit card",
          "Cash",
          "Credit card",
          "Credit card",
          "Credit card",
          "Cash",
          "Ewallet",
          "Ewallet",
          "Ewallet",
          "Ewallet",
          "Credit card",
          "Ewallet",
          "Cash",
          "Ewallet",
          "Credit card",
          "Credit card",
          "Cash",
          "Credit card",
          "Cash",
          "Ewallet",
          "Ewallet",
          "Cash",
          "Credit card",
          "Ewallet",
          "Ewallet",
          "Ewallet",
          "Credit card",
          "Credit card",
          "Cash",
          "Cash",
          "Cash",
          "Cash",
          "Ewallet",
          "Cash",
          "Cash",
          "Cash",
          "Cash",
          "Ewallet",
          "Ewallet",
          "Credit card",
          "Ewallet",
          "Credit card",
          "Credit card",
          "Cash",
          "Cash",
          "Cash",
          "Ewallet",
          "Cash",
          "Ewallet",
          "Ewallet",
          "Cash",
          "Ewallet",
          "Ewallet",
          "Ewallet",
          "Ewallet",
          "Credit card",
          "Ewallet",
          "Credit card",
          "Credit card",
          "Credit card",
          "Cash",
          "Cash",
          "Credit card",
          "Cash",
          "Ewallet",
          "Cash",
          "Credit card",
          "Credit card",
          "Ewallet",
          "Cash",
          "Credit card",
          "Ewallet",
          "Ewallet",
          "Ewallet",
          "Ewallet",
          "Credit card",
          "Credit card",
          "Ewallet",
          "Ewallet",
          "Cash",
          "Cash",
          "Ewallet",
          "Ewallet",
          "Ewallet",
          "Credit card",
          "Cash",
          "Credit card",
          "Credit card",
          "Credit card",
          "Cash",
          "Ewallet",
          "Credit card",
          "Ewallet",
          "Ewallet",
          "Ewallet",
          "Credit card",
          "Ewallet",
          "Cash",
          "Ewallet",
          "Ewallet",
          "Credit card",
          "Credit card",
          "Ewallet",
          "Ewallet",
          "Credit card",
          "Ewallet",
          "Credit card",
          "Cash",
          "Cash",
          "Cash",
          "Ewallet",
          "Credit card",
          "Ewallet",
          "Credit card",
          "Cash",
          "Credit card",
          "Credit card",
          "Cash",
          "Cash",
          "Ewallet",
          "Cash",
          "Ewallet",
          "Credit card",
          "Cash",
          "Ewallet",
          "Credit card",
          "Ewallet",
          "Credit card",
          "Credit card",
          "Ewallet",
          "Credit card",
          "Credit card",
          "Credit card",
          "Credit card",
          "Ewallet",
          "Cash",
          "Cash",
          "Credit card",
          "Ewallet",
          "Ewallet",
          "Ewallet",
          "Ewallet",
          "Cash",
          "Cash",
          "Cash",
          "Credit card",
          "Cash",
          "Cash",
          "Ewallet",
          "Ewallet",
          "Credit card",
          "Credit card",
          "Cash",
          "Cash",
          "Ewallet",
          "Cash",
          "Ewallet",
          "Credit card",
          "Credit card",
          "Ewallet",
          "Credit card",
          "Cash",
          "Cash",
          "Credit card",
          "Credit card",
          "Credit card",
          "Credit card",
          "Cash",
          "Credit card",
          "Cash",
          "Cash",
          "Cash",
          "Ewallet",
          "Ewallet",
          "Cash",
          "Ewallet",
          "Credit card",
          "Cash",
          "Ewallet",
          "Cash",
          "Cash",
          "Credit card",
          "Credit card",
          "Cash",
          "Credit card",
          "Ewallet",
          "Credit card",
          "Cash",
          "Cash",
          "Cash",
          "Ewallet",
          "Ewallet",
          "Ewallet",
          "Ewallet",
          "Cash",
          "Cash",
          "Cash",
          "Cash",
          "Cash",
          "Ewallet",
          "Ewallet",
          "Credit card",
          "Cash",
          "Cash",
          "Ewallet",
          "Credit card",
          "Ewallet",
          "Credit card",
          "Ewallet",
          "Credit card",
          "Ewallet",
          "Cash",
          "Cash",
          "Credit card",
          "Ewallet",
          "Cash",
          "Cash",
          "Credit card",
          "Ewallet",
          "Ewallet",
          "Credit card",
          "Credit card",
          "Ewallet",
          "Cash",
          "Cash",
          "Ewallet",
          "Ewallet",
          "Ewallet",
          "Ewallet",
          "Cash",
          "Cash",
          "Credit card",
          "Cash",
          "Credit card",
          "Credit card",
          "Ewallet",
          "Cash",
          "Cash",
          "Ewallet",
          "Credit card",
          "Ewallet",
          "Credit card",
          "Cash",
          "Ewallet",
          "Cash",
          "Credit card",
          "Credit card",
          "Ewallet",
          "Credit card",
          "Credit card",
          "Ewallet",
          "Cash",
          "Ewallet",
          "Cash",
          "Cash",
          "Credit card",
          "Cash",
          "Ewallet",
          "Ewallet",
          "Credit card",
          "Cash",
          "Credit card",
          "Credit card",
          "Ewallet",
          "Ewallet",
          "Credit card",
          "Credit card",
          "Credit card",
          "Ewallet",
          "Ewallet",
          "Credit card",
          "Ewallet",
          "Ewallet",
          "Ewallet",
          "Ewallet",
          "Ewallet",
          "Cash",
          "Cash",
          "Ewallet",
          "Ewallet",
          "Cash",
          "Ewallet",
          "Credit card",
          "Cash",
          "Credit card",
          "Credit card",
          "Ewallet",
          "Ewallet",
          "Ewallet",
          "Ewallet",
          "Ewallet",
          "Ewallet",
          "Cash",
          "Cash",
          "Cash",
          "Cash",
          "Cash",
          "Cash",
          "Cash",
          "Cash",
          "Cash",
          "Credit card",
          "Cash",
          "Credit card",
          "Credit card",
          "Ewallet",
          "Credit card",
          "Cash",
          "Credit card",
          "Credit card",
          "Ewallet",
          "Cash",
          "Cash",
          "Cash",
          "Credit card",
          "Cash",
          "Ewallet",
          "Credit card",
          "Credit card",
          "Cash",
          "Cash",
          "Ewallet",
          "Cash",
          "Cash",
          "Ewallet",
          "Ewallet",
          "Credit card",
          "Ewallet",
          "Credit card",
          "Credit card",
          "Ewallet",
          "Ewallet",
          "Ewallet",
          "Ewallet",
          "Ewallet",
          "Cash",
          "Cash",
          "Cash"
         ],
         "legendgroup": "",
         "name": "",
         "showlegend": true,
         "type": "pie",
         "values": [
          26.1415,
          3.82,
          16.2155,
          23.288,
          30.2085,
          29.8865,
          20.652,
          36.78,
          3.626,
          8.226,
          2.896,
          5.102,
          11.7375,
          21.595,
          35.69,
          28.116,
          24.1255,
          21.783,
          8.2005,
          4.03,
          21.51,
          13.197,
          3.32,
          8.64,
          13.2945,
          21.036,
          1.676,
          8.767,
          22.09,
          11.2005,
          23.5325,
          35.1315,
          33.512,
          9.658,
          19.884,
          3.406,
          15.655,
          27.396,
          21.968,
          12.048,
          4.336,
          5.611,
          20.736,
          39.48,
          1.537,
          18.792,
          25.5105,
          9.0045,
          5.679,
          41.315,
          31.99,
          11.1475,
          3.574,
          0.7715,
          1.616,
          34.392,
          4.434,
          35.84,
          36.175,
          9.183,
          3.711,
          16.719,
          24.7815,
          7.905,
          15.148,
          7.935,
          3.347,
          29.283,
          39.385,
          0.9165,
          44.74,
          31.06,
          7.278,
          22.773,
          33.6015,
          20.825,
          22.068,
          9.0045,
          39.155,
          5.095,
          29.757,
          14.502,
          7.7,
          16.072,
          12.2275,
          29.071,
          19.13,
          17.283,
          2.1235,
          23.097,
          9.476,
          22.43,
          7.693,
          28.962,
          4.4875,
          4.858,
          43.935,
          3.735,
          7.9125,
          24.81,
          2.4355,
          35.3475,
          10.3815,
          17.478,
          10.6225,
          44.335,
          8.214,
          18.639,
          15.291,
          40.985,
          1.649,
          14.7315,
          25.494,
          26.1315,
          36.3555,
          4.053,
          5.485,
          2.568,
          5.48,
          5.344,
          39.824,
          19.992,
          44.982,
          25.564,
          22.588,
          32.7915,
          8.0625,
          14.2785,
          27.416,
          40.626,
          13.867,
          27.639,
          6.968,
          26.235,
          24.39,
          13.533,
          6.5775,
          10.326,
          25.955,
          29,
          44.9,
          45.25,
          34.3,
          1.5205,
          23.385,
          13.878,
          15.07,
          13.228,
          28.744,
          12.984,
          18.308,
          12.096,
          37.458,
          4.944,
          32.388,
          23.0725,
          3.6085,
          12.57,
          43.749,
          28.017,
          17.272,
          3.1845,
          16.0265,
          7.64,
          19.95,
          17.028,
          15.384,
          24.332,
          17.5025,
          20.0125,
          8.34,
          15.867,
          7.916,
          15.228,
          8.868,
          7.8785,
          22.164,
          13.02,
          22.491,
          15.388,
          7.75,
          13.724,
          4.319,
          2.712,
          37.796,
          9.294,
          3.7035,
          13.962,
          11.556,
          7.352,
          39.51,
          5.11,
          8.1775,
          3.7145,
          4.37,
          1.2645,
          8.3,
          17.8475,
          5.745,
          11.498,
          21.4935,
          12.95,
          4.4425,
          10.3635,
          29.9925,
          14.265,
          4.5555,
          44.8785,
          11.8035,
          41.967,
          23.09,
          6.963,
          10.3635,
          0.914,
          6.1925,
          14.196,
          37.948,
          8.601,
          13.605,
          21.728,
          2.9525,
          0.627,
          4.325,
          8.716,
          31.2165,
          7.412,
          27.21,
          25.368,
          8.137,
          1.5885,
          37.8405,
          14.764,
          25.97,
          9.314,
          4.3525,
          11.055,
          3.305,
          4.4845,
          11.223,
          5.977,
          9.32,
          12.53,
          37.548,
          19.036,
          12.21,
          4.485,
          15.544,
          25.571,
          20.9475,
          17.595,
          1.439,
          4.75,
          23.56,
          6.524,
          3.3175,
          7.773,
          6.45,
          13.188,
          33.777,
          3.29,
          7.66,
          11.12,
          2.7225,
          34.44,
          7.094,
          37.3,
          14.148,
          17.77,
          16.8575,
          2.112,
          9.693,
          1.203,
          29.913,
          16.7895,
          10.91,
          19.084,
          35.495,
          22.01,
          27.984,
          1.85,
          0.767,
          29.949,
          9.534,
          16.67,
          3.743,
          10.6875,
          16.9785,
          33.208,
          20.15,
          9.7475,
          3.124,
          3.636,
          9.055,
          12.98,
          5.768,
          23.514,
          12.002,
          4.4305,
          9.982,
          1.9505,
          2.4305,
          10.238,
          5.984,
          25.27,
          14.0805,
          35.516,
          3.972,
          8.191,
          23.979,
          6.933,
          3.5575,
          6.9975,
          39.065,
          9.937,
          3.162,
          18.6975,
          10.3845,
          8.814,
          10.3185,
          1.971,
          4.578,
          15.4425,
          6.456,
          19.548,
          24.945,
          18.852,
          10.226,
          7.272,
          9.909,
          4.935,
          19.255,
          2.348,
          3.675,
          7.1125,
          34.38,
          17.385,
          7.1475,
          19.269,
          7.2135,
          19.5895,
          26.915,
          24.2575,
          6.6975,
          35.0685,
          3.5975,
          35.7,
          9.107,
          6.75,
          18.0915,
          19.1555,
          12.15,
          1.512,
          17.828,
          18.775,
          4.125,
          3.7485,
          32.384,
          37.788,
          9.979,
          21.966,
          8.248,
          16.336,
          23.094,
          13.188,
          7.18,
          9.675,
          9.191,
          6.096,
          21.033,
          12.624,
          16.7725,
          24.175,
          15.921,
          33.4215,
          19.396,
          4.73,
          16.466,
          2.661,
          24.9225,
          14.978,
          10.235,
          3.791,
          14.031,
          16.16,
          24.3315,
          6.377,
          12.072,
          18.975,
          3.841,
          26.13,
          3.987,
          19.375,
          13.5675,
          6.1155,
          12.318,
          8.658,
          11.829,
          9.244,
          0.699,
          9.9375,
          34.2265,
          13.452,
          3.4475,
          13.742,
          11.306,
          5.955,
          17.105,
          2.187,
          5.2425,
          3.876,
          20.372,
          4.8055,
          9.076,
          4.0755,
          5.722,
          8.827,
          5.79,
          12.6075,
          10.168,
          0.814,
          18.2745,
          18.6095,
          3.1305,
          16.8175,
          45.325,
          6.908,
          4.327,
          7.038,
          33.439,
          2.372,
          44.658,
          16.586,
          10.197,
          3.408,
          16.344,
          4.36,
          35.372,
          40.1445,
          0.639,
          6.685,
          0.9575,
          13.83,
          6.861,
          1.3535,
          1.956,
          22.413,
          6.603,
          15.9025,
          1.25,
          4.154,
          7.39,
          34.83,
          39.695,
          23.285,
          1.7945,
          10.13,
          36.525,
          14.79,
          1.131,
          12.835,
          27.275,
          13.0025,
          11.106,
          1.079,
          4.942,
          25.131,
          8.01,
          21.565,
          29.028,
          16.11,
          9.777,
          8.315,
          16.814,
          17.185,
          1.93,
          26.388,
          16.4,
          9.285,
          30.19,
          18.49,
          9.898,
          20.545,
          7.43,
          1.148,
          34.956,
          3.47,
          9.83,
          10.128,
          6.06,
          9.989,
          30.368,
          6.322,
          27.072,
          4.9065,
          20.608,
          3.6985,
          1.595,
          6.94,
          9.331,
          4.4225,
          9.672,
          7.275,
          25.215,
          15.3225,
          4.785,
          31.759,
          10.7275,
          18.998,
          34.8425,
          20.4365,
          2.5735,
          13.715,
          9.8475,
          3.473,
          17.98,
          6.8565,
          24.951,
          11.232,
          6.287,
          24.513,
          22.8525,
          7.842,
          5.986,
          27.18,
          44.1405,
          7.629,
          34.672,
          11.475,
          7.3395,
          7.08,
          5.8345,
          3.698,
          4.897,
          14.61,
          26.244,
          4.602,
          3.794,
          4.036,
          5.631,
          3.56,
          7.762,
          14.71,
          27.4275,
          12.885,
          19.818,
          8.5905,
          24.4395,
          26.208,
          6.663,
          6.762,
          5.622,
          7.204,
          12.498,
          10.863,
          9.711,
          44.6,
          16.968,
          22.353,
          9.925,
          40.605,
          24.665,
          29.583,
          27.951,
          25.893,
          20.51,
          13.335,
          3.5455,
          7.239,
          21.4775,
          28.4585,
          12.06,
          6.354,
          12.854,
          6.951,
          4.083,
          15.536,
          9.298,
          3.616,
          9.459,
          10.342,
          7.851,
          10.765,
          29.805,
          3.655,
          13.959,
          8.484,
          2.279,
          11.28,
          14.52,
          2.223,
          7.83,
          20.997,
          9.2125,
          7.032,
          4.154,
          3.2495,
          38.78,
          16.353,
          18.1615,
          6.35,
          18.7775,
          9.958,
          1.5305,
          5.789,
          1.448,
          44.5365,
          13.983,
          4.0465,
          33.725,
          17.424,
          21.78,
          21.9775,
          29.559,
          13.038,
          10.752,
          4.5805,
          33.1065,
          41.625,
          4.5675,
          7.888,
          6.087,
          41.29,
          7.995,
          0.6045,
          32.095,
          11.7465,
          8.377,
          14.955,
          11.9865,
          33.235,
          10.1325,
          2.31,
          4.4075,
          7.863,
          14.8185,
          35.42,
          5.567,
          29.008,
          3.0125,
          8.712,
          21.063,
          1.6815,
          1.549,
          12.37,
          18.915,
          16.743,
          36.39,
          16.794,
          12.036,
          2.3535,
          4.9845,
          13.2225,
          6.9825,
          2.7725,
          6.4455,
          5.999,
          17.625,
          43.55,
          9.88,
          9.726,
          8.661,
          3.594,
          14.313,
          4.062,
          28.02,
          9.34,
          11.0115,
          13.456,
          22.74,
          8.377,
          22.428,
          14.694,
          29.475,
          14.55,
          1.974,
          1.7405,
          14.796,
          2.148,
          6.924,
          4.91,
          6.483,
          31.78,
          7.288,
          10.065,
          31.5855,
          19.264,
          24.315,
          25.683,
          23.67,
          21.8425,
          5.408,
          12.438,
          31.311,
          24.164,
          4.848,
          9.885,
          36.2115,
          39.7755,
          25.1195,
          8.6,
          3.449,
          6.248,
          3.855,
          24.186,
          15.106,
          34.9335,
          6.2325,
          39.48,
          8.92,
          25.011,
          1.791,
          6.807,
          5.244,
          8.946,
          40.7835,
          6.618,
          12.8695,
          4.668,
          11.4,
          8.3355,
          34.87,
          19.452,
          18.263,
          4.464,
          8.4,
          0.985,
          26.558,
          2.686,
          40.975,
          28.42,
          29.38,
          36.624,
          42.282,
          19.4635,
          4.2415,
          7.163,
          3.769,
          12.668,
          1.921,
          32.615,
          2.6325,
          5.5305,
          28.4305,
          4.464,
          6.82,
          8.71,
          18.32,
          12.7305,
          38.916,
          14.296,
          28.956,
          9.425,
          11.078,
          38.6,
          36.065,
          25.552,
          2.6725,
          11.1,
          38.184,
          11.409,
          4.107,
          19.128,
          3.429,
          19.108,
          30.0545,
          23.7965,
          2.621,
          6.565,
          7.215,
          22.8585,
          4.669,
          6.3125,
          39.5415,
          8.72,
          18.952,
          1.531,
          17.604,
          2.54,
          26.103,
          28.756,
          2.7475,
          9.0705,
          20.6185,
          2.3205,
          13.71,
          32.41,
          4.661,
          2.718,
          3.0435,
          12.245,
          4.639,
          21.6725,
          6.903,
          12.08,
          23.5865,
          22.032,
          34.0155,
          15.494,
          9.318,
          10.046,
          0.8875,
          31.09,
          4.3,
          20.13,
          16.2425,
          4.7575,
          19.448,
          21.284,
          15.904,
          13.552,
          19.232,
          11.79,
          10.578,
          4.768,
          0.5085,
          10.3065,
          21.028,
          4.402,
          32.4495,
          6.192,
          32.475,
          37.11,
          4.224,
          12.514,
          4.74,
          4.565,
          14.2555,
          2.619,
          9.635,
          13.389,
          27.935,
          8.766,
          7.791,
          3.015,
          3.947,
          1.487,
          1.066,
          14.067,
          3.663,
          1.119,
          32.796,
          29.73,
          3.705,
          9.848,
          18.6165,
          26.395,
          23.9875,
          16.4295,
          8.448,
          5.662,
          17.277,
          21.4335,
          4.3135,
          1.276,
          5.076,
          17.8745,
          11.9385,
          5.0715,
          36.212,
          6.282,
          3.6465,
          12.918,
          8.687,
          2.825,
          10.715,
          26.718,
          4.658,
          26.104,
          2.6175,
          1.9875,
          36.008,
          4.84,
          16.605,
          4.072,
          15.995,
          10.326,
          8.334,
          15.953,
          4.395,
          36.735,
          4.876,
          38.46,
          20.915,
          23.164,
          23.1225,
          7.095,
          15.135,
          39.664,
          21.259,
          14.181,
          29.96,
          15.768,
          20.178,
          9.194,
          6.9325,
          4.0355,
          5.832,
          15.676,
          42.305,
          20.72,
          7.954,
          24.505,
          4.3725,
          11.226,
          37.248,
          20.536,
          14.94,
          10.647,
          2.1425,
          18.934,
          10.3455,
          3.939,
          16.1055,
          4.911,
          1.273,
          29.099,
          10.566,
          2.756,
          4.4155,
          17.829,
          39.7125,
          2.531,
          29.976,
          8.335,
          37.22,
          22.428,
          18.945,
          12.858,
          27.6115,
          22.37,
          13.8135,
          17.187,
          13.304,
          44.919,
          22.84,
          12.6975,
          3.528,
          32.858,
          8.425,
          2.689,
          8.9525,
          10.572,
          5.9865,
          3.285,
          12.57,
          4.208,
          19.773,
          14.8995,
          22.7205,
          13.806,
          7.9,
          44.397,
          4.599,
          2.089,
          0.775,
          14.523,
          3.333,
          3.827,
          14.985,
          12.1515,
          2.37,
          8.6225,
          42.315,
          12.9185,
          30.478,
          12.012,
          8.613,
          4.992,
          14.932,
          7.98,
          1.2725,
          3.3885,
          11.918,
          11.63,
          43.866,
          34.986,
          33.7295,
          15.9275,
          1.476,
          24.8,
          41.17,
          30.148,
          14.14,
          38.3,
          5.803,
          8.745,
          3.0475,
          2.0175,
          1.592,
          3.291,
          30.919
         ]
        }
       ],
       "layout": {
        "autosize": true,
        "hiddenlabels": [],
        "legend": {
         "tracegroupgap": 0
        },
        "template": {
         "data": {
          "bar": [
           {
            "error_x": {
             "color": "#2a3f5f"
            },
            "error_y": {
             "color": "#2a3f5f"
            },
            "marker": {
             "line": {
              "color": "#E5ECF6",
              "width": 0.5
             },
             "pattern": {
              "fillmode": "overlay",
              "size": 10,
              "solidity": 0.2
             }
            },
            "type": "bar"
           }
          ],
          "barpolar": [
           {
            "marker": {
             "line": {
              "color": "#E5ECF6",
              "width": 0.5
             },
             "pattern": {
              "fillmode": "overlay",
              "size": 10,
              "solidity": 0.2
             }
            },
            "type": "barpolar"
           }
          ],
          "carpet": [
           {
            "aaxis": {
             "endlinecolor": "#2a3f5f",
             "gridcolor": "white",
             "linecolor": "white",
             "minorgridcolor": "white",
             "startlinecolor": "#2a3f5f"
            },
            "baxis": {
             "endlinecolor": "#2a3f5f",
             "gridcolor": "white",
             "linecolor": "white",
             "minorgridcolor": "white",
             "startlinecolor": "#2a3f5f"
            },
            "type": "carpet"
           }
          ],
          "choropleth": [
           {
            "colorbar": {
             "outlinewidth": 0,
             "ticks": ""
            },
            "type": "choropleth"
           }
          ],
          "contour": [
           {
            "colorbar": {
             "outlinewidth": 0,
             "ticks": ""
            },
            "colorscale": [
             [
              0,
              "#0d0887"
             ],
             [
              0.1111111111111111,
              "#46039f"
             ],
             [
              0.2222222222222222,
              "#7201a8"
             ],
             [
              0.3333333333333333,
              "#9c179e"
             ],
             [
              0.4444444444444444,
              "#bd3786"
             ],
             [
              0.5555555555555556,
              "#d8576b"
             ],
             [
              0.6666666666666666,
              "#ed7953"
             ],
             [
              0.7777777777777778,
              "#fb9f3a"
             ],
             [
              0.8888888888888888,
              "#fdca26"
             ],
             [
              1,
              "#f0f921"
             ]
            ],
            "type": "contour"
           }
          ],
          "contourcarpet": [
           {
            "colorbar": {
             "outlinewidth": 0,
             "ticks": ""
            },
            "type": "contourcarpet"
           }
          ],
          "heatmap": [
           {
            "colorbar": {
             "outlinewidth": 0,
             "ticks": ""
            },
            "colorscale": [
             [
              0,
              "#0d0887"
             ],
             [
              0.1111111111111111,
              "#46039f"
             ],
             [
              0.2222222222222222,
              "#7201a8"
             ],
             [
              0.3333333333333333,
              "#9c179e"
             ],
             [
              0.4444444444444444,
              "#bd3786"
             ],
             [
              0.5555555555555556,
              "#d8576b"
             ],
             [
              0.6666666666666666,
              "#ed7953"
             ],
             [
              0.7777777777777778,
              "#fb9f3a"
             ],
             [
              0.8888888888888888,
              "#fdca26"
             ],
             [
              1,
              "#f0f921"
             ]
            ],
            "type": "heatmap"
           }
          ],
          "heatmapgl": [
           {
            "colorbar": {
             "outlinewidth": 0,
             "ticks": ""
            },
            "colorscale": [
             [
              0,
              "#0d0887"
             ],
             [
              0.1111111111111111,
              "#46039f"
             ],
             [
              0.2222222222222222,
              "#7201a8"
             ],
             [
              0.3333333333333333,
              "#9c179e"
             ],
             [
              0.4444444444444444,
              "#bd3786"
             ],
             [
              0.5555555555555556,
              "#d8576b"
             ],
             [
              0.6666666666666666,
              "#ed7953"
             ],
             [
              0.7777777777777778,
              "#fb9f3a"
             ],
             [
              0.8888888888888888,
              "#fdca26"
             ],
             [
              1,
              "#f0f921"
             ]
            ],
            "type": "heatmapgl"
           }
          ],
          "histogram": [
           {
            "marker": {
             "pattern": {
              "fillmode": "overlay",
              "size": 10,
              "solidity": 0.2
             }
            },
            "type": "histogram"
           }
          ],
          "histogram2d": [
           {
            "colorbar": {
             "outlinewidth": 0,
             "ticks": ""
            },
            "colorscale": [
             [
              0,
              "#0d0887"
             ],
             [
              0.1111111111111111,
              "#46039f"
             ],
             [
              0.2222222222222222,
              "#7201a8"
             ],
             [
              0.3333333333333333,
              "#9c179e"
             ],
             [
              0.4444444444444444,
              "#bd3786"
             ],
             [
              0.5555555555555556,
              "#d8576b"
             ],
             [
              0.6666666666666666,
              "#ed7953"
             ],
             [
              0.7777777777777778,
              "#fb9f3a"
             ],
             [
              0.8888888888888888,
              "#fdca26"
             ],
             [
              1,
              "#f0f921"
             ]
            ],
            "type": "histogram2d"
           }
          ],
          "histogram2dcontour": [
           {
            "colorbar": {
             "outlinewidth": 0,
             "ticks": ""
            },
            "colorscale": [
             [
              0,
              "#0d0887"
             ],
             [
              0.1111111111111111,
              "#46039f"
             ],
             [
              0.2222222222222222,
              "#7201a8"
             ],
             [
              0.3333333333333333,
              "#9c179e"
             ],
             [
              0.4444444444444444,
              "#bd3786"
             ],
             [
              0.5555555555555556,
              "#d8576b"
             ],
             [
              0.6666666666666666,
              "#ed7953"
             ],
             [
              0.7777777777777778,
              "#fb9f3a"
             ],
             [
              0.8888888888888888,
              "#fdca26"
             ],
             [
              1,
              "#f0f921"
             ]
            ],
            "type": "histogram2dcontour"
           }
          ],
          "mesh3d": [
           {
            "colorbar": {
             "outlinewidth": 0,
             "ticks": ""
            },
            "type": "mesh3d"
           }
          ],
          "parcoords": [
           {
            "line": {
             "colorbar": {
              "outlinewidth": 0,
              "ticks": ""
             }
            },
            "type": "parcoords"
           }
          ],
          "pie": [
           {
            "automargin": true,
            "type": "pie"
           }
          ],
          "scatter": [
           {
            "fillpattern": {
             "fillmode": "overlay",
             "size": 10,
             "solidity": 0.2
            },
            "type": "scatter"
           }
          ],
          "scatter3d": [
           {
            "line": {
             "colorbar": {
              "outlinewidth": 0,
              "ticks": ""
             }
            },
            "marker": {
             "colorbar": {
              "outlinewidth": 0,
              "ticks": ""
             }
            },
            "type": "scatter3d"
           }
          ],
          "scattercarpet": [
           {
            "marker": {
             "colorbar": {
              "outlinewidth": 0,
              "ticks": ""
             }
            },
            "type": "scattercarpet"
           }
          ],
          "scattergeo": [
           {
            "marker": {
             "colorbar": {
              "outlinewidth": 0,
              "ticks": ""
             }
            },
            "type": "scattergeo"
           }
          ],
          "scattergl": [
           {
            "marker": {
             "colorbar": {
              "outlinewidth": 0,
              "ticks": ""
             }
            },
            "type": "scattergl"
           }
          ],
          "scattermapbox": [
           {
            "marker": {
             "colorbar": {
              "outlinewidth": 0,
              "ticks": ""
             }
            },
            "type": "scattermapbox"
           }
          ],
          "scatterpolar": [
           {
            "marker": {
             "colorbar": {
              "outlinewidth": 0,
              "ticks": ""
             }
            },
            "type": "scatterpolar"
           }
          ],
          "scatterpolargl": [
           {
            "marker": {
             "colorbar": {
              "outlinewidth": 0,
              "ticks": ""
             }
            },
            "type": "scatterpolargl"
           }
          ],
          "scatterternary": [
           {
            "marker": {
             "colorbar": {
              "outlinewidth": 0,
              "ticks": ""
             }
            },
            "type": "scatterternary"
           }
          ],
          "surface": [
           {
            "colorbar": {
             "outlinewidth": 0,
             "ticks": ""
            },
            "colorscale": [
             [
              0,
              "#0d0887"
             ],
             [
              0.1111111111111111,
              "#46039f"
             ],
             [
              0.2222222222222222,
              "#7201a8"
             ],
             [
              0.3333333333333333,
              "#9c179e"
             ],
             [
              0.4444444444444444,
              "#bd3786"
             ],
             [
              0.5555555555555556,
              "#d8576b"
             ],
             [
              0.6666666666666666,
              "#ed7953"
             ],
             [
              0.7777777777777778,
              "#fb9f3a"
             ],
             [
              0.8888888888888888,
              "#fdca26"
             ],
             [
              1,
              "#f0f921"
             ]
            ],
            "type": "surface"
           }
          ],
          "table": [
           {
            "cells": {
             "fill": {
              "color": "#EBF0F8"
             },
             "line": {
              "color": "white"
             }
            },
            "header": {
             "fill": {
              "color": "#C8D4E3"
             },
             "line": {
              "color": "white"
             }
            },
            "type": "table"
           }
          ]
         },
         "layout": {
          "annotationdefaults": {
           "arrowcolor": "#2a3f5f",
           "arrowhead": 0,
           "arrowwidth": 1
          },
          "autotypenumbers": "strict",
          "coloraxis": {
           "colorbar": {
            "outlinewidth": 0,
            "ticks": ""
           }
          },
          "colorscale": {
           "diverging": [
            [
             0,
             "#8e0152"
            ],
            [
             0.1,
             "#c51b7d"
            ],
            [
             0.2,
             "#de77ae"
            ],
            [
             0.3,
             "#f1b6da"
            ],
            [
             0.4,
             "#fde0ef"
            ],
            [
             0.5,
             "#f7f7f7"
            ],
            [
             0.6,
             "#e6f5d0"
            ],
            [
             0.7,
             "#b8e186"
            ],
            [
             0.8,
             "#7fbc41"
            ],
            [
             0.9,
             "#4d9221"
            ],
            [
             1,
             "#276419"
            ]
           ],
           "sequential": [
            [
             0,
             "#0d0887"
            ],
            [
             0.1111111111111111,
             "#46039f"
            ],
            [
             0.2222222222222222,
             "#7201a8"
            ],
            [
             0.3333333333333333,
             "#9c179e"
            ],
            [
             0.4444444444444444,
             "#bd3786"
            ],
            [
             0.5555555555555556,
             "#d8576b"
            ],
            [
             0.6666666666666666,
             "#ed7953"
            ],
            [
             0.7777777777777778,
             "#fb9f3a"
            ],
            [
             0.8888888888888888,
             "#fdca26"
            ],
            [
             1,
             "#f0f921"
            ]
           ],
           "sequentialminus": [
            [
             0,
             "#0d0887"
            ],
            [
             0.1111111111111111,
             "#46039f"
            ],
            [
             0.2222222222222222,
             "#7201a8"
            ],
            [
             0.3333333333333333,
             "#9c179e"
            ],
            [
             0.4444444444444444,
             "#bd3786"
            ],
            [
             0.5555555555555556,
             "#d8576b"
            ],
            [
             0.6666666666666666,
             "#ed7953"
            ],
            [
             0.7777777777777778,
             "#fb9f3a"
            ],
            [
             0.8888888888888888,
             "#fdca26"
            ],
            [
             1,
             "#f0f921"
            ]
           ]
          },
          "colorway": [
           "#636efa",
           "#EF553B",
           "#00cc96",
           "#ab63fa",
           "#FFA15A",
           "#19d3f3",
           "#FF6692",
           "#B6E880",
           "#FF97FF",
           "#FECB52"
          ],
          "font": {
           "color": "#2a3f5f"
          },
          "geo": {
           "bgcolor": "white",
           "lakecolor": "white",
           "landcolor": "#E5ECF6",
           "showlakes": true,
           "showland": true,
           "subunitcolor": "white"
          },
          "hoverlabel": {
           "align": "left"
          },
          "hovermode": "closest",
          "mapbox": {
           "style": "light"
          },
          "paper_bgcolor": "white",
          "plot_bgcolor": "#E5ECF6",
          "polar": {
           "angularaxis": {
            "gridcolor": "white",
            "linecolor": "white",
            "ticks": ""
           },
           "bgcolor": "#E5ECF6",
           "radialaxis": {
            "gridcolor": "white",
            "linecolor": "white",
            "ticks": ""
           }
          },
          "scene": {
           "xaxis": {
            "backgroundcolor": "#E5ECF6",
            "gridcolor": "white",
            "gridwidth": 2,
            "linecolor": "white",
            "showbackground": true,
            "ticks": "",
            "zerolinecolor": "white"
           },
           "yaxis": {
            "backgroundcolor": "#E5ECF6",
            "gridcolor": "white",
            "gridwidth": 2,
            "linecolor": "white",
            "showbackground": true,
            "ticks": "",
            "zerolinecolor": "white"
           },
           "zaxis": {
            "backgroundcolor": "#E5ECF6",
            "gridcolor": "white",
            "gridwidth": 2,
            "linecolor": "white",
            "showbackground": true,
            "ticks": "",
            "zerolinecolor": "white"
           }
          },
          "shapedefaults": {
           "line": {
            "color": "#2a3f5f"
           }
          },
          "ternary": {
           "aaxis": {
            "gridcolor": "white",
            "linecolor": "white",
            "ticks": ""
           },
           "baxis": {
            "gridcolor": "white",
            "linecolor": "white",
            "ticks": ""
           },
           "bgcolor": "#E5ECF6",
           "caxis": {
            "gridcolor": "white",
            "linecolor": "white",
            "ticks": ""
           }
          },
          "title": {
           "x": 0.05
          },
          "xaxis": {
           "automargin": true,
           "gridcolor": "white",
           "linecolor": "white",
           "ticks": "",
           "title": {
            "standoff": 15
           },
           "zerolinecolor": "white",
           "zerolinewidth": 2
          },
          "yaxis": {
           "automargin": true,
           "gridcolor": "white",
           "linecolor": "white",
           "ticks": "",
           "title": {
            "standoff": 15
           },
           "zerolinecolor": "white",
           "zerolinewidth": 2
          }
         }
        },
        "title": {
         "text": "Total Tax based on payment Type"
        }
       }
      },
      "image/png": "[encoded data removed]",
      "text/html": [
       "<div>                            <div id=\"8db25e6b-08cf-4c87-9ba1-8e439709434d\" class=\"plotly-graph-div\" style=\"height:525px; width:100%;\"></div>            <script type=\"text/javascript\">                require([\"plotly\"], function(Plotly) {                    window.PLOTLYENV=window.PLOTLYENV || {};                                    if (document.getElementById(\"8db25e6b-08cf-4c87-9ba1-8e439709434d\")) {                    Plotly.newPlot(                        \"8db25e6b-08cf-4c87-9ba1-8e439709434d\",                        [{\"domain\":{\"x\":[0.0,1.0],\"y\":[0.0,1.0]},\"hole\":0.4,\"hovertemplate\":\"Payment=%{label}<br>Tax 5%=%{value}<extra></extra>\",\"labels\":[\"Ewallet\",\"Cash\",\"Credit card\",\"Ewallet\",\"Ewallet\",\"Ewallet\",\"Ewallet\",\"Ewallet\",\"Credit card\",\"Credit card\",\"Ewallet\",\"Cash\",\"Ewallet\",\"Ewallet\",\"Cash\",\"Cash\",\"Credit card\",\"Credit card\",\"Credit card\",\"Ewallet\",\"Ewallet\",\"Ewallet\",\"Credit card\",\"Ewallet\",\"Ewallet\",\"Credit card\",\"Cash\",\"Credit card\",\"Cash\",\"Cash\",\"Credit card\",\"Cash\",\"Cash\",\"Credit card\",\"Ewallet\",\"Ewallet\",\"Ewallet\",\"Ewallet\",\"Ewallet\",\"Cash\",\"Ewallet\",\"Cash\",\"Cash\",\"Cash\",\"Cash\",\"Cash\",\"Credit card\",\"Ewallet\",\"Credit card\",\"Ewallet\",\"Cash\",\"Cash\",\"Ewallet\",\"Credit card\",\"Ewallet\",\"Cash\",\"Cash\",\"Ewallet\",\"Cash\",\"Cash\",\"Credit card\",\"Ewallet\",\"Ewallet\",\"Credit card\",\"Cash\",\"Cash\",\"Ewallet\",\"Ewallet\",\"Cash\",\"Cash\",\"Credit card\",\"Cash\",\"Ewallet\",\"Cash\",\"Ewallet\",\"Credit card\",\"Credit card\",\"Credit card\",\"Ewallet\",\"Cash\",\"Credit card\",\"Ewallet\",\"Ewallet\",\"Credit card\",\"Cash\",\"Ewallet\",\"Cash\",\"Credit card\",\"Cash\",\"Cash\",\"Cash\",\"Ewallet\",\"Ewallet\",\"Credit card\",\"Credit card\",\"Ewallet\",\"Ewallet\",\"Cash\",\"Ewallet\",\"Cash\",\"Cash\",\"Cash\",\"Cash\",\"Cash\",\"Cash\",\"Ewallet\",\"Credit card\",\"Cash\",\"Cash\",\"Cash\",\"Ewallet\",\"Credit card\",\"Cash\",\"Ewallet\",\"Credit card\",\"Credit card\",\"Ewallet\",\"Ewallet\",\"Ewallet\",\"Ewallet\",\"Credit card\",\"Credit card\",\"Credit card\",\"Credit card\",\"Ewallet\",\"Credit card\",\"Cash\",\"Credit card\",\"Ewallet\",\"Ewallet\",\"Cash\",\"Cash\",\"Cash\",\"Credit card\",\"Ewallet\",\"Cash\",\"Credit card\",\"Cash\",\"Cash\",\"Ewallet\",\"Credit card\",\"Cash\",\"Cash\",\"Credit card\",\"Ewallet\",\"Credit card\",\"Ewallet\",\"Credit card\",\"Credit card\",\"Credit card\",\"Credit card\",\"Credit card\",\"Credit card\",\"Ewallet\",\"Cash\",\"Credit card\",\"Cash\",\"Ewallet\",\"Ewallet\",\"Ewallet\",\"Credit card\",\"Cash\",\"Credit card\",\"Ewallet\",\"Credit card\",\"Ewallet\",\"Cash\",\"Credit card\",\"Ewallet\",\"Credit card\",\"Cash\",\"Credit card\",\"Ewallet\",\"Ewallet\",\"Credit card\",\"Credit card\",\"Ewallet\",\"Ewallet\",\"Cash\",\"Cash\",\"Ewallet\",\"Ewallet\",\"Credit card\",\"Ewallet\",\"Ewallet\",\"Cash\",\"Ewallet\",\"Credit card\",\"Credit card\",\"Ewallet\",\"Cash\",\"Ewallet\",\"Credit card\",\"Cash\",\"Cash\",\"Ewallet\",\"Credit card\",\"Credit card\",\"Credit card\",\"Cash\",\"Cash\",\"Ewallet\",\"Credit card\",\"Ewallet\",\"Credit card\",\"Ewallet\",\"Ewallet\",\"Credit card\",\"Ewallet\",\"Cash\",\"Ewallet\",\"Credit card\",\"Cash\",\"Credit card\",\"Cash\",\"Cash\",\"Ewallet\",\"Credit card\",\"Ewallet\",\"Ewallet\",\"Cash\",\"Cash\",\"Cash\",\"Credit card\",\"Ewallet\",\"Ewallet\",\"Cash\",\"Ewallet\",\"Cash\",\"Credit card\",\"Cash\",\"Cash\",\"Ewallet\",\"Ewallet\",\"Credit card\",\"Credit card\",\"Cash\",\"Ewallet\",\"Credit card\",\"Credit card\",\"Credit card\",\"Cash\",\"Credit card\",\"Cash\",\"Cash\",\"Ewallet\",\"Credit card\",\"Credit card\",\"Ewallet\",\"Credit card\",\"Credit card\",\"Cash\",\"Cash\",\"Cash\",\"Credit card\",\"Ewallet\",\"Ewallet\",\"Credit card\",\"Ewallet\",\"Ewallet\",\"Cash\",\"Cash\",\"Ewallet\",\"Credit card\",\"Credit card\",\"Cash\",\"Credit card\",\"Ewallet\",\"Ewallet\",\"Cash\",\"Credit card\",\"Cash\",\"Ewallet\",\"Cash\",\"Cash\",\"Ewallet\",\"Cash\",\"Credit card\",\"Credit card\",\"Credit card\",\"Cash\",\"Ewallet\",\"Cash\",\"Cash\",\"Cash\",\"Cash\",\"Credit card\",\"Cash\",\"Credit card\",\"Ewallet\",\"Cash\",\"Cash\",\"Ewallet\",\"Cash\",\"Cash\",\"Ewallet\",\"Cash\",\"Cash\",\"Credit card\",\"Credit card\",\"Cash\",\"Credit card\",\"Cash\",\"Ewallet\",\"Cash\",\"Cash\",\"Ewallet\",\"Cash\",\"Cash\",\"Ewallet\",\"Credit card\",\"Cash\",\"Cash\",\"Cash\",\"Cash\",\"Cash\",\"Credit card\",\"Ewallet\",\"Cash\",\"Cash\",\"Ewallet\",\"Cash\",\"Credit card\",\"Ewallet\",\"Cash\",\"Cash\",\"Credit card\",\"Cash\",\"Cash\",\"Credit card\",\"Cash\",\"Credit card\",\"Ewallet\",\"Credit card\",\"Ewallet\",\"Cash\",\"Credit card\",\"Credit card\",\"Credit card\",\"Ewallet\",\"Cash\",\"Ewallet\",\"Cash\",\"Ewallet\",\"Cash\",\"Cash\",\"Cash\",\"Credit card\",\"Cash\",\"Credit card\",\"Cash\",\"Cash\",\"Credit card\",\"Credit card\",\"Ewallet\",\"Cash\",\"Credit card\",\"Cash\",\"Ewallet\",\"Cash\",\"Cash\",\"Cash\",\"Cash\",\"Cash\",\"Cash\",\"Credit card\",\"Cash\",\"Credit card\",\"Ewallet\",\"Cash\",\"Credit card\",\"Ewallet\",\"Credit card\",\"Ewallet\",\"Ewallet\",\"Credit card\",\"Credit card\",\"Cash\",\"Cash\",\"Ewallet\",\"Ewallet\",\"Cash\",\"Cash\",\"Credit card\",\"Ewallet\",\"Credit card\",\"Cash\",\"Cash\",\"Ewallet\",\"Credit card\",\"Ewallet\",\"Ewallet\",\"Ewallet\",\"Cash\",\"Credit card\",\"Cash\",\"Credit card\",\"Credit card\",\"Ewallet\",\"Ewallet\",\"Ewallet\",\"Credit card\",\"Credit card\",\"Cash\",\"Ewallet\",\"Ewallet\",\"Cash\",\"Ewallet\",\"Cash\",\"Ewallet\",\"Ewallet\",\"Ewallet\",\"Credit card\",\"Ewallet\",\"Ewallet\",\"Cash\",\"Ewallet\",\"Cash\",\"Credit card\",\"Cash\",\"Cash\",\"Cash\",\"Credit card\",\"Cash\",\"Ewallet\",\"Credit card\",\"Ewallet\",\"Ewallet\",\"Credit card\",\"Credit card\",\"Ewallet\",\"Ewallet\",\"Credit card\",\"Ewallet\",\"Credit card\",\"Cash\",\"Credit card\",\"Credit card\",\"Ewallet\",\"Cash\",\"Credit card\",\"Credit card\",\"Credit card\",\"Credit card\",\"Credit card\",\"Cash\",\"Cash\",\"Ewallet\",\"Ewallet\",\"Cash\",\"Cash\",\"Credit card\",\"Cash\",\"Cash\",\"Credit card\",\"Cash\",\"Credit card\",\"Cash\",\"Cash\",\"Credit card\",\"Credit card\",\"Credit card\",\"Cash\",\"Ewallet\",\"Cash\",\"Ewallet\",\"Cash\",\"Credit card\",\"Cash\",\"Cash\",\"Credit card\",\"Credit card\",\"Ewallet\",\"Ewallet\",\"Ewallet\",\"Cash\",\"Cash\",\"Ewallet\",\"Cash\",\"Credit card\",\"Ewallet\",\"Cash\",\"Ewallet\",\"Cash\",\"Ewallet\",\"Ewallet\",\"Credit card\",\"Ewallet\",\"Credit card\",\"Ewallet\",\"Cash\",\"Cash\",\"Cash\",\"Cash\",\"Cash\",\"Credit card\",\"Ewallet\",\"Ewallet\",\"Cash\",\"Credit card\",\"Ewallet\",\"Cash\",\"Credit card\",\"Cash\",\"Credit card\",\"Credit card\",\"Ewallet\",\"Ewallet\",\"Cash\",\"Credit card\",\"Ewallet\",\"Ewallet\",\"Credit card\",\"Ewallet\",\"Credit card\",\"Credit card\",\"Cash\",\"Credit card\",\"Cash\",\"Credit card\",\"Ewallet\",\"Credit card\",\"Ewallet\",\"Credit card\",\"Cash\",\"Ewallet\",\"Credit card\",\"Ewallet\",\"Ewallet\",\"Ewallet\",\"Ewallet\",\"Credit card\",\"Ewallet\",\"Credit card\",\"Ewallet\",\"Ewallet\",\"Credit card\",\"Credit card\",\"Credit card\",\"Credit card\",\"Ewallet\",\"Ewallet\",\"Credit card\",\"Cash\",\"Cash\",\"Ewallet\",\"Cash\",\"Cash\",\"Credit card\",\"Cash\",\"Credit card\",\"Cash\",\"Ewallet\",\"Ewallet\",\"Cash\",\"Credit card\",\"Ewallet\",\"Ewallet\",\"Cash\",\"Credit card\",\"Credit card\",\"Cash\",\"Credit card\",\"Ewallet\",\"Credit card\",\"Cash\",\"Ewallet\",\"Credit card\",\"Credit card\",\"Ewallet\",\"Cash\",\"Ewallet\",\"Cash\",\"Ewallet\",\"Cash\",\"Cash\",\"Credit card\",\"Credit card\",\"Ewallet\",\"Credit card\",\"Cash\",\"Ewallet\",\"Cash\",\"Cash\",\"Credit card\",\"Ewallet\",\"Cash\",\"Ewallet\",\"Cash\",\"Credit card\",\"Credit card\",\"Ewallet\",\"Cash\",\"Ewallet\",\"Ewallet\",\"Credit card\",\"Ewallet\",\"Ewallet\",\"Cash\",\"Cash\",\"Ewallet\",\"Credit card\",\"Ewallet\",\"Ewallet\",\"Credit card\",\"Cash\",\"Cash\",\"Credit card\",\"Ewallet\",\"Ewallet\",\"Cash\",\"Ewallet\",\"Credit card\",\"Ewallet\",\"Credit card\",\"Cash\",\"Credit card\",\"Credit card\",\"Cash\",\"Cash\",\"Ewallet\",\"Cash\",\"Ewallet\",\"Credit card\",\"Credit card\",\"Ewallet\",\"Credit card\",\"Ewallet\",\"Credit card\",\"Credit card\",\"Credit card\",\"Cash\",\"Cash\",\"Ewallet\",\"Ewallet\",\"Ewallet\",\"Ewallet\",\"Credit card\",\"Ewallet\",\"Ewallet\",\"Cash\",\"Cash\",\"Cash\",\"Cash\",\"Ewallet\",\"Cash\",\"Cash\",\"Ewallet\",\"Credit card\",\"Credit card\",\"Credit card\",\"Ewallet\",\"Cash\",\"Credit card\",\"Cash\",\"Credit card\",\"Credit card\",\"Credit card\",\"Cash\",\"Ewallet\",\"Ewallet\",\"Ewallet\",\"Ewallet\",\"Credit card\",\"Ewallet\",\"Cash\",\"Ewallet\",\"Credit card\",\"Credit card\",\"Cash\",\"Credit card\",\"Cash\",\"Ewallet\",\"Ewallet\",\"Cash\",\"Credit card\",\"Ewallet\",\"Ewallet\",\"Ewallet\",\"Credit card\",\"Credit card\",\"Cash\",\"Cash\",\"Cash\",\"Cash\",\"Ewallet\",\"Cash\",\"Cash\",\"Cash\",\"Cash\",\"Ewallet\",\"Ewallet\",\"Credit card\",\"Ewallet\",\"Credit card\",\"Credit card\",\"Cash\",\"Cash\",\"Cash\",\"Ewallet\",\"Cash\",\"Ewallet\",\"Ewallet\",\"Cash\",\"Ewallet\",\"Ewallet\",\"Ewallet\",\"Ewallet\",\"Credit card\",\"Ewallet\",\"Credit card\",\"Credit card\",\"Credit card\",\"Cash\",\"Cash\",\"Credit card\",\"Cash\",\"Ewallet\",\"Cash\",\"Credit card\",\"Credit card\",\"Ewallet\",\"Cash\",\"Credit card\",\"Ewallet\",\"Ewallet\",\"Ewallet\",\"Ewallet\",\"Credit card\",\"Credit card\",\"Ewallet\",\"Ewallet\",\"Cash\",\"Cash\",\"Ewallet\",\"Ewallet\",\"Ewallet\",\"Credit card\",\"Cash\",\"Credit card\",\"Credit card\",\"Credit card\",\"Cash\",\"Ewallet\",\"Credit card\",\"Ewallet\",\"Ewallet\",\"Ewallet\",\"Credit card\",\"Ewallet\",\"Cash\",\"Ewallet\",\"Ewallet\",\"Credit card\",\"Credit card\",\"Ewallet\",\"Ewallet\",\"Credit card\",\"Ewallet\",\"Credit card\",\"Cash\",\"Cash\",\"Cash\",\"Ewallet\",\"Credit card\",\"Ewallet\",\"Credit card\",\"Cash\",\"Credit card\",\"Credit card\",\"Cash\",\"Cash\",\"Ewallet\",\"Cash\",\"Ewallet\",\"Credit card\",\"Cash\",\"Ewallet\",\"Credit card\",\"Ewallet\",\"Credit card\",\"Credit card\",\"Ewallet\",\"Credit card\",\"Credit card\",\"Credit card\",\"Credit card\",\"Ewallet\",\"Cash\",\"Cash\",\"Credit card\",\"Ewallet\",\"Ewallet\",\"Ewallet\",\"Ewallet\",\"Cash\",\"Cash\",\"Cash\",\"Credit card\",\"Cash\",\"Cash\",\"Ewallet\",\"Ewallet\",\"Credit card\",\"Credit card\",\"Cash\",\"Cash\",\"Ewallet\",\"Cash\",\"Ewallet\",\"Credit card\",\"Credit card\",\"Ewallet\",\"Credit card\",\"Cash\",\"Cash\",\"Credit card\",\"Credit card\",\"Credit card\",\"Credit card\",\"Cash\",\"Credit card\",\"Cash\",\"Cash\",\"Cash\",\"Ewallet\",\"Ewallet\",\"Cash\",\"Ewallet\",\"Credit card\",\"Cash\",\"Ewallet\",\"Cash\",\"Cash\",\"Credit card\",\"Credit card\",\"Cash\",\"Credit card\",\"Ewallet\",\"Credit card\",\"Cash\",\"Cash\",\"Cash\",\"Ewallet\",\"Ewallet\",\"Ewallet\",\"Ewallet\",\"Cash\",\"Cash\",\"Cash\",\"Cash\",\"Cash\",\"Ewallet\",\"Ewallet\",\"Credit card\",\"Cash\",\"Cash\",\"Ewallet\",\"Credit card\",\"Ewallet\",\"Credit card\",\"Ewallet\",\"Credit card\",\"Ewallet\",\"Cash\",\"Cash\",\"Credit card\",\"Ewallet\",\"Cash\",\"Cash\",\"Credit card\",\"Ewallet\",\"Ewallet\",\"Credit card\",\"Credit card\",\"Ewallet\",\"Cash\",\"Cash\",\"Ewallet\",\"Ewallet\",\"Ewallet\",\"Ewallet\",\"Cash\",\"Cash\",\"Credit card\",\"Cash\",\"Credit card\",\"Credit card\",\"Ewallet\",\"Cash\",\"Cash\",\"Ewallet\",\"Credit card\",\"Ewallet\",\"Credit card\",\"Cash\",\"Ewallet\",\"Cash\",\"Credit card\",\"Credit card\",\"Ewallet\",\"Credit card\",\"Credit card\",\"Ewallet\",\"Cash\",\"Ewallet\",\"Cash\",\"Cash\",\"Credit card\",\"Cash\",\"Ewallet\",\"Ewallet\",\"Credit card\",\"Cash\",\"Credit card\",\"Credit card\",\"Ewallet\",\"Ewallet\",\"Credit card\",\"Credit card\",\"Credit card\",\"Ewallet\",\"Ewallet\",\"Credit card\",\"Ewallet\",\"Ewallet\",\"Ewallet\",\"Ewallet\",\"Ewallet\",\"Cash\",\"Cash\",\"Ewallet\",\"Ewallet\",\"Cash\",\"Ewallet\",\"Credit card\",\"Cash\",\"Credit card\",\"Credit card\",\"Ewallet\",\"Ewallet\",\"Ewallet\",\"Ewallet\",\"Ewallet\",\"Ewallet\",\"Cash\",\"Cash\",\"Cash\",\"Cash\",\"Cash\",\"Cash\",\"Cash\",\"Cash\",\"Cash\",\"Credit card\",\"Cash\",\"Credit card\",\"Credit card\",\"Ewallet\",\"Credit card\",\"Cash\",\"Credit card\",\"Credit card\",\"Ewallet\",\"Cash\",\"Cash\",\"Cash\",\"Credit card\",\"Cash\",\"Ewallet\",\"Credit card\",\"Credit card\",\"Cash\",\"Cash\",\"Ewallet\",\"Cash\",\"Cash\",\"Ewallet\",\"Ewallet\",\"Credit card\",\"Ewallet\",\"Credit card\",\"Credit card\",\"Ewallet\",\"Ewallet\",\"Ewallet\",\"Ewallet\",\"Ewallet\",\"Cash\",\"Cash\",\"Cash\"],\"legendgroup\":\"\",\"name\":\"\",\"showlegend\":true,\"values\":[26.1415,3.82,16.2155,23.288,30.2085,29.8865,20.652,36.78,3.626,8.226,2.896,5.102,11.7375,21.595,35.69,28.116,24.1255,21.783,8.2005,4.03,21.51,13.197,3.32,8.64,13.2945,21.036,1.676,8.767,22.09,11.2005,23.5325,35.1315,33.512,9.658,19.884,3.406,15.655,27.396,21.968,12.048,4.336,5.611,20.736,39.48,1.537,18.792,25.5105,9.0045,5.679,41.315,31.99,11.1475,3.574,0.7715,1.616,34.392,4.434,35.84,36.175,9.183,3.711,16.719,24.7815,7.905,15.148,7.935,3.347,29.283,39.385,0.9165,44.74,31.06,7.278,22.773,33.6015,20.825,22.068,9.0045,39.155,5.095,29.757,14.502,7.7,16.072,12.2275,29.071,19.13,17.283,2.1235,23.097,9.476,22.43,7.693,28.962,4.4875,4.858,43.935,3.735,7.9125,24.81,2.4355,35.3475,10.3815,17.478,10.6225,44.335,8.214,18.639,15.291,40.985,1.649,14.7315,25.494,26.1315,36.3555,4.053,5.485,2.568,5.48,5.344,39.824,19.992,44.982,25.564,22.588,32.7915,8.0625,14.2785,27.416,40.626,13.867,27.639,6.968,26.235,24.39,13.533,6.5775,10.326,25.955,29.0,44.9,45.25,34.3,1.5205,23.385,13.878,15.07,13.228,28.744,12.984,18.308,12.096,37.458,4.944,32.388,23.0725,3.6085,12.57,43.749,28.017,17.272,3.1845,16.0265,7.64,19.95,17.028,15.384,24.332,17.5025,20.0125,8.34,15.867,7.916,15.228,8.868,7.8785,22.164,13.02,22.491,15.388,7.75,13.724,4.319,2.712,37.796,9.294,3.7035,13.962,11.556,7.352,39.51,5.11,8.1775,3.7145,4.37,1.2645,8.3,17.8475,5.745,11.498,21.4935,12.95,4.4425,10.3635,29.9925,14.265,4.5555,44.8785,11.8035,41.967,23.09,6.963,10.3635,0.914,6.1925,14.196,37.948,8.601,13.605,21.728,2.9525,0.627,4.325,8.716,31.2165,7.412,27.21,25.368,8.137,1.5885,37.8405,14.764,25.97,9.314,4.3525,11.055,3.305,4.4845,11.223,5.977,9.32,12.53,37.548,19.036,12.21,4.485,15.544,25.571,20.9475,17.595,1.439,4.75,23.56,6.524,3.3175,7.773,6.45,13.188,33.777,3.29,7.66,11.12,2.7225,34.44,7.094,37.3,14.148,17.77,16.8575,2.112,9.693,1.203,29.913,16.7895,10.91,19.084,35.495,22.01,27.984,1.85,0.767,29.949,9.534,16.67,3.743,10.6875,16.9785,33.208,20.15,9.7475,3.124,3.636,9.055,12.98,5.768,23.514,12.002,4.4305,9.982,1.9505,2.4305,10.238,5.984,25.27,14.0805,35.516,3.972,8.191,23.979,6.933,3.5575,6.9975,39.065,9.937,3.162,18.6975,10.3845,8.814,10.3185,1.971,4.578,15.4425,6.456,19.548,24.945,18.852,10.226,7.272,9.909,4.935,19.255,2.348,3.675,7.1125,34.38,17.385,7.1475,19.269,7.2135,19.5895,26.915,24.2575,6.6975,35.0685,3.5975,35.7,9.107,6.75,18.0915,19.1555,12.15,1.512,17.828,18.775,4.125,3.7485,32.384,37.788,9.979,21.966,8.248,16.336,23.094,13.188,7.18,9.675,9.191,6.096,21.033,12.624,16.7725,24.175,15.921,33.4215,19.396,4.73,16.466,2.661,24.9225,14.978,10.235,3.791,14.031,16.16,24.3315,6.377,12.072,18.975,3.841,26.13,3.987,19.375,13.5675,6.1155,12.318,8.658,11.829,9.244,0.699,9.9375,34.2265,13.452,3.4475,13.742,11.306,5.955,17.105,2.187,5.2425,3.876,20.372,4.8055,9.076,4.0755,5.722,8.827,5.79,12.6075,10.168,0.814,18.2745,18.6095,3.1305,16.8175,45.325,6.908,4.327,7.038,33.439,2.372,44.658,16.586,10.197,3.408,16.344,4.36,35.372,40.1445,0.639,6.685,0.9575,13.83,6.861,1.3535,1.956,22.413,6.603,15.9025,1.25,4.154,7.39,34.83,39.695,23.285,1.7945,10.13,36.525,14.79,1.131,12.835,27.275,13.0025,11.106,1.079,4.942,25.131,8.01,21.565,29.028,16.11,9.777,8.315,16.814,17.185,1.93,26.388,16.4,9.285,30.19,18.49,9.898,20.545,7.43,1.148,34.956,3.47,9.83,10.128,6.06,9.989,30.368,6.322,27.072,4.9065,20.608,3.6985,1.595,6.94,9.331,4.4225,9.672,7.275,25.215,15.3225,4.785,31.759,10.7275,18.998,34.8425,20.4365,2.5735,13.715,9.8475,3.473,17.98,6.8565,24.951,11.232,6.287,24.513,22.8525,7.842,5.986,27.18,44.1405,7.629,34.672,11.475,7.3395,7.08,5.8345,3.698,4.897,14.61,26.244,4.602,3.794,4.036,5.631,3.56,7.762,14.71,27.4275,12.885,19.818,8.5905,24.4395,26.208,6.663,6.762,5.622,7.204,12.498,10.863,9.711,44.6,16.968,22.353,9.925,40.605,24.665,29.583,27.951,25.893,20.51,13.335,3.5455,7.239,21.4775,28.4585,12.06,6.354,12.854,6.951,4.083,15.536,9.298,3.616,9.459,10.342,7.851,10.765,29.805,3.655,13.959,8.484,2.279,11.28,14.52,2.223,7.83,20.997,9.2125,7.032,4.154,3.2495,38.78,16.353,18.1615,6.35,18.7775,9.958,1.5305,5.789,1.448,44.5365,13.983,4.0465,33.725,17.424,21.78,21.9775,29.559,13.038,10.752,4.5805,33.1065,41.625,4.5675,7.888,6.087,41.29,7.995,0.6045,32.095,11.7465,8.377,14.955,11.9865,33.235,10.1325,2.31,4.4075,7.863,14.8185,35.42,5.567,29.008,3.0125,8.712,21.063,1.6815,1.549,12.37,18.915,16.743,36.39,16.794,12.036,2.3535,4.9845,13.2225,6.9825,2.7725,6.4455,5.999,17.625,43.55,9.88,9.726,8.661,3.594,14.313,4.062,28.02,9.34,11.0115,13.456,22.74,8.377,22.428,14.694,29.475,14.55,1.974,1.7405,14.796,2.148,6.924,4.91,6.483,31.78,7.288,10.065,31.5855,19.264,24.315,25.683,23.67,21.8425,5.408,12.438,31.311,24.164,4.848,9.885,36.2115,39.7755,25.1195,8.6,3.449,6.248,3.855,24.186,15.106,34.9335,6.2325,39.48,8.92,25.011,1.791,6.807,5.244,8.946,40.7835,6.618,12.8695,4.668,11.4,8.3355,34.87,19.452,18.263,4.464,8.4,0.985,26.558,2.686,40.975,28.42,29.38,36.624,42.282,19.4635,4.2415,7.163,3.769,12.668,1.921,32.615,2.6325,5.5305,28.4305,4.464,6.82,8.71,18.32,12.7305,38.916,14.296,28.956,9.425,11.078,38.6,36.065,25.552,2.6725,11.1,38.184,11.409,4.107,19.128,3.429,19.108,30.0545,23.7965,2.621,6.565,7.215,22.8585,4.669,6.3125,39.5415,8.72,18.952,1.531,17.604,2.54,26.103,28.756,2.7475,9.0705,20.6185,2.3205,13.71,32.41,4.661,2.718,3.0435,12.245,4.639,21.6725,6.903,12.08,23.5865,22.032,34.0155,15.494,9.318,10.046,0.8875,31.09,4.3,20.13,16.2425,4.7575,19.448,21.284,15.904,13.552,19.232,11.79,10.578,4.768,0.5085,10.3065,21.028,4.402,32.4495,6.192,32.475,37.11,4.224,12.514,4.74,4.565,14.2555,2.619,9.635,13.389,27.935,8.766,7.791,3.015,3.947,1.487,1.066,14.067,3.663,1.119,32.796,29.73,3.705,9.848,18.6165,26.395,23.9875,16.4295,8.448,5.662,17.277,21.4335,4.3135,1.276,5.076,17.8745,11.9385,5.0715,36.212,6.282,3.6465,12.918,8.687,2.825,10.715,26.718,4.658,26.104,2.6175,1.9875,36.008,4.84,16.605,4.072,15.995,10.326,8.334,15.953,4.395,36.735,4.876,38.46,20.915,23.164,23.1225,7.095,15.135,39.664,21.259,14.181,29.96,15.768,20.178,9.194,6.9325,4.0355,5.832,15.676,42.305,20.72,7.954,24.505,4.3725,11.226,37.248,20.536,14.94,10.647,2.1425,18.934,10.3455,3.939,16.1055,4.911,1.273,29.099,10.566,2.756,4.4155,17.829,39.7125,2.531,29.976,8.335,37.22,22.428,18.945,12.858,27.6115,22.37,13.8135,17.187,13.304,44.919,22.84,12.6975,3.528,32.858,8.425,2.689,8.9525,10.572,5.9865,3.285,12.57,4.208,19.773,14.8995,22.7205,13.806,7.9,44.397,4.599,2.089,0.775,14.523,3.333,3.827,14.985,12.1515,2.37,8.6225,42.315,12.9185,30.478,12.012,8.613,4.992,14.932,7.98,1.2725,3.3885,11.918,11.63,43.866,34.986,33.7295,15.9275,1.476,24.8,41.17,30.148,14.14,38.3,5.803,8.745,3.0475,2.0175,1.592,3.291,30.919],\"type\":\"pie\"}],                        {\"template\":{\"data\":{\"histogram2dcontour\":[{\"type\":\"histogram2dcontour\",\"colorbar\":{\"outlinewidth\":0,\"ticks\":\"\"},\"colorscale\":[[0.0,\"#0d0887\"],[0.1111111111111111,\"#46039f\"],[0.2222222222222222,\"#7201a8\"],[0.3333333333333333,\"#9c179e\"],[0.4444444444444444,\"#bd3786\"],[0.5555555555555556,\"#d8576b\"],[0.6666666666666666,\"#ed7953\"],[0.7777777777777778,\"#fb9f3a\"],[0.8888888888888888,\"#fdca26\"],[1.0,\"#f0f921\"]]}],\"choropleth\":[{\"type\":\"choropleth\",\"colorbar\":{\"outlinewidth\":0,\"ticks\":\"\"}}],\"histogram2d\":[{\"type\":\"histogram2d\",\"colorbar\":{\"outlinewidth\":0,\"ticks\":\"\"},\"colorscale\":[[0.0,\"#0d0887\"],[0.1111111111111111,\"#46039f\"],[0.2222222222222222,\"#7201a8\"],[0.3333333333333333,\"#9c179e\"],[0.4444444444444444,\"#bd3786\"],[0.5555555555555556,\"#d8576b\"],[0.6666666666666666,\"#ed7953\"],[0.7777777777777778,\"#fb9f3a\"],[0.8888888888888888,\"#fdca26\"],[1.0,\"#f0f921\"]]}],\"heatmap\":[{\"type\":\"heatmap\",\"colorbar\":{\"outlinewidth\":0,\"ticks\":\"\"},\"colorscale\":[[0.0,\"#0d0887\"],[0.1111111111111111,\"#46039f\"],[0.2222222222222222,\"#7201a8\"],[0.3333333333333333,\"#9c179e\"],[0.4444444444444444,\"#bd3786\"],[0.5555555555555556,\"#d8576b\"],[0.6666666666666666,\"#ed7953\"],[0.7777777777777778,\"#fb9f3a\"],[0.8888888888888888,\"#fdca26\"],[1.0,\"#f0f921\"]]}],\"heatmapgl\":[{\"type\":\"heatmapgl\",\"colorbar\":{\"outlinewidth\":0,\"ticks\":\"\"},\"colorscale\":[[0.0,\"#0d0887\"],[0.1111111111111111,\"#46039f\"],[0.2222222222222222,\"#7201a8\"],[0.3333333333333333,\"#9c179e\"],[0.4444444444444444,\"#bd3786\"],[0.5555555555555556,\"#d8576b\"],[0.6666666666666666,\"#ed7953\"],[0.7777777777777778,\"#fb9f3a\"],[0.8888888888888888,\"#fdca26\"],[1.0,\"#f0f921\"]]}],\"contourcarpet\":[{\"type\":\"contourcarpet\",\"colorbar\":{\"outlinewidth\":0,\"ticks\":\"\"}}],\"contour\":[{\"type\":\"contour\",\"colorbar\":{\"outlinewidth\":0,\"ticks\":\"\"},\"colorscale\":[[0.0,\"#0d0887\"],[0.1111111111111111,\"#46039f\"],[0.2222222222222222,\"#7201a8\"],[0.3333333333333333,\"#9c179e\"],[0.4444444444444444,\"#bd3786\"],[0.5555555555555556,\"#d8576b\"],[0.6666666666666666,\"#ed7953\"],[0.7777777777777778,\"#fb9f3a\"],[0.8888888888888888,\"#fdca26\"],[1.0,\"#f0f921\"]]}],\"surface\":[{\"type\":\"surface\",\"colorbar\":{\"outlinewidth\":0,\"ticks\":\"\"},\"colorscale\":[[0.0,\"#0d0887\"],[0.1111111111111111,\"#46039f\"],[0.2222222222222222,\"#7201a8\"],[0.3333333333333333,\"#9c179e\"],[0.4444444444444444,\"#bd3786\"],[0.5555555555555556,\"#d8576b\"],[0.6666666666666666,\"#ed7953\"],[0.7777777777777778,\"#fb9f3a\"],[0.8888888888888888,\"#fdca26\"],[1.0,\"#f0f921\"]]}],\"mesh3d\":[{\"type\":\"mesh3d\",\"colorbar\":{\"outlinewidth\":0,\"ticks\":\"\"}}],\"scatter\":[{\"fillpattern\":{\"fillmode\":\"overlay\",\"size\":10,\"solidity\":0.2},\"type\":\"scatter\"}],\"parcoords\":[{\"type\":\"parcoords\",\"line\":{\"colorbar\":{\"outlinewidth\":0,\"ticks\":\"\"}}}],\"scatterpolargl\":[{\"type\":\"scatterpolargl\",\"marker\":{\"colorbar\":{\"outlinewidth\":0,\"ticks\":\"\"}}}],\"bar\":[{\"error_x\":{\"color\":\"#2a3f5f\"},\"error_y\":{\"color\":\"#2a3f5f\"},\"marker\":{\"line\":{\"color\":\"#E5ECF6\",\"width\":0.5},\"pattern\":{\"fillmode\":\"overlay\",\"size\":10,\"solidity\":0.2}},\"type\":\"bar\"}],\"scattergeo\":[{\"type\":\"scattergeo\",\"marker\":{\"colorbar\":{\"outlinewidth\":0,\"ticks\":\"\"}}}],\"scatterpolar\":[{\"type\":\"scatterpolar\",\"marker\":{\"colorbar\":{\"outlinewidth\":0,\"ticks\":\"\"}}}],\"histogram\":[{\"marker\":{\"pattern\":{\"fillmode\":\"overlay\",\"size\":10,\"solidity\":0.2}},\"type\":\"histogram\"}],\"scattergl\":[{\"type\":\"scattergl\",\"marker\":{\"colorbar\":{\"outlinewidth\":0,\"ticks\":\"\"}}}],\"scatter3d\":[{\"type\":\"scatter3d\",\"line\":{\"colorbar\":{\"outlinewidth\":0,\"ticks\":\"\"}},\"marker\":{\"colorbar\":{\"outlinewidth\":0,\"ticks\":\"\"}}}],\"scattermapbox\":[{\"type\":\"scattermapbox\",\"marker\":{\"colorbar\":{\"outlinewidth\":0,\"ticks\":\"\"}}}],\"scatterternary\":[{\"type\":\"scatterternary\",\"marker\":{\"colorbar\":{\"outlinewidth\":0,\"ticks\":\"\"}}}],\"scattercarpet\":[{\"type\":\"scattercarpet\",\"marker\":{\"colorbar\":{\"outlinewidth\":0,\"ticks\":\"\"}}}],\"carpet\":[{\"aaxis\":{\"endlinecolor\":\"#2a3f5f\",\"gridcolor\":\"white\",\"linecolor\":\"white\",\"minorgridcolor\":\"white\",\"startlinecolor\":\"#2a3f5f\"},\"baxis\":{\"endlinecolor\":\"#2a3f5f\",\"gridcolor\":\"white\",\"linecolor\":\"white\",\"minorgridcolor\":\"white\",\"startlinecolor\":\"#2a3f5f\"},\"type\":\"carpet\"}],\"table\":[{\"cells\":{\"fill\":{\"color\":\"#EBF0F8\"},\"line\":{\"color\":\"white\"}},\"header\":{\"fill\":{\"color\":\"#C8D4E3\"},\"line\":{\"color\":\"white\"}},\"type\":\"table\"}],\"barpolar\":[{\"marker\":{\"line\":{\"color\":\"#E5ECF6\",\"width\":0.5},\"pattern\":{\"fillmode\":\"overlay\",\"size\":10,\"solidity\":0.2}},\"type\":\"barpolar\"}],\"pie\":[{\"automargin\":true,\"type\":\"pie\"}]},\"layout\":{\"autotypenumbers\":\"strict\",\"colorway\":[\"#636efa\",\"#EF553B\",\"#00cc96\",\"#ab63fa\",\"#FFA15A\",\"#19d3f3\",\"#FF6692\",\"#B6E880\",\"#FF97FF\",\"#FECB52\"],\"font\":{\"color\":\"#2a3f5f\"},\"hovermode\":\"closest\",\"hoverlabel\":{\"align\":\"left\"},\"paper_bgcolor\":\"white\",\"plot_bgcolor\":\"#E5ECF6\",\"polar\":{\"bgcolor\":\"#E5ECF6\",\"angularaxis\":{\"gridcolor\":\"white\",\"linecolor\":\"white\",\"ticks\":\"\"},\"radialaxis\":{\"gridcolor\":\"white\",\"linecolor\":\"white\",\"ticks\":\"\"}},\"ternary\":{\"bgcolor\":\"#E5ECF6\",\"aaxis\":{\"gridcolor\":\"white\",\"linecolor\":\"white\",\"ticks\":\"\"},\"baxis\":{\"gridcolor\":\"white\",\"linecolor\":\"white\",\"ticks\":\"\"},\"caxis\":{\"gridcolor\":\"white\",\"linecolor\":\"white\",\"ticks\":\"\"}},\"coloraxis\":{\"colorbar\":{\"outlinewidth\":0,\"ticks\":\"\"}},\"colorscale\":{\"sequential\":[[0.0,\"#0d0887\"],[0.1111111111111111,\"#46039f\"],[0.2222222222222222,\"#7201a8\"],[0.3333333333333333,\"#9c179e\"],[0.4444444444444444,\"#bd3786\"],[0.5555555555555556,\"#d8576b\"],[0.6666666666666666,\"#ed7953\"],[0.7777777777777778,\"#fb9f3a\"],[0.8888888888888888,\"#fdca26\"],[1.0,\"#f0f921\"]],\"sequentialminus\":[[0.0,\"#0d0887\"],[0.1111111111111111,\"#46039f\"],[0.2222222222222222,\"#7201a8\"],[0.3333333333333333,\"#9c179e\"],[0.4444444444444444,\"#bd3786\"],[0.5555555555555556,\"#d8576b\"],[0.6666666666666666,\"#ed7953\"],[0.7777777777777778,\"#fb9f3a\"],[0.8888888888888888,\"#fdca26\"],[1.0,\"#f0f921\"]],\"diverging\":[[0,\"#8e0152\"],[0.1,\"#c51b7d\"],[0.2,\"#de77ae\"],[0.3,\"#f1b6da\"],[0.4,\"#fde0ef\"],[0.5,\"#f7f7f7\"],[0.6,\"#e6f5d0\"],[0.7,\"#b8e186\"],[0.8,\"#7fbc41\"],[0.9,\"#4d9221\"],[1,\"#276419\"]]},\"xaxis\":{\"gridcolor\":\"white\",\"linecolor\":\"white\",\"ticks\":\"\",\"title\":{\"standoff\":15},\"zerolinecolor\":\"white\",\"automargin\":true,\"zerolinewidth\":2},\"yaxis\":{\"gridcolor\":\"white\",\"linecolor\":\"white\",\"ticks\":\"\",\"title\":{\"standoff\":15},\"zerolinecolor\":\"white\",\"automargin\":true,\"zerolinewidth\":2},\"scene\":{\"xaxis\":{\"backgroundcolor\":\"#E5ECF6\",\"gridcolor\":\"white\",\"linecolor\":\"white\",\"showbackground\":true,\"ticks\":\"\",\"zerolinecolor\":\"white\",\"gridwidth\":2},\"yaxis\":{\"backgroundcolor\":\"#E5ECF6\",\"gridcolor\":\"white\",\"linecolor\":\"white\",\"showbackground\":true,\"ticks\":\"\",\"zerolinecolor\":\"white\",\"gridwidth\":2},\"zaxis\":{\"backgroundcolor\":\"#E5ECF6\",\"gridcolor\":\"white\",\"linecolor\":\"white\",\"showbackground\":true,\"ticks\":\"\",\"zerolinecolor\":\"white\",\"gridwidth\":2}},\"shapedefaults\":{\"line\":{\"color\":\"#2a3f5f\"}},\"annotationdefaults\":{\"arrowcolor\":\"#2a3f5f\",\"arrowhead\":0,\"arrowwidth\":1},\"geo\":{\"bgcolor\":\"white\",\"landcolor\":\"#E5ECF6\",\"subunitcolor\":\"white\",\"showland\":true,\"showlakes\":true,\"lakecolor\":\"white\"},\"title\":{\"x\":0.05},\"mapbox\":{\"style\":\"light\"}}},\"legend\":{\"tracegroupgap\":0},\"title\":{\"text\":\"Total Tax based on payment Type\"}},                        {\"responsive\": true}                    ).then(function(){\n",
       "                            \n",
       "var gd = document.getElementById('8db25e6b-08cf-4c87-9ba1-8e439709434d');\n",
       "var x = new MutationObserver(function (mutations, observer) {{\n",
       "        var display = window.getComputedStyle(gd).display;\n",
       "        if (!display || display === 'none') {{\n",
       "            console.log([gd, 'removed!']);\n",
       "            Plotly.purge(gd);\n",
       "            observer.disconnect();\n",
       "        }}\n",
       "}});\n",
       "\n",
       "// Listen for the removal of the full notebook cells\n",
       "var notebookContainer = gd.closest('#notebook-container');\n",
       "if (notebookContainer) {{\n",
       "    x.observe(notebookContainer, {childList: true});\n",
       "}}\n",
       "\n",
       "// Listen for the clearing of the current output cell\n",
       "var outputEl = gd.closest('.output');\n",
       "if (outputEl) {{\n",
       "    x.observe(outputEl, {childList: true});\n",
       "}}\n",
       "\n",
       "                        })                };                });            </script>        </div>"
      ]
     },
     "metadata": {},
     "output_type": "display_data"
    }
   ],
   "source": [
    "\n",
    "pie = px.pie(names = df_filter['Payment'],values = df_filter[\"Tax 5%\"],data_frame = df_filter,hole = 0.4,title= \"Total Tax based on payment Type\")\n",
    "pie.show()"
   ]
  },
  {
   "cell_type": "markdown",
   "id": "b594c2e8-ec54-4b01-934b-0e3aeb25b0f9",
   "metadata": {},
   "source": [
    "### observations and Insights:\n",
    "* Cash payments generate the lowest tax amounts, indicating that customers using this method may be purchasing less expensive items or benefiting from more discounts.\n",
    "* Credit card transactions result in the highest tax, suggesting that these purchases are likely to be higher-value items, which could reflect a willingness to spend more among credit card users.\n",
    "* E-wallet payments fall in the middle regarding tax amounts, indicating a balanced purchasing behavior that could involve a mix of both lower and higher-priced items\n",
    "* The supermarket might consider promotions for cash payments to increase sales in that category, while also exploring ways to attract credit card users to specific high-ticket item"
   ]
  },
  {
   "cell_type": "markdown",
   "id": "84fb9d54-9a39-4c1d-8c32-37806b419035",
   "metadata": {},
   "source": [
    "## month vs Total"
   ]
  },
  {
   "cell_type": "code",
   "execution_count": 25,
   "id": "8c4ccdd7-5ace-448e-a1f8-1feac473e59c",
   "metadata": {},
   "outputs": [
    {
     "data": {
      "image/png": "[encoded data removed]",
      "text/plain": [
       "<Figure size 623.75x500 with 1 Axes>"
      ]
     },
     "metadata": {},
     "output_type": "display_data"
    }
   ],
   "source": [
    "sns.catplot(data=df_filter, kind=\"swarm\", x=\"Month\", y=\"Total\", hue=\"City\")\n",
    "plt.show()"
   ]
  },
  {
   "cell_type": "markdown",
   "id": "1fc621ed-1158-466d-a2cb-26fb5d0154cb",
   "metadata": {},
   "source": [
    "### observations and Insights ;\n",
    "* In the Swarm PLot we observed that all the months have all most same number of customers from the all cities.\n",
    "* There is no any major changes in count of customers  from all the cities in all the months.\n",
    "* so, We dont want to concentrate on any particular city or month that's why we want to focus all the cities to increase the gross and sales to next level."
   ]
  },
  {
   "cell_type": "markdown",
   "id": "a004c9e3-5fd0-41d0-9052-0d9177055a27",
   "metadata": {},
   "source": [
    "####  Most Frequent Visting Hours :"
   ]
  },
  {
   "cell_type": "code",
   "execution_count": 131,
   "id": "2f8a46f9-6731-4a8a-81d9-e57759a9d3da",
   "metadata": {},
   "outputs": [
    {
     "data": {
      "image/png": "[encoded data removed]",
      "text/plain": [
       "<Figure size 640x480 with 1 Axes>"
      ]
     },
     "metadata": {},
     "output_type": "display_data"
    }
   ],
   "source": [
    "df_filter[\"Time\"]=pd.to_datetime(df_filter[\"Time\"])\n",
    "df_filter[\"hour\"]=df_filter[\"Time\"].dt.hour\n",
    "sns.histplot(data=df_filter, x=\"hour\", color=\"g\", edgecolor=\"k\",kde=True ).set(title=\"Frequency of Visiting Hours\")\n",
    "\n",
    "plt.show()\n"
   ]
  },
  {
   "cell_type": "markdown",
   "id": "feabf24b-2afa-4910-a4f8-4d2868901773",
   "metadata": {},
   "source": [
    "### observations  and Insights:\n",
    "* From The histogram We conclude we Observed that most frequently Visiting Hours by Customers.\n",
    "* Intially i.e 10 am less number of custimers are visting But from 11 am to 3 pm medium crowd was visited.\n",
    "* From The plot We conclude that mostly cstomers are vistiing in this period of time i.e 4 pm to 7 pm.Because mosly working profissiona and working womens visited the sotre at the time.\n",
    "* To attract the customers at morning times to do some marketing promotions like lucky draws,discount % on home needs,offers on fashion Acesseroies,home needs  and electronics to attract both male and female customers "
   ]
  },
  {
   "cell_type": "markdown",
   "id": "988d50a5-30ec-4f9b-9d6d-7b02cd67e125",
   "metadata": {},
   "source": [
    "#### Year VS Total Transactions "
   ]
  },
  {
   "cell_type": "code",
   "execution_count": 146,
   "id": "85dff517-4551-46ef-9b93-4c307254efa1",
   "metadata": {},
   "outputs": [
    {
     "name": "stdout",
     "output_type": "stream",
     "text": [
      "  Branch  Invoice_Count    Total_Sum\n",
      "0      A            339  105161.0805\n",
      "1      B            330  104152.7970\n",
      "2      C            322  104441.4315\n",
      "  Month  Invoice ID\n",
      "0     1         347\n",
      "1     2         300\n",
      "2     3         344\n"
     ]
    },
    {
     "data": {
      "application/vnd.plotly.v1+json": {
       "config": {
        "plotlyServerURL": "https://plot.ly"
       },
       "data": [
        {
         "hovertemplate": "Month=%{x}<br>Invoice ID=%{y}<extra></extra>",
         "legendgroup": "",
         "line": {
          "color": "#636efa",
          "dash": "solid"
         },
         "marker": {
          "symbol": "circle"
         },
         "mode": "markers+lines",
         "name": "",
         "orientation": "v",
         "showlegend": false,
         "type": "scatter",
         "x": [
          "1",
          "2",
          "3"
         ],
         "xaxis": "x",
         "y": [
          347,
          300,
          344
         ],
         "yaxis": "y"
        }
       ],
       "layout": {
        "autosize": true,
        "legend": {
         "tracegroupgap": 0
        },
        "template": {
         "data": {
          "bar": [
           {
            "error_x": {
             "color": "#2a3f5f"
            },
            "error_y": {
             "color": "#2a3f5f"
            },
            "marker": {
             "line": {
              "color": "#E5ECF6",
              "width": 0.5
             },
             "pattern": {
              "fillmode": "overlay",
              "size": 10,
              "solidity": 0.2
             }
            },
            "type": "bar"
           }
          ],
          "barpolar": [
           {
            "marker": {
             "line": {
              "color": "#E5ECF6",
              "width": 0.5
             },
             "pattern": {
              "fillmode": "overlay",
              "size": 10,
              "solidity": 0.2
             }
            },
            "type": "barpolar"
           }
          ],
          "carpet": [
           {
            "aaxis": {
             "endlinecolor": "#2a3f5f",
             "gridcolor": "white",
             "linecolor": "white",
             "minorgridcolor": "white",
             "startlinecolor": "#2a3f5f"
            },
            "baxis": {
             "endlinecolor": "#2a3f5f",
             "gridcolor": "white",
             "linecolor": "white",
             "minorgridcolor": "white",
             "startlinecolor": "#2a3f5f"
            },
            "type": "carpet"
           }
          ],
          "choropleth": [
           {
            "colorbar": {
             "outlinewidth": 0,
             "ticks": ""
            },
            "type": "choropleth"
           }
          ],
          "contour": [
           {
            "colorbar": {
             "outlinewidth": 0,
             "ticks": ""
            },
            "colorscale": [
             [
              0,
              "#0d0887"
             ],
             [
              0.1111111111111111,
              "#46039f"
             ],
             [
              0.2222222222222222,
              "#7201a8"
             ],
             [
              0.3333333333333333,
              "#9c179e"
             ],
             [
              0.4444444444444444,
              "#bd3786"
             ],
             [
              0.5555555555555556,
              "#d8576b"
             ],
             [
              0.6666666666666666,
              "#ed7953"
             ],
             [
              0.7777777777777778,
              "#fb9f3a"
             ],
             [
              0.8888888888888888,
              "#fdca26"
             ],
             [
              1,
              "#f0f921"
             ]
            ],
            "type": "contour"
           }
          ],
          "contourcarpet": [
           {
            "colorbar": {
             "outlinewidth": 0,
             "ticks": ""
            },
            "type": "contourcarpet"
           }
          ],
          "heatmap": [
           {
            "colorbar": {
             "outlinewidth": 0,
             "ticks": ""
            },
            "colorscale": [
             [
              0,
              "#0d0887"
             ],
             [
              0.1111111111111111,
              "#46039f"
             ],
             [
              0.2222222222222222,
              "#7201a8"
             ],
             [
              0.3333333333333333,
              "#9c179e"
             ],
             [
              0.4444444444444444,
              "#bd3786"
             ],
             [
              0.5555555555555556,
              "#d8576b"
             ],
             [
              0.6666666666666666,
              "#ed7953"
             ],
             [
              0.7777777777777778,
              "#fb9f3a"
             ],
             [
              0.8888888888888888,
              "#fdca26"
             ],
             [
              1,
              "#f0f921"
             ]
            ],
            "type": "heatmap"
           }
          ],
          "heatmapgl": [
           {
            "colorbar": {
             "outlinewidth": 0,
             "ticks": ""
            },
            "colorscale": [
             [
              0,
              "#0d0887"
             ],
             [
              0.1111111111111111,
              "#46039f"
             ],
             [
              0.2222222222222222,
              "#7201a8"
             ],
             [
              0.3333333333333333,
              "#9c179e"
             ],
             [
              0.4444444444444444,
              "#bd3786"
             ],
             [
              0.5555555555555556,
              "#d8576b"
             ],
             [
              0.6666666666666666,
              "#ed7953"
             ],
             [
              0.7777777777777778,
              "#fb9f3a"
             ],
             [
              0.8888888888888888,
              "#fdca26"
             ],
             [
              1,
              "#f0f921"
             ]
            ],
            "type": "heatmapgl"
           }
          ],
          "histogram": [
           {
            "marker": {
             "pattern": {
              "fillmode": "overlay",
              "size": 10,
              "solidity": 0.2
             }
            },
            "type": "histogram"
           }
          ],
          "histogram2d": [
           {
            "colorbar": {
             "outlinewidth": 0,
             "ticks": ""
            },
            "colorscale": [
             [
              0,
              "#0d0887"
             ],
             [
              0.1111111111111111,
              "#46039f"
             ],
             [
              0.2222222222222222,
              "#7201a8"
             ],
             [
              0.3333333333333333,
              "#9c179e"
             ],
             [
              0.4444444444444444,
              "#bd3786"
             ],
             [
              0.5555555555555556,
              "#d8576b"
             ],
             [
              0.6666666666666666,
              "#ed7953"
             ],
             [
              0.7777777777777778,
              "#fb9f3a"
             ],
             [
              0.8888888888888888,
              "#fdca26"
             ],
             [
              1,
              "#f0f921"
             ]
            ],
            "type": "histogram2d"
           }
          ],
          "histogram2dcontour": [
           {
            "colorbar": {
             "outlinewidth": 0,
             "ticks": ""
            },
            "colorscale": [
             [
              0,
              "#0d0887"
             ],
             [
              0.1111111111111111,
              "#46039f"
             ],
             [
              0.2222222222222222,
              "#7201a8"
             ],
             [
              0.3333333333333333,
              "#9c179e"
             ],
             [
              0.4444444444444444,
              "#bd3786"
             ],
             [
              0.5555555555555556,
              "#d8576b"
             ],
             [
              0.6666666666666666,
              "#ed7953"
             ],
             [
              0.7777777777777778,
              "#fb9f3a"
             ],
             [
              0.8888888888888888,
              "#fdca26"
             ],
             [
              1,
              "#f0f921"
             ]
            ],
            "type": "histogram2dcontour"
           }
          ],
          "mesh3d": [
           {
            "colorbar": {
             "outlinewidth": 0,
             "ticks": ""
            },
            "type": "mesh3d"
           }
          ],
          "parcoords": [
           {
            "line": {
             "colorbar": {
              "outlinewidth": 0,
              "ticks": ""
             }
            },
            "type": "parcoords"
           }
          ],
          "pie": [
           {
            "automargin": true,
            "type": "pie"
           }
          ],
          "scatter": [
           {
            "fillpattern": {
             "fillmode": "overlay",
             "size": 10,
             "solidity": 0.2
            },
            "type": "scatter"
           }
          ],
          "scatter3d": [
           {
            "line": {
             "colorbar": {
              "outlinewidth": 0,
              "ticks": ""
             }
            },
            "marker": {
             "colorbar": {
              "outlinewidth": 0,
              "ticks": ""
             }
            },
            "type": "scatter3d"
           }
          ],
          "scattercarpet": [
           {
            "marker": {
             "colorbar": {
              "outlinewidth": 0,
              "ticks": ""
             }
            },
            "type": "scattercarpet"
           }
          ],
          "scattergeo": [
           {
            "marker": {
             "colorbar": {
              "outlinewidth": 0,
              "ticks": ""
             }
            },
            "type": "scattergeo"
           }
          ],
          "scattergl": [
           {
            "marker": {
             "colorbar": {
              "outlinewidth": 0,
              "ticks": ""
             }
            },
            "type": "scattergl"
           }
          ],
          "scattermapbox": [
           {
            "marker": {
             "colorbar": {
              "outlinewidth": 0,
              "ticks": ""
             }
            },
            "type": "scattermapbox"
           }
          ],
          "scatterpolar": [
           {
            "marker": {
             "colorbar": {
              "outlinewidth": 0,
              "ticks": ""
             }
            },
            "type": "scatterpolar"
           }
          ],
          "scatterpolargl": [
           {
            "marker": {
             "colorbar": {
              "outlinewidth": 0,
              "ticks": ""
             }
            },
            "type": "scatterpolargl"
           }
          ],
          "scatterternary": [
           {
            "marker": {
             "colorbar": {
              "outlinewidth": 0,
              "ticks": ""
             }
            },
            "type": "scatterternary"
           }
          ],
          "surface": [
           {
            "colorbar": {
             "outlinewidth": 0,
             "ticks": ""
            },
            "colorscale": [
             [
              0,
              "#0d0887"
             ],
             [
              0.1111111111111111,
              "#46039f"
             ],
             [
              0.2222222222222222,
              "#7201a8"
             ],
             [
              0.3333333333333333,
              "#9c179e"
             ],
             [
              0.4444444444444444,
              "#bd3786"
             ],
             [
              0.5555555555555556,
              "#d8576b"
             ],
             [
              0.6666666666666666,
              "#ed7953"
             ],
             [
              0.7777777777777778,
              "#fb9f3a"
             ],
             [
              0.8888888888888888,
              "#fdca26"
             ],
             [
              1,
              "#f0f921"
             ]
            ],
            "type": "surface"
           }
          ],
          "table": [
           {
            "cells": {
             "fill": {
              "color": "#EBF0F8"
             },
             "line": {
              "color": "white"
             }
            },
            "header": {
             "fill": {
              "color": "#C8D4E3"
             },
             "line": {
              "color": "white"
             }
            },
            "type": "table"
           }
          ]
         },
         "layout": {
          "annotationdefaults": {
           "arrowcolor": "#2a3f5f",
           "arrowhead": 0,
           "arrowwidth": 1
          },
          "autotypenumbers": "strict",
          "coloraxis": {
           "colorbar": {
            "outlinewidth": 0,
            "ticks": ""
           }
          },
          "colorscale": {
           "diverging": [
            [
             0,
             "#8e0152"
            ],
            [
             0.1,
             "#c51b7d"
            ],
            [
             0.2,
             "#de77ae"
            ],
            [
             0.3,
             "#f1b6da"
            ],
            [
             0.4,
             "#fde0ef"
            ],
            [
             0.5,
             "#f7f7f7"
            ],
            [
             0.6,
             "#e6f5d0"
            ],
            [
             0.7,
             "#b8e186"
            ],
            [
             0.8,
             "#7fbc41"
            ],
            [
             0.9,
             "#4d9221"
            ],
            [
             1,
             "#276419"
            ]
           ],
           "sequential": [
            [
             0,
             "#0d0887"
            ],
            [
             0.1111111111111111,
             "#46039f"
            ],
            [
             0.2222222222222222,
             "#7201a8"
            ],
            [
             0.3333333333333333,
             "#9c179e"
            ],
            [
             0.4444444444444444,
             "#bd3786"
            ],
            [
             0.5555555555555556,
             "#d8576b"
            ],
            [
             0.6666666666666666,
             "#ed7953"
            ],
            [
             0.7777777777777778,
             "#fb9f3a"
            ],
            [
             0.8888888888888888,
             "#fdca26"
            ],
            [
             1,
             "#f0f921"
            ]
           ],
           "sequentialminus": [
            [
             0,
             "#0d0887"
            ],
            [
             0.1111111111111111,
             "#46039f"
            ],
            [
             0.2222222222222222,
             "#7201a8"
            ],
            [
             0.3333333333333333,
             "#9c179e"
            ],
            [
             0.4444444444444444,
             "#bd3786"
            ],
            [
             0.5555555555555556,
             "#d8576b"
            ],
            [
             0.6666666666666666,
             "#ed7953"
            ],
            [
             0.7777777777777778,
             "#fb9f3a"
            ],
            [
             0.8888888888888888,
             "#fdca26"
            ],
            [
             1,
             "#f0f921"
            ]
           ]
          },
          "colorway": [
           "#636efa",
           "#EF553B",
           "#00cc96",
           "#ab63fa",
           "#FFA15A",
           "#19d3f3",
           "#FF6692",
           "#B6E880",
           "#FF97FF",
           "#FECB52"
          ],
          "font": {
           "color": "#2a3f5f"
          },
          "geo": {
           "bgcolor": "white",
           "lakecolor": "white",
           "landcolor": "#E5ECF6",
           "showlakes": true,
           "showland": true,
           "subunitcolor": "white"
          },
          "hoverlabel": {
           "align": "left"
          },
          "hovermode": "closest",
          "mapbox": {
           "style": "light"
          },
          "paper_bgcolor": "white",
          "plot_bgcolor": "#E5ECF6",
          "polar": {
           "angularaxis": {
            "gridcolor": "white",
            "linecolor": "white",
            "ticks": ""
           },
           "bgcolor": "#E5ECF6",
           "radialaxis": {
            "gridcolor": "white",
            "linecolor": "white",
            "ticks": ""
           }
          },
          "scene": {
           "xaxis": {
            "backgroundcolor": "#E5ECF6",
            "gridcolor": "white",
            "gridwidth": 2,
            "linecolor": "white",
            "showbackground": true,
            "ticks": "",
            "zerolinecolor": "white"
           },
           "yaxis": {
            "backgroundcolor": "#E5ECF6",
            "gridcolor": "white",
            "gridwidth": 2,
            "linecolor": "white",
            "showbackground": true,
            "ticks": "",
            "zerolinecolor": "white"
           },
           "zaxis": {
            "backgroundcolor": "#E5ECF6",
            "gridcolor": "white",
            "gridwidth": 2,
            "linecolor": "white",
            "showbackground": true,
            "ticks": "",
            "zerolinecolor": "white"
           }
          },
          "shapedefaults": {
           "line": {
            "color": "#2a3f5f"
           }
          },
          "ternary": {
           "aaxis": {
            "gridcolor": "white",
            "linecolor": "white",
            "ticks": ""
           },
           "baxis": {
            "gridcolor": "white",
            "linecolor": "white",
            "ticks": ""
           },
           "bgcolor": "#E5ECF6",
           "caxis": {
            "gridcolor": "white",
            "linecolor": "white",
            "ticks": ""
           }
          },
          "title": {
           "x": 0.05
          },
          "xaxis": {
           "automargin": true,
           "gridcolor": "white",
           "linecolor": "white",
           "ticks": "",
           "title": {
            "standoff": 15
           },
           "zerolinecolor": "white",
           "zerolinewidth": 2
          },
          "yaxis": {
           "automargin": true,
           "gridcolor": "white",
           "linecolor": "white",
           "ticks": "",
           "title": {
            "standoff": 15
           },
           "zerolinecolor": "white",
           "zerolinewidth": 2
          }
         }
        },
        "title": {
         "text": " Total No of Sales(Month Wise Analysis)"
        },
        "xaxis": {
         "anchor": "y",
         "autorange": true,
         "domain": [
          0,
          1
         ],
         "range": [
          -0.12101759391345698,
          2.121017593913457
         ],
         "title": {
          "text": "Month"
         },
         "type": "category"
        },
        "yaxis": {
         "anchor": "x",
         "autorange": true,
         "domain": [
          0,
          1
         ],
         "range": [
          296.121359223301,
          350.878640776699
         ],
         "title": {
          "text": "Invoice ID"
         },
         "type": "linear"
        }
       }
      },
      "image/png": "[encoded data removed]",
      "text/html": [
       "<div>                            <div id=\"9cfb5a1c-9d74-46f4-8f7b-b3f1f5361d20\" class=\"plotly-graph-div\" style=\"height:525px; width:100%;\"></div>            <script type=\"text/javascript\">                require([\"plotly\"], function(Plotly) {                    window.PLOTLYENV=window.PLOTLYENV || {};                                    if (document.getElementById(\"9cfb5a1c-9d74-46f4-8f7b-b3f1f5361d20\")) {                    Plotly.newPlot(                        \"9cfb5a1c-9d74-46f4-8f7b-b3f1f5361d20\",                        [{\"hovertemplate\":\"Month=%{x}<br>Invoice ID=%{y}<extra></extra>\",\"legendgroup\":\"\",\"line\":{\"color\":\"#636efa\",\"dash\":\"solid\"},\"marker\":{\"symbol\":\"circle\"},\"mode\":\"markers+lines\",\"name\":\"\",\"orientation\":\"v\",\"showlegend\":false,\"x\":[\"1\",\"2\",\"3\"],\"xaxis\":\"x\",\"y\":[347,300,344],\"yaxis\":\"y\",\"type\":\"scatter\"}],                        {\"template\":{\"data\":{\"histogram2dcontour\":[{\"type\":\"histogram2dcontour\",\"colorbar\":{\"outlinewidth\":0,\"ticks\":\"\"},\"colorscale\":[[0.0,\"#0d0887\"],[0.1111111111111111,\"#46039f\"],[0.2222222222222222,\"#7201a8\"],[0.3333333333333333,\"#9c179e\"],[0.4444444444444444,\"#bd3786\"],[0.5555555555555556,\"#d8576b\"],[0.6666666666666666,\"#ed7953\"],[0.7777777777777778,\"#fb9f3a\"],[0.8888888888888888,\"#fdca26\"],[1.0,\"#f0f921\"]]}],\"choropleth\":[{\"type\":\"choropleth\",\"colorbar\":{\"outlinewidth\":0,\"ticks\":\"\"}}],\"histogram2d\":[{\"type\":\"histogram2d\",\"colorbar\":{\"outlinewidth\":0,\"ticks\":\"\"},\"colorscale\":[[0.0,\"#0d0887\"],[0.1111111111111111,\"#46039f\"],[0.2222222222222222,\"#7201a8\"],[0.3333333333333333,\"#9c179e\"],[0.4444444444444444,\"#bd3786\"],[0.5555555555555556,\"#d8576b\"],[0.6666666666666666,\"#ed7953\"],[0.7777777777777778,\"#fb9f3a\"],[0.8888888888888888,\"#fdca26\"],[1.0,\"#f0f921\"]]}],\"heatmap\":[{\"type\":\"heatmap\",\"colorbar\":{\"outlinewidth\":0,\"ticks\":\"\"},\"colorscale\":[[0.0,\"#0d0887\"],[0.1111111111111111,\"#46039f\"],[0.2222222222222222,\"#7201a8\"],[0.3333333333333333,\"#9c179e\"],[0.4444444444444444,\"#bd3786\"],[0.5555555555555556,\"#d8576b\"],[0.6666666666666666,\"#ed7953\"],[0.7777777777777778,\"#fb9f3a\"],[0.8888888888888888,\"#fdca26\"],[1.0,\"#f0f921\"]]}],\"heatmapgl\":[{\"type\":\"heatmapgl\",\"colorbar\":{\"outlinewidth\":0,\"ticks\":\"\"},\"colorscale\":[[0.0,\"#0d0887\"],[0.1111111111111111,\"#46039f\"],[0.2222222222222222,\"#7201a8\"],[0.3333333333333333,\"#9c179e\"],[0.4444444444444444,\"#bd3786\"],[0.5555555555555556,\"#d8576b\"],[0.6666666666666666,\"#ed7953\"],[0.7777777777777778,\"#fb9f3a\"],[0.8888888888888888,\"#fdca26\"],[1.0,\"#f0f921\"]]}],\"contourcarpet\":[{\"type\":\"contourcarpet\",\"colorbar\":{\"outlinewidth\":0,\"ticks\":\"\"}}],\"contour\":[{\"type\":\"contour\",\"colorbar\":{\"outlinewidth\":0,\"ticks\":\"\"},\"colorscale\":[[0.0,\"#0d0887\"],[0.1111111111111111,\"#46039f\"],[0.2222222222222222,\"#7201a8\"],[0.3333333333333333,\"#9c179e\"],[0.4444444444444444,\"#bd3786\"],[0.5555555555555556,\"#d8576b\"],[0.6666666666666666,\"#ed7953\"],[0.7777777777777778,\"#fb9f3a\"],[0.8888888888888888,\"#fdca26\"],[1.0,\"#f0f921\"]]}],\"surface\":[{\"type\":\"surface\",\"colorbar\":{\"outlinewidth\":0,\"ticks\":\"\"},\"colorscale\":[[0.0,\"#0d0887\"],[0.1111111111111111,\"#46039f\"],[0.2222222222222222,\"#7201a8\"],[0.3333333333333333,\"#9c179e\"],[0.4444444444444444,\"#bd3786\"],[0.5555555555555556,\"#d8576b\"],[0.6666666666666666,\"#ed7953\"],[0.7777777777777778,\"#fb9f3a\"],[0.8888888888888888,\"#fdca26\"],[1.0,\"#f0f921\"]]}],\"mesh3d\":[{\"type\":\"mesh3d\",\"colorbar\":{\"outlinewidth\":0,\"ticks\":\"\"}}],\"scatter\":[{\"fillpattern\":{\"fillmode\":\"overlay\",\"size\":10,\"solidity\":0.2},\"type\":\"scatter\"}],\"parcoords\":[{\"type\":\"parcoords\",\"line\":{\"colorbar\":{\"outlinewidth\":0,\"ticks\":\"\"}}}],\"scatterpolargl\":[{\"type\":\"scatterpolargl\",\"marker\":{\"colorbar\":{\"outlinewidth\":0,\"ticks\":\"\"}}}],\"bar\":[{\"error_x\":{\"color\":\"#2a3f5f\"},\"error_y\":{\"color\":\"#2a3f5f\"},\"marker\":{\"line\":{\"color\":\"#E5ECF6\",\"width\":0.5},\"pattern\":{\"fillmode\":\"overlay\",\"size\":10,\"solidity\":0.2}},\"type\":\"bar\"}],\"scattergeo\":[{\"type\":\"scattergeo\",\"marker\":{\"colorbar\":{\"outlinewidth\":0,\"ticks\":\"\"}}}],\"scatterpolar\":[{\"type\":\"scatterpolar\",\"marker\":{\"colorbar\":{\"outlinewidth\":0,\"ticks\":\"\"}}}],\"histogram\":[{\"marker\":{\"pattern\":{\"fillmode\":\"overlay\",\"size\":10,\"solidity\":0.2}},\"type\":\"histogram\"}],\"scattergl\":[{\"type\":\"scattergl\",\"marker\":{\"colorbar\":{\"outlinewidth\":0,\"ticks\":\"\"}}}],\"scatter3d\":[{\"type\":\"scatter3d\",\"line\":{\"colorbar\":{\"outlinewidth\":0,\"ticks\":\"\"}},\"marker\":{\"colorbar\":{\"outlinewidth\":0,\"ticks\":\"\"}}}],\"scattermapbox\":[{\"type\":\"scattermapbox\",\"marker\":{\"colorbar\":{\"outlinewidth\":0,\"ticks\":\"\"}}}],\"scatterternary\":[{\"type\":\"scatterternary\",\"marker\":{\"colorbar\":{\"outlinewidth\":0,\"ticks\":\"\"}}}],\"scattercarpet\":[{\"type\":\"scattercarpet\",\"marker\":{\"colorbar\":{\"outlinewidth\":0,\"ticks\":\"\"}}}],\"carpet\":[{\"aaxis\":{\"endlinecolor\":\"#2a3f5f\",\"gridcolor\":\"white\",\"linecolor\":\"white\",\"minorgridcolor\":\"white\",\"startlinecolor\":\"#2a3f5f\"},\"baxis\":{\"endlinecolor\":\"#2a3f5f\",\"gridcolor\":\"white\",\"linecolor\":\"white\",\"minorgridcolor\":\"white\",\"startlinecolor\":\"#2a3f5f\"},\"type\":\"carpet\"}],\"table\":[{\"cells\":{\"fill\":{\"color\":\"#EBF0F8\"},\"line\":{\"color\":\"white\"}},\"header\":{\"fill\":{\"color\":\"#C8D4E3\"},\"line\":{\"color\":\"white\"}},\"type\":\"table\"}],\"barpolar\":[{\"marker\":{\"line\":{\"color\":\"#E5ECF6\",\"width\":0.5},\"pattern\":{\"fillmode\":\"overlay\",\"size\":10,\"solidity\":0.2}},\"type\":\"barpolar\"}],\"pie\":[{\"automargin\":true,\"type\":\"pie\"}]},\"layout\":{\"autotypenumbers\":\"strict\",\"colorway\":[\"#636efa\",\"#EF553B\",\"#00cc96\",\"#ab63fa\",\"#FFA15A\",\"#19d3f3\",\"#FF6692\",\"#B6E880\",\"#FF97FF\",\"#FECB52\"],\"font\":{\"color\":\"#2a3f5f\"},\"hovermode\":\"closest\",\"hoverlabel\":{\"align\":\"left\"},\"paper_bgcolor\":\"white\",\"plot_bgcolor\":\"#E5ECF6\",\"polar\":{\"bgcolor\":\"#E5ECF6\",\"angularaxis\":{\"gridcolor\":\"white\",\"linecolor\":\"white\",\"ticks\":\"\"},\"radialaxis\":{\"gridcolor\":\"white\",\"linecolor\":\"white\",\"ticks\":\"\"}},\"ternary\":{\"bgcolor\":\"#E5ECF6\",\"aaxis\":{\"gridcolor\":\"white\",\"linecolor\":\"white\",\"ticks\":\"\"},\"baxis\":{\"gridcolor\":\"white\",\"linecolor\":\"white\",\"ticks\":\"\"},\"caxis\":{\"gridcolor\":\"white\",\"linecolor\":\"white\",\"ticks\":\"\"}},\"coloraxis\":{\"colorbar\":{\"outlinewidth\":0,\"ticks\":\"\"}},\"colorscale\":{\"sequential\":[[0.0,\"#0d0887\"],[0.1111111111111111,\"#46039f\"],[0.2222222222222222,\"#7201a8\"],[0.3333333333333333,\"#9c179e\"],[0.4444444444444444,\"#bd3786\"],[0.5555555555555556,\"#d8576b\"],[0.6666666666666666,\"#ed7953\"],[0.7777777777777778,\"#fb9f3a\"],[0.8888888888888888,\"#fdca26\"],[1.0,\"#f0f921\"]],\"sequentialminus\":[[0.0,\"#0d0887\"],[0.1111111111111111,\"#46039f\"],[0.2222222222222222,\"#7201a8\"],[0.3333333333333333,\"#9c179e\"],[0.4444444444444444,\"#bd3786\"],[0.5555555555555556,\"#d8576b\"],[0.6666666666666666,\"#ed7953\"],[0.7777777777777778,\"#fb9f3a\"],[0.8888888888888888,\"#fdca26\"],[1.0,\"#f0f921\"]],\"diverging\":[[0,\"#8e0152\"],[0.1,\"#c51b7d\"],[0.2,\"#de77ae\"],[0.3,\"#f1b6da\"],[0.4,\"#fde0ef\"],[0.5,\"#f7f7f7\"],[0.6,\"#e6f5d0\"],[0.7,\"#b8e186\"],[0.8,\"#7fbc41\"],[0.9,\"#4d9221\"],[1,\"#276419\"]]},\"xaxis\":{\"gridcolor\":\"white\",\"linecolor\":\"white\",\"ticks\":\"\",\"title\":{\"standoff\":15},\"zerolinecolor\":\"white\",\"automargin\":true,\"zerolinewidth\":2},\"yaxis\":{\"gridcolor\":\"white\",\"linecolor\":\"white\",\"ticks\":\"\",\"title\":{\"standoff\":15},\"zerolinecolor\":\"white\",\"automargin\":true,\"zerolinewidth\":2},\"scene\":{\"xaxis\":{\"backgroundcolor\":\"#E5ECF6\",\"gridcolor\":\"white\",\"linecolor\":\"white\",\"showbackground\":true,\"ticks\":\"\",\"zerolinecolor\":\"white\",\"gridwidth\":2},\"yaxis\":{\"backgroundcolor\":\"#E5ECF6\",\"gridcolor\":\"white\",\"linecolor\":\"white\",\"showbackground\":true,\"ticks\":\"\",\"zerolinecolor\":\"white\",\"gridwidth\":2},\"zaxis\":{\"backgroundcolor\":\"#E5ECF6\",\"gridcolor\":\"white\",\"linecolor\":\"white\",\"showbackground\":true,\"ticks\":\"\",\"zerolinecolor\":\"white\",\"gridwidth\":2}},\"shapedefaults\":{\"line\":{\"color\":\"#2a3f5f\"}},\"annotationdefaults\":{\"arrowcolor\":\"#2a3f5f\",\"arrowhead\":0,\"arrowwidth\":1},\"geo\":{\"bgcolor\":\"white\",\"landcolor\":\"#E5ECF6\",\"subunitcolor\":\"white\",\"showland\":true,\"showlakes\":true,\"lakecolor\":\"white\"},\"title\":{\"x\":0.05},\"mapbox\":{\"style\":\"light\"}}},\"xaxis\":{\"anchor\":\"y\",\"domain\":[0.0,1.0],\"title\":{\"text\":\"Month\"}},\"yaxis\":{\"anchor\":\"x\",\"domain\":[0.0,1.0],\"title\":{\"text\":\"Invoice ID\"}},\"legend\":{\"tracegroupgap\":0},\"title\":{\"text\":\" Total No of Sales(Month Wise Analysis)\"}},                        {\"responsive\": true}                    ).then(function(){\n",
       "                            \n",
       "var gd = document.getElementById('9cfb5a1c-9d74-46f4-8f7b-b3f1f5361d20');\n",
       "var x = new MutationObserver(function (mutations, observer) {{\n",
       "        var display = window.getComputedStyle(gd).display;\n",
       "        if (!display || display === 'none') {{\n",
       "            console.log([gd, 'removed!']);\n",
       "            Plotly.purge(gd);\n",
       "            observer.disconnect();\n",
       "        }}\n",
       "}});\n",
       "\n",
       "// Listen for the removal of the full notebook cells\n",
       "var notebookContainer = gd.closest('#notebook-container');\n",
       "if (notebookContainer) {{\n",
       "    x.observe(notebookContainer, {childList: true});\n",
       "}}\n",
       "\n",
       "// Listen for the clearing of the current output cell\n",
       "var outputEl = gd.closest('.output');\n",
       "if (outputEl) {{\n",
       "    x.observe(outputEl, {childList: true});\n",
       "}}\n",
       "\n",
       "                        })                };                });            </script>        </div>"
      ]
     },
     "metadata": {},
     "output_type": "display_data"
    }
   ],
   "source": [
    "\n",
    "df_filter[\"Month\"] = df_filter[\"Month\"].astype(\"str\")\n",
    "\n",
    "sum_and_sales = df_filter.groupby('Branch').agg(\n",
    "    Invoice_Count=('Invoice ID', 'count'),\n",
    "    Total_Sum=('Total', 'sum')\n",
    ").reset_index()\n",
    "print(sum_and_sales)\n",
    "monthly_transactions = df_filter.groupby(\"Month\")['Invoice ID'].count().reset_index()\n",
    "print(monthly_transactions)\n",
    "px.line(x= \"Month\",y= \"Invoice ID\",data_frame = monthly_transactions,markers= True,title= \" Total No of Sales(Month Wise Analysis)\")"
   ]
  },
  {
   "cell_type": "markdown",
   "id": "10de2a22-658d-496b-b8b1-441baef18237",
   "metadata": {},
   "source": [
    "### observations and Insights :\n",
    "* By Observing The lineplot We Observed That In month 2 have slightly less number of sales as compared to remaning Both Months.\n",
    "* That Means Total Sales amount also less in the month 2 as compared to remaining both months.\n",
    "* But on the another side there is no any major differences among the all months.\n",
    "* so instead of concentrating one month to concentrate all months and add some efforts on promotions and quality to increase to sales to next step.\n",
    "\n"
   ]
  },
  {
   "cell_type": "markdown",
   "id": "406bf5a0-857d-4104-906c-c6f5f506d6c8",
   "metadata": {},
   "source": [
    "### conclusion :"
   ]
  },
  {
   "cell_type": "markdown",
   "id": "540e98b5-ecb4-4cfd-8561-cac47904cd9f",
   "metadata": {},
   "source": [
    "\n",
    "* In all The Branches have same number of sales and gross and sales amount There is no any major changes in these branches.\n",
    "* The analysis indicates that Branch A outperforms Branches B and C, highlighting the need for targeted marketing efforts and discounts to boost sales    in the latter branches.\n",
    "* Higher numbers of male customers in Yangon and Mandalay suggest opportunities to promote health, beauty, food, and fashion products to attract female   shoppers.\n",
    "* In Naypyitaw, where female customers dominate, strategies should focus on appealing to male customers through promotions on electronic accessories      and health products.\n",
    "* Consistent membership counts across branches present an opportunity to convert normal customers into members by emphasizing the benefits of        membership programs.\n",
    "* Male customers lead in health and beauty and electronic accessories, while female customers dominate groceries, clothing, and home goods, underscoring the need for tailored marketing strategies.\n",
    "* A strong preference for cash and e-wallet transactions reflects customer desires for convenience, suggesting that promoting the security of digital payments could enhance the customer experience.\n",
    "* The positive correlation between unit price and tax indicates that higher-priced items contribute significantly to tax revenue, aiding in pricing  strategy development.\n",
    "* Sales patterns show fluctuations throughout the month, with peaks on specific days (15th, 20th, and 28th) and lower sales at the month's beginning and end, indicating that promotions during slower days could stabilize revenue.\n",
    "* Consistent customer counts across months suggest that a broad marketing approach targeting all cities is more effective than focusing on specific locations or times.\n",
    "* Peak shopping hours are from 4 PM to 7 PM, indicating potential for morning promotions on home needs and fashion accessories to attract additional shoppers.\n",
    "* Month-to-month sales variability is minimal, suggesting that consistent promotional efforts throughout the year can enhance overall sales performance.\n",
    "* Leveraging these insights through strategic marketing, targeted promotions, and attention to customer preferences will improve sales performance, customer satisfaction, and overall revenue growth."
   ]
  },
  {
   "cell_type": "code",
   "execution_count": null,
   "id": "7cb8f1b7-b13a-4069-b896-3d1555d3d577",
   "metadata": {},
   "outputs": [],
   "source": []
  }
 ],
 "metadata": {
  "kernelspec": {
   "display_name": "Python 3 (ipykernel)",
   "language": "python",
   "name": "python3"
  },
  "language_info": {
   "codemirror_mode": {
    "name": "ipython",
    "version": 3
   },
   "file_extension": ".py",
   "mimetype": "text/x-python",
   "name": "python",
   "nbconvert_exporter": "python",
   "pygments_lexer": "ipython3",
   "version": "3.11.7"
  }
 },
 "nbformat": 4,
 "nbformat_minor": 5
}
